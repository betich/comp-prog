{
 "cells": [
  {
   "cell_type": "markdown",
   "metadata": {},
   "source": [
    "## [07_StrFile_11] 07_StrFile_★_Plural"
   ]
  },
  {
   "cell_type": "code",
   "execution_count": 11,
   "metadata": {},
   "outputs": [
    {
     "name": "stdout",
     "output_type": "stream",
     "text": [
      "lunches\n"
     ]
    }
   ],
   "source": [
    "word = input()\n",
    "if any([word.endswith(e) for e in ['s', 'x', 'ch']]):\n",
    "  word += \"es\"\n",
    "elif word[-1] == 'y' and (word[-2] not in ['a', 'e', 'i', 'o', 'u']):\n",
    "  word = word[:-1] + \"ies\"\n",
    "else:\n",
    "  word += \"s\"\n",
    "print(word)"
   ]
  },
  {
   "cell_type": "markdown",
   "metadata": {},
   "source": [
    "## [07_StrFile_13] 07_StrFile_★_CamelCase"
   ]
  },
  {
   "cell_type": "code",
   "execution_count": 24,
   "metadata": {},
   "outputs": [
    {
     "name": "stdout",
     "output_type": "stream",
     "text": [
      "printE\n"
     ]
    }
   ],
   "source": [
    "import re\n",
    "\n",
    "s = input()\n",
    "s = re.sub('[^0-9a-zA-Z\\s]+', ' ', s)\n",
    "\n",
    "print(\"\".join([e.lower() if i == 0 else e[0].upper() + e[1:].lower() for i, e in enumerate(s.split())]))"
   ]
  },
  {
   "cell_type": "markdown",
   "metadata": {},
   "source": [
    "## [07_StrFile_21] 07_StrFile_★★_Rot13"
   ]
  },
  {
   "cell_type": "code",
   "execution_count": 39,
   "metadata": {},
   "outputs": [
    {
     "name": "stdout",
     "output_type": "stream",
     "text": [
      "v frr gerrf bs terra, Erq ebfrf gbb!\n"
     ]
    }
   ],
   "source": [
    "lines = []\n",
    "\n",
    "def rot13(c):\n",
    "  if c.isalpha():\n",
    "    if c.islower():\n",
    "      return chr(((ord(c) - ord('a') + 13) % 26) + ord('a'))\n",
    "    else:\n",
    "      return chr(((ord(c) - ord('A') + 13) % 26) + ord('A'))\n",
    "  else:\n",
    "    return c\n",
    "\n",
    "# while (line := input()) != \"end\":\n",
    "while True:\n",
    "  line = input()\n",
    "  if line == \"end\":\n",
    "    break\n",
    "  \n",
    "  lines.append(\"\".join([rot13(c) for c in [*line]]))\n",
    "\n",
    "print(\"\\n\".join(lines))"
   ]
  },
  {
   "cell_type": "markdown",
   "metadata": {},
   "source": [
    "## [07_StrFile_22] 07_StrFile_★★_Anagram"
   ]
  },
  {
   "cell_type": "code",
   "execution_count": 71,
   "metadata": {},
   "outputs": [
    {
     "name": "stdout",
     "output_type": "stream",
     "text": [
      "YES\n"
     ]
    }
   ],
   "source": [
    "i=input;x=lambda a:[*a.lower().replace(\" \", \"\")]\n",
    "a=x(i());b=x(i())\n",
    "print(\"YES\"if sorted(a)==sorted(b)else\"NO\")"
   ]
  },
  {
   "cell_type": "markdown",
   "metadata": {},
   "source": [
    "## [07_StrFile_23] 07_StrFile_★★_File_Min_Max_Average"
   ]
  },
  {
   "cell_type": "code",
   "execution_count": 84,
   "metadata": {},
   "outputs": [
    {
     "name": "stdout",
     "output_type": "stream",
     "text": [
      "No Data\n"
     ]
    }
   ],
   "source": [
    "[file, year] = input().split()\n",
    "lines = map(lambda a: a.strip().split(), open(file).readlines())\n",
    "\n",
    "scores = [float(e[1]) for e in filter(lambda a: a[0][:2] == year[-2:], lines)]\n",
    "if len(scores) > 0:\n",
    "  print(min(scores), max(scores), sum(scores) / len(scores))\n",
    "else:\n",
    "  print(\"No data\")"
   ]
  },
  {
   "cell_type": "markdown",
   "metadata": {},
   "source": [
    "## [07_StrFile_32] 07_StrFile_★★★_Password_Strength"
   ]
  },
  {
   "cell_type": "code",
   "execution_count": 77,
   "metadata": {},
   "outputs": [
    {
     "name": "stdout",
     "output_type": "stream",
     "text": [
      "Letter sequence\n"
     ]
    }
   ],
   "source": [
    "def no_lowercase(t):\n",
    "  return all([not e.islower() for e in t])\n",
    "\n",
    "def no_uppercase(t):\n",
    "  return all([not e.isupper() for e in t])\n",
    "\n",
    "def no_number(t):\n",
    "  return all([not e.isnumeric() for e in t])\n",
    "\n",
    "def no_symbol(t):\n",
    "  return all([e.isalnum() for e in t])\n",
    "\n",
    "def character_repetition(t):\n",
    "  return any([t[i:i+4] == t[i]*4 for i in range(len(t) - 3)])\n",
    "\n",
    "def number_sequence(t):\n",
    "  raw_nums = \"012345678909876543210\"\n",
    "  nums = [raw_nums[i:i+4] for i in range(len(raw_nums) - 3)]\n",
    "  return any([(t[i:i+4] in nums) or (t[i:i+4][::-1] in nums) for i in range(len(t) - 3)])\n",
    "\n",
    "def letter_sequence(t):\n",
    "  raw_characters = \"abcdefghijklmnopqrstuvwxyz\"\n",
    "  characters = [raw_characters[i:i+4] for i in range(len(raw_characters) - 3)]\n",
    "  return any([(t[i:i+4].lower() in characters) or (t[i:i+4][::-1].lower() in characters) for i in range(len(t) - 3)])\n",
    "\n",
    "def keyboard_pattern(t):\n",
    "  raw_rows = [\"!@#$%^&*()_+\", \"qwertyuiop\", \"asdfghjkl\", \"zxcvbnm\"]\n",
    "  querty_keyboard_rows = [[e[i:i+4] for i in range(len(e) - 3)] for e in raw_rows]\n",
    "  return any([any([(t[i:i+4].lower() in e) or (t[i:i+4][::-1].lower() in e) for e in querty_keyboard_rows]) for i in range(len(t) - 3)])\n",
    "\n",
    "def check_password(t):\n",
    "  errors = []\n",
    "  if len(t) < 8:\n",
    "    errors.append(\"Less than 8 characters\")\n",
    "  if no_lowercase(t):\n",
    "    errors.append(\"No lowercase letters\")\n",
    "  if no_uppercase(t):\n",
    "    errors.append(\"No uppercase letters\")\n",
    "  if no_number(t):\n",
    "    errors.append(\"No numbers\")\n",
    "  if no_symbol(t):\n",
    "    errors.append(\"No symbols\")\n",
    "  if character_repetition(t):\n",
    "    errors.append(\"Character repetition\")\n",
    "  if number_sequence(t):\n",
    "    errors.append(\"Number sequence\")\n",
    "  if letter_sequence(t):\n",
    "    errors.append(\"Letter sequence\")\n",
    "  if keyboard_pattern(t):\n",
    "    errors.append(\"Keyboard pattern\")\n",
    "  \n",
    "  return \"\\n\".join(errors) if len(errors) > 0 else \"OK\"\n",
    "\n",
    "def main():\n",
    "  password = input()\n",
    "  print(check_password(password))\n",
    "\n",
    "if __name__ == \"__main__\":\n",
    "  main()\n"
   ]
  },
  {
   "cell_type": "markdown",
   "metadata": {},
   "source": [
    "## [07_StrFile_31] 07_StrFile_★★★_DNA"
   ]
  },
  {
   "cell_type": "code",
   "execution_count": 61,
   "metadata": {},
   "outputs": [
    {
     "name": "stdout",
     "output_type": "stream",
     "text": [
      "A=3, T=5, G=3, C=4\n"
     ]
    }
   ],
   "source": [
    "def get_dna():\n",
    "  dna = input().strip()\n",
    "  characters = [c.upper() for c in [*dna]]\n",
    "  if all([c in [*accepted] for c in characters]):\n",
    "    return \"\".join(characters)\n",
    "  else:\n",
    "    return \"Invalid DNA\"\n",
    "\n",
    "def reverse_dna(dna):\n",
    "  dna = dna.translate(dna.maketrans(accepted, pair_translate))\n",
    "  return dna[::-1]\n",
    "\n",
    "def frequency_dna(dna):\n",
    "  return \"A={A}, T={T}, G={G}, C={C}\".format(**{c: dna.count(c) for c in [*accepted]}) ## '**' resolves a dictionary into keyword arguments\n",
    "\n",
    "def display_dna_pair(dna, pair):\n",
    "  dna_pairs = [dna[i:i+2] for i in range(len(dna))]\n",
    "  return dna_pairs.count(pair)\n",
    "\n",
    "def compute(dna):\n",
    "  if dna == \"Invalid DNA\":\n",
    "    return dna\n",
    "\n",
    "  method = input().strip()\n",
    "  if method == \"R\":\n",
    "    return reverse_dna(dna)\n",
    "  elif method == \"F\":\n",
    "    return frequency_dna(dna)\n",
    "  elif method == \"D\":\n",
    "    pair = input().strip()\n",
    "    return display_dna_pair(dna, pair)\n",
    "\n",
    "def main():\n",
    "  global accepted, pair_translate\n",
    "  accepted = \"ATCG\"\n",
    "  pair_translate = \"TAGC\"\n",
    "\n",
    "  dna = get_dna()\n",
    "  print(compute(dna))\n",
    "\n",
    "if __name__ == \"__main__\":\n",
    "  main()"
   ]
  },
  {
   "cell_type": "markdown",
   "metadata": {},
   "source": [
    "## [07_StrFile_33] 07_StrFile_★★★_File_Merge"
   ]
  },
  {
   "cell_type": "code",
   "execution_count": 82,
   "metadata": {},
   "outputs": [
    {
     "name": "stdout",
     "output_type": "stream",
     "text": [
      "5830548121 2.50\n",
      "6031087221 3.12\n",
      "6130351221 3.20\n"
     ]
    }
   ],
   "source": [
    "def read_next(f):\n",
    "  while True:\n",
    "    t = f.readline()\n",
    "    if len(t) == 0:\n",
    "      break\n",
    "    x = t.strip().split()\n",
    "    if len(x) == 2:\n",
    "      return x[0], x[1]\n",
    "  return \"\", \"\"\n",
    "\n",
    "a = input().split()\n",
    "\n",
    "f1 = open(a[0], \"r\")\n",
    "f2 = open(a[1], \"r\")\n",
    "\n",
    "l1 = read_next(f1)\n",
    "l2 = read_next(f2)\n",
    "\n",
    "def less(l1, l2):\n",
    "  if l1[0][-2:] == l2[0][-2:]:\n",
    "    return l1[0][:-2] < l2[0][:-2]\n",
    "  else:\n",
    "    return l1[0][-2:] < l2[0][-2:]\n",
    "\n",
    "while l1[0] != \"\" and l2[0] != \"\":\n",
    "  if less(l1, l2):\n",
    "    # l1 is lower than l2\n",
    "    print(*l1)\n",
    "    l1 = read_next(f1)\n",
    "  else:\n",
    "    print(*l2)\n",
    "    l2 = read_next(f2)\n",
    "\n",
    "while l1[0] != \"\":\n",
    "  print(*l1)\n",
    "  l1 = read_next(f1)\n",
    "\n",
    "while l2[0] != \"\":\n",
    "  print(*l2)\n",
    "  l2 = read_next(f2)\n",
    "\n",
    "f1.close()\n",
    "f2.close()"
   ]
  }
 ],
 "metadata": {
  "kernelspec": {
   "display_name": "Python 3.9.10 64-bit",
   "language": "python",
   "name": "python3"
  },
  "language_info": {
   "codemirror_mode": {
    "name": "ipython",
    "version": 3
   },
   "file_extension": ".py",
   "mimetype": "text/x-python",
   "name": "python",
   "nbconvert_exporter": "python",
   "pygments_lexer": "ipython3",
   "version": "3.9.10"
  },
  "orig_nbformat": 4,
  "vscode": {
   "interpreter": {
    "hash": "b0fa6594d8f4cbf19f97940f81e996739fb7646882a419484c72d19e05852a7e"
   }
  }
 },
 "nbformat": 4,
 "nbformat_minor": 2
}
