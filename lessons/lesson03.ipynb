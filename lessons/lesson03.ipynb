{
 "cells": [
  {
   "cell_type": "markdown",
   "metadata": {},
   "source": [
    "## [03_If_001] 03_If_◇_Median5"
   ]
  },
  {
   "cell_type": "code",
   "execution_count": 6,
   "metadata": {},
   "outputs": [
    {
     "name": "stdout",
     "output_type": "stream",
     "text": [
      "0\n"
     ]
    }
   ],
   "source": [
    "a, b, c, d, e = [int(input()) for i in range(5)]\n",
    "\n",
    "if a > b:\n",
    "  a, b = b, a\n",
    "\n",
    "if c > d:\n",
    "  c, d = d, c\n",
    "\n",
    "if a > c:\n",
    "  b, d = d, b\n",
    "  c = a\n",
    "\n",
    "a = e\n",
    "\n",
    "if a > b:\n",
    "  a, b = b, a\n",
    "\n",
    "if c > a:\n",
    "  b, d = d, b\n",
    "  a = c\n",
    "\n",
    "if a > d:\n",
    "  print(d)\n",
    "else:\n",
    "  print(a)"
   ]
  },
  {
   "cell_type": "markdown",
   "metadata": {},
   "source": [
    "## [03_If_002] 03_If_◇◇_Next15Days"
   ]
  },
  {
   "cell_type": "code",
   "execution_count": 9,
   "metadata": {},
   "outputs": [
    {
     "name": "stdout",
     "output_type": "stream",
     "text": [
      "16/1/2560\n"
     ]
    }
   ],
   "source": [
    "d, m, y = [int(i) for i in input().split()]\n",
    "\n",
    "y = y - 543\n",
    "\n",
    "n = 31\n",
    "\n",
    "if m == 4 or m == 6 or m == 9 or m == 11:\n",
    "  n = 30\n",
    "\n",
    "else:\n",
    "  if m == 2:\n",
    "    if y % 400 == 0 or (y % 4 == 0 and y % 100 != 0):\n",
    "      n = 29\n",
    "    else:\n",
    "      n = 28\n",
    "\n",
    "d = d + 15\n",
    "\n",
    "if d > n:\n",
    "  d = d - n\n",
    "  m = m + 1\n",
    "\n",
    "if m > 12:\n",
    "  m = m - 12\n",
    "  y = y + 1\n",
    "\n",
    "y = y + 543\n",
    "\n",
    "print(\"{d}/{m}/{y}\".format(d=d, m=m, y=y))"
   ]
  },
  {
   "cell_type": "markdown",
   "metadata": {},
   "source": [
    "## [03_If_003] 03_If_◇◇_Flowchart01"
   ]
  },
  {
   "cell_type": "code",
   "execution_count": 7,
   "metadata": {},
   "outputs": [
    {
     "name": "stdout",
     "output_type": "stream",
     "text": [
      "2 7 1 4\n"
     ]
    }
   ],
   "source": [
    "a, b, c, d = [int(i) for i in input().split()]\n",
    "\n",
    "if a > b:\n",
    "  a = b\n",
    "  \n",
    "  if d >= a:\n",
    "    if c > d:\n",
    "      c = c - a\n",
    "    \n",
    "  else:\n",
    "    c = c + a\n",
    "\n",
    "  b = a + c + d\n",
    "\n",
    "else:\n",
    "  if c > a and c >= b:\n",
    "    d = d + a\n",
    "  \n",
    "  if d > c:\n",
    "    b = b + 2\n",
    "  else:\n",
    "    b = 2 * b\n",
    "  \n",
    "print(a, b, c, d)"
   ]
  },
  {
   "cell_type": "markdown",
   "metadata": {},
   "source": [
    "## [03_If_01] 03_If_★_FacultyCode"
   ]
  },
  {
   "cell_type": "code",
   "execution_count": 11,
   "metadata": {},
   "outputs": [
    {
     "name": "stdout",
     "output_type": "stream",
     "text": [
      "Error\n"
     ]
    }
   ],
   "source": [
    "faculty_codes = [\"01\", \"02\", \"20\", \"21\", \"22\", \"23\", \"24\", \"25\", \"26\", \"27\", \"28\", \"29\", \"30\", \"31\", \"32\", \"33\", \"34\", \"35\", \"36\", \"37\", \"38\", \"39\", \"40\", \"51\", \"53\", \"55\", \"58\"]\n",
    "\n",
    "code = input()\n",
    "\n",
    "if (code in faculty_codes):\n",
    "  print(\"OK\")\n",
    "\n",
    "else:\n",
    "  print(\"Error\")"
   ]
  },
  {
   "cell_type": "markdown",
   "metadata": {},
   "source": [
    "## [03_If_02] 03_If_★_Grading"
   ]
  },
  {
   "cell_type": "code",
   "execution_count": 13,
   "metadata": {},
   "outputs": [
    {
     "name": "stdout",
     "output_type": "stream",
     "text": [
      "False\n"
     ]
    }
   ],
   "source": [
    "s = float(input())\n",
    "\n",
    "if s >= 80:\n",
    "  print(\"A\")\n",
    "elif s >= 70:\n",
    "  print(\"B\")\n",
    "elif s >= 60:\n",
    "  print(\"C\")\n",
    "elif s >= 50:\n",
    "  print(\"D\")\n",
    "else:\n",
    "  print(\"F\")\n"
   ]
  },
  {
   "cell_type": "markdown",
   "metadata": {},
   "source": [
    "## [03_If_03] 03_If_★_Gymnastic_Score"
   ]
  },
  {
   "cell_type": "code",
   "execution_count": 6,
   "metadata": {},
   "outputs": [
    {
     "name": "stdout",
     "output_type": "stream",
     "text": [
      "9.5\n"
     ]
    }
   ],
   "source": [
    "scores = [float(i) for i in input().split()]\n",
    "\n",
    "scores.sort()\n",
    "\n",
    "print(round((scores[1] + scores[2]) / 2, 2))"
   ]
  },
  {
   "cell_type": "markdown",
   "metadata": {},
   "source": [
    "## [03_If_04] 03_If_★_MobileNumber"
   ]
  },
  {
   "cell_type": "code",
   "execution_count": null,
   "metadata": {},
   "outputs": [],
   "source": [
    "tel = input()\n",
    "\n",
    "if len(tel) == 10 and (tel[:2] == \"06\" or tel[:2] == \"08\" or tel[:2] == \"09\"):\n",
    "  print(\"Mobile number\")\n",
    "else:\n",
    "  print(\"Not a mobile number\")"
   ]
  },
  {
   "cell_type": "markdown",
   "metadata": {},
   "source": [
    "## [03_If_05] 03_If_★_Positive_Negative"
   ]
  },
  {
   "cell_type": "code",
   "execution_count": null,
   "metadata": {},
   "outputs": [],
   "source": [
    "num = int(input())\n",
    "\n",
    "if num > 0:\n",
    "  print(\"positive\")\n",
    "elif num == 0:\n",
    "  print(\"zero\")\n",
    "elif num < 0:\n",
    "  print(\"negative\")\n",
    "\n",
    "if num % 2 == 0:\n",
    "  print(\"even\")\n",
    "else:\n",
    "  print(\"odd\")"
   ]
  },
  {
   "cell_type": "markdown",
   "metadata": {},
   "source": [
    "## [03_If_06] 03_If_★_RegisteredMail"
   ]
  },
  {
   "cell_type": "code",
   "execution_count": 7,
   "metadata": {},
   "outputs": [
    {
     "name": "stdout",
     "output_type": "stream",
     "text": [
      "18\n"
     ]
    }
   ],
   "source": [
    "p = int(input())\n",
    "\n",
    "if p <= 100:\n",
    "  print(18)\n",
    "elif p <= 250:\n",
    "  print(22)\n",
    "elif p <= 500:\n",
    "  print(28)\n",
    "elif p <= 1000:\n",
    "  print(38)\n",
    "elif p <= 2000:\n",
    "  print(58)\n",
    "else:\n",
    "  print(\"Reject\")"
   ]
  },
  {
   "cell_type": "markdown",
   "metadata": {},
   "source": [
    "## [03_If_07] 03_If_★★_AbbrevNum"
   ]
  },
  {
   "cell_type": "code",
   "execution_count": null,
   "metadata": {},
   "outputs": [],
   "source": [
    "def abbreviate_number(number):\n",
    "  print()\n",
    "\n",
    "print(abbreviate_number(8456))"
   ]
  }
 ],
 "metadata": {
  "kernelspec": {
   "display_name": "Python 3.9.10 64-bit",
   "language": "python",
   "name": "python3"
  },
  "language_info": {
   "codemirror_mode": {
    "name": "ipython",
    "version": 3
   },
   "file_extension": ".py",
   "mimetype": "text/x-python",
   "name": "python",
   "nbconvert_exporter": "python",
   "pygments_lexer": "ipython3",
   "version": "3.9.10"
  },
  "orig_nbformat": 4,
  "vscode": {
   "interpreter": {
    "hash": "b0fa6594d8f4cbf19f97940f81e996739fb7646882a419484c72d19e05852a7e"
   }
  }
 },
 "nbformat": 4,
 "nbformat_minor": 2
}
