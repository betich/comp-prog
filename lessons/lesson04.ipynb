{
 "cells": [
  {
   "cell_type": "markdown",
   "metadata": {},
   "source": [
    "## [04_Loop_001] 04_Loop_◇◇_BirthdayParadox"
   ]
  },
  {
   "cell_type": "code",
   "execution_count": 2,
   "metadata": {},
   "outputs": [
    {
     "name": "stdout",
     "output_type": "stream",
     "text": [
      "1\n"
     ]
    }
   ],
   "source": [
    "p = float(input())\n",
    "\n",
    "k = 1\n",
    "t = 1\n",
    "\n",
    "t = (t * (365 - (k - 1))) / 365\n",
    "\n",
    "while not (1 - t >= p):\n",
    "  k += 1\n",
    "  t = (t * (365 - (k - 1))) / 365\n",
    "\n",
    "print(k)"
   ]
  },
  {
   "cell_type": "markdown",
   "metadata": {},
   "source": [
    "## [04_Loop_002] 04_Loop_◇◇_Partition"
   ]
  },
  {
   "cell_type": "code",
   "execution_count": 15,
   "metadata": {},
   "outputs": [
    {
     "name": "stdout",
     "output_type": "stream",
     "text": [
      "[1, 2, 3, 4, 5]\n"
     ]
    }
   ],
   "source": [
    "d = [int(e) for e in input().split()]\n",
    "\n",
    "p = d[-1]\n",
    "i = -1; j = 0\n",
    "n = len(d)\n",
    "\n",
    "while j < n-1:\n",
    "  if d[j] <= p:\n",
    "    i += 1\n",
    "    d[i],d[j] = d[j],d[i]\n",
    "  j += 1\n",
    "  \n",
    "d[i+1],d[-1] = d[-1], d[i+1]\n",
    "print(d)\n"
   ]
  },
  {
   "cell_type": "markdown",
   "metadata": {},
   "source": [
    "## [04_Loop_01] 04_Loop_★_Average"
   ]
  },
  {
   "cell_type": "code",
   "execution_count": 25,
   "metadata": {},
   "outputs": [
    {
     "name": "stdout",
     "output_type": "stream",
     "text": [
      "No Data\n"
     ]
    }
   ],
   "source": [
    "p = []\n",
    "\n",
    "while True:\n",
    "  e = input()\n",
    "  if e == 'q':\n",
    "    break\n",
    "  else:\n",
    "    p.append(float(e))\n",
    "\n",
    "print(round(sum(p) / len(p), 2) if len(p) > 0 else \"No Data\")"
   ]
  },
  {
   "cell_type": "markdown",
   "metadata": {},
   "source": [
    "## [04_Loop_02] 04_Loop_★_Bisection_Log10"
   ]
  },
  {
   "cell_type": "code",
   "execution_count": 46,
   "metadata": {},
   "outputs": [
    {
     "name": "stdout",
     "output_type": "stream",
     "text": [
      "2.39794\n"
     ]
    }
   ],
   "source": [
    "a = float(input())\n",
    "\n",
    "L = 0\n",
    "U = a\n",
    "\n",
    "x = (L + U) / 2\n",
    "\n",
    "while abs(a - (10**x)) > (1e-10 * max(U, 10**x)):\n",
    "  if 10**x > a:\n",
    "    U = x\n",
    "  elif 10**x < a:\n",
    "    L = x\n",
    "  else:\n",
    "    pass\n",
    "\n",
    "  x = (L + U) / 2\n",
    "\n",
    "print(round(x, 6))"
   ]
  },
  {
   "cell_type": "markdown",
   "metadata": {},
   "source": [
    "## [04_Loop_03] 04_Loop_★_MCQ"
   ]
  },
  {
   "cell_type": "code",
   "execution_count": 3,
   "metadata": {},
   "outputs": [
    {
     "name": "stdout",
     "output_type": "stream",
     "text": [
      "Incomplete answer\n"
     ]
    }
   ],
   "source": [
    "a = input()\n",
    "b = input()\n",
    "\n",
    "m = 0\n",
    "\n",
    "if len(a) != len(b):\n",
    "  print(\"Incomplete answer\")\n",
    "else:\n",
    "  for i in range(len(a)):\n",
    "    if a[i] == b[i]:\n",
    "      m += 1\n",
    "  \n",
    "  print(m)"
   ]
  },
  {
   "cell_type": "markdown",
   "metadata": {},
   "source": [
    "## [04_Loop_04] 04_Loop_★_Parentheses"
   ]
  },
  {
   "cell_type": "code",
   "execution_count": 17,
   "metadata": {},
   "outputs": [
    {
     "name": "stdout",
     "output_type": "stream",
     "text": [
      "((a + [b + (c / d) – e] + f) + 4)\n"
     ]
    }
   ],
   "source": [
    "k = input()\n",
    "print(k.translate(k.maketrans(\"[()]\",\"([])\")))"
   ]
  },
  {
   "cell_type": "markdown",
   "metadata": {},
   "source": [
    "## [04_Loop_05] 04_Loop_★_CountWord"
   ]
  },
  {
   "cell_type": "code",
   "execution_count": 33,
   "metadata": {},
   "outputs": [
    {
     "name": "stdout",
     "output_type": "stream",
     "text": [
      "0\n"
     ]
    }
   ],
   "source": [
    "# golfed, lmao\n",
    "import re\n",
    "i=input\n",
    "a,b=i(),i()\n",
    "print(len(re.findall(r'\\b'+a+r'\\b',b)))"
   ]
  },
  {
   "cell_type": "markdown",
   "metadata": {},
   "source": [
    "## [04_Loop_06] 04_Loop_★_PrintTriangle"
   ]
  },
  {
   "cell_type": "code",
   "execution_count": 42,
   "metadata": {},
   "outputs": [
    {
     "name": "stdout",
     "output_type": "stream",
     "text": [
      "  *  \n",
      " * * \n",
      "*****\n"
     ]
    }
   ],
   "source": [
    "h = int(input())\n",
    "\n",
    "for i in range(1, h+1):  \n",
    "  if (i == 1):\n",
    "    padding = abs(2*h - 1 - 1) // 2\n",
    "    print(\" \" * padding + \"*\" + \" \" * padding)\n",
    "  elif (i == h):\n",
    "    print(\"*\" * (2*h - 1))\n",
    "  else:\n",
    "    triangle = \"*\" + \" \" * ((2*(i) - 1) - 2) + \"*\"\n",
    "    padding = abs(2*h - 1 - len(triangle)) // 2\n",
    "    print(\" \" * padding + triangle + \" \" * padding)"
   ]
  },
  {
   "cell_type": "markdown",
   "metadata": {},
   "source": [
    "## [04_Loop_10] 04_Loop_★★_Bisection_Log10_2"
   ]
  },
  {
   "cell_type": "code",
   "execution_count": 104,
   "metadata": {},
   "outputs": [
    {
     "name": "stdout",
     "output_type": "stream",
     "text": [
      "3\n",
      "2.079181\n"
     ]
    }
   ],
   "source": [
    "a = float(input())\n",
    "\n",
    "L = 0\n",
    "\n",
    "i = 0\n",
    "b = a\n",
    "while b != 0:\n",
    "  b //= 10\n",
    "  i += 1\n",
    "  \n",
    "U = i\n",
    "\n",
    "x = (L + U) / 2\n",
    "\n",
    "while abs(a - (10**x)) > (1e-10 * max(U, 10**x)):\n",
    "  if 10**x > a:\n",
    "    U = x\n",
    "  elif 10**x < a:\n",
    "    L = x\n",
    "  else:\n",
    "    pass\n",
    "\n",
    "  x = (L + U) / 2\n",
    "\n",
    "print(round(x, 6))"
   ]
  },
  {
   "cell_type": "markdown",
   "metadata": {},
   "source": [
    "## [04_Loop_11] 04_Loop_★★_RLE"
   ]
  },
  {
   "cell_type": "code",
   "execution_count": 72,
   "metadata": {},
   "outputs": [
    {
     "name": "stdout",
     "output_type": "stream",
     "text": [
      "A 1 B 2 A 1\n"
     ]
    }
   ],
   "source": [
    "x = input()\n",
    "\n",
    "i = 0\n",
    "c = x[0]\n",
    "r = \"\"\n",
    "\n",
    "for e in x:\n",
    "  if c == e:\n",
    "    i += 1\n",
    "  else:\n",
    "    r += c + \" \" + str(i) + \" \"\n",
    "    c = e\n",
    "    i = 1\n",
    "\n",
    "r += c + \" \" + str(i)\n",
    "\n",
    "print(r)"
   ]
  },
  {
   "cell_type": "markdown",
   "metadata": {},
   "source": [
    "## [04_Loop_12] 04_Loop_★★_ZigZag_1"
   ]
  },
  {
   "cell_type": "code",
   "execution_count": 99,
   "metadata": {},
   "outputs": [
    {
     "name": "stdout",
     "output_type": "stream",
     "text": [
      "-30 30\n"
     ]
    }
   ],
   "source": [
    "n = int(input())\n",
    "d = [list(map(int,a)) for a in [input().split() for e in range(n)]]\n",
    "condition = input()\n",
    "\n",
    "offset = 0 if condition == \"Zig-Zag\" else 1\n",
    "min_num = min([d[i][(i+offset) % 2] for i in range(n)])\n",
    "max_num = max([d[i][(i+offset+1) % 2] for i in range(n)])\n",
    "print(min_num, max_num)"
   ]
  },
  {
   "cell_type": "code",
   "execution_count": 109,
   "metadata": {},
   "outputs": [
    {
     "ename": "TypeError",
     "evalue": "list indices must be integers or slices, not type",
     "output_type": "error",
     "traceback": [
      "\u001b[0;31m---------------------------------------------------------------------------\u001b[0m",
      "\u001b[0;31mTypeError\u001b[0m                                 Traceback (most recent call last)",
      "\u001b[1;32m/Users/mamyray/code/python-playground/lessons/lesson04.ipynb Cell 23\u001b[0m in \u001b[0;36m<module>\u001b[0;34m\u001b[0m\n\u001b[1;32m      <a href='vscode-notebook-cell:/Users/mamyray/code/python-playground/lessons/lesson04.ipynb#X36sZmlsZQ%3D%3D?line=3'>4</a>\u001b[0m d\u001b[39m=\u001b[39m[\u001b[39mlist\u001b[39m(\u001b[39mmap\u001b[39m(i,a))\u001b[39mfor\u001b[39;00m a \u001b[39min\u001b[39;00m[j()\u001b[39m.\u001b[39msplit()\u001b[39mfor\u001b[39;00m e \u001b[39min\u001b[39;00m r(n)]]\n\u001b[1;32m      <a href='vscode-notebook-cell:/Users/mamyray/code/python-playground/lessons/lesson04.ipynb#X36sZmlsZQ%3D%3D?line=4'>5</a>\u001b[0m o\u001b[39m=\u001b[39mj()\u001b[39m==\u001b[39m\u001b[39m\"\u001b[39m\u001b[39mZag-Zig\u001b[39m\u001b[39m\"\u001b[39m\n\u001b[0;32m----> <a href='vscode-notebook-cell:/Users/mamyray/code/python-playground/lessons/lesson04.ipynb#X36sZmlsZQ%3D%3D?line=5'>6</a>\u001b[0m m\u001b[39m=\u001b[39m\u001b[39mmin\u001b[39m(d[i][o::\u001b[39m2\u001b[39m])\n\u001b[1;32m      <a href='vscode-notebook-cell:/Users/mamyray/code/python-playground/lessons/lesson04.ipynb#X36sZmlsZQ%3D%3D?line=6'>7</a>\u001b[0m n\u001b[39m=\u001b[39m\u001b[39mmax\u001b[39m(d[i][o\u001b[39m+\u001b[39m\u001b[39m1\u001b[39m::\u001b[39m2\u001b[39m])\n\u001b[1;32m      <a href='vscode-notebook-cell:/Users/mamyray/code/python-playground/lessons/lesson04.ipynb#X36sZmlsZQ%3D%3D?line=7'>8</a>\u001b[0m \u001b[39mprint\u001b[39m(m,n)\n",
      "\u001b[0;31mTypeError\u001b[0m: list indices must be integers or slices, not type"
     ]
    }
   ],
   "source": [
    "# golfed\n",
    "i=int;j=input;r=range\n",
    "n=i(j())\n",
    "d=[list(map(i,a))for a in[j().split()for e in r(n)]]\n",
    "o=j()==\"Zag-Zig\"\n",
    "m=min([d[i][(i+o)%2]for i in r(n)])\n",
    "n=max([d[i][(i+o+1)%2]for i in r(n)])\n",
    "print(m,n)"
   ]
  },
  {
   "cell_type": "code",
   "execution_count": 3,
   "metadata": {},
   "outputs": [
    {
     "name": "stdout",
     "output_type": "stream",
     "text": [
      "True\n"
     ]
    }
   ],
   "source": [
    "y = [1, 2, 3]\n",
    "x = y\n",
    "\n",
    "x.pop()\n",
    "print(y)"
   ]
  }
 ],
 "metadata": {
  "kernelspec": {
   "display_name": "Python 3.9.10 64-bit",
   "language": "python",
   "name": "python3"
  },
  "language_info": {
   "codemirror_mode": {
    "name": "ipython",
    "version": 3
   },
   "file_extension": ".py",
   "mimetype": "text/x-python",
   "name": "python",
   "nbconvert_exporter": "python",
   "pygments_lexer": "ipython3",
   "version": "3.9.10"
  },
  "orig_nbformat": 4,
  "vscode": {
   "interpreter": {
    "hash": "b0fa6594d8f4cbf19f97940f81e996739fb7646882a419484c72d19e05852a7e"
   }
  }
 },
 "nbformat": 4,
 "nbformat_minor": 2
}
