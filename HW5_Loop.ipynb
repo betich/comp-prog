{
  "cells": [
    {
      "cell_type": "markdown",
      "metadata": {
        "id": "pw5Udn3kfoWd"
      },
      "source": [
        "# 2110101: การบ้านครั้งที่ 5: เรื่องวงวน\n",
        "\n",
        "ปัญหาการแบ่งส่วนจำนวนเต็ม ถามว่า\n",
        "> ให้ $n$ เป็นจำนวนเต็มบวก\n",
        "> \n",
        "> จงหาจำนวนการแบ่งส่วน (partition number) $p(n)$ ซึ่งคือจำนวนวิธีเขียน $n$ ให้อยู่ในรูปของผลบวกของจำนวนบวก \n",
        ">\n",
        "เช่น ให้ $n$ = 5 ได้ $p(n)$ = 7 เพราะ สามารถแบ่งส่วนค่า 5 ได้ 7 วิธี ดังนี้ (ไม่สนใจลำดับของการบวก)\n",
        "- 1 + 1 + 1 + 1 + 1\n",
        "- 1 + 1 + 1 + 2\n",
        "- 1 + 1 + 3\n",
        "- 1 + 2 + 2\n",
        "- 1 + 4\n",
        "- 2 + 3\n",
        "- 5\n",
        "\n",
        "มีวิธีหาค่าของ $p(n)$ ได้หลายวิธี (https://en.wikipedia.org/wiki/Partition_(number_theory)) การบ้านนี้สนใจการหา $p(n)$ จากความสัมพันธ์\n",
        "<p align=\"center\">\n",
        "$p(n) = p(n-1) + p(n-2) - p(n-5) - p(n-7) + ...$\n",
        "</p>\n",
        "\n",
        "> <font size=-1>(อ่านแล้วงง เลข 1, 2, 5, 7 และเครื่องหมาย +, - มาจากไหน ? \n",
        "ไม่ต้องตกใจ อ่านต่อไป)</font>\n",
        "\n",
        "ตารางข้างล่างนี้ แสดง $p(n)$ จำนวนหนึ่ง\n",
        "\n",
        "|$n$|0|1|2|3|4|5|6|7|8|9|10|\n",
        "|---|--|--|--|--|--|--|--|--|--|--|--|\n",
        "|$p(n)$| 1| 1| 2| 3| 5| 7| 11| 15| 22| 30| 42|\n",
        "\n",
        "เช่น\n",
        "$$\\begin{align}\n",
        "p(10) & = p(10-1) + p(10-2) - p(10-5) - p(10-7) \\\\\n",
        "& = p(9) + p(8) - p(5) - p(3) \\\\\n",
        "& = 30 + 22 - 7 - 3 \\\\\n",
        "& = 42 \\\\\n",
        "\\end{align}$$\n",
        "\n",
        "> <font size=-1>ให้สังเกตว่า ในตารางข้างบนนี้มีค่าของ $p(0)$ ด้วย ตรงนี้เป็นเรื่องของนิยามการแสดงความสัมพันธ์ของ $p(n)$ ที่ต้องกำหนด $p(0)$ ให้มีค่าเป็น 1 \n",
        "ไม่ขออธิบายรายละเอียดในที่นี้</font>\n",
        "\n",
        "### <font color=red>ตรงนี้สำคัญมาก</font>\n",
        "ขอให้นิสิตดูวิดีทัศน์ใน cell ข้างล่างนี้ และทำความเข้าใจวิธีการคำนวณค่า $p(n)$ ให้ได้\n",
        "(ดู 17 นาทีแรก ก็น่าจะเข้าใจวิธีหาแล้ว แต่ถ้าจะดูจนจบก็น่าสนใจดี) <font color=red>\n",
        "\n",
        "ดูให้เข้าใจก่อนนะ แล้วค่อยอ่านต่อ</font>"
      ]
    },
    {
      "cell_type": "code",
      "execution_count": null,
      "metadata": {
        "cellView": "form",
        "colab": {
          "base_uri": "https://localhost:8080/",
          "height": 336
        },
        "id": "HSBwhKG_8yoE",
        "outputId": "41b81173-9c88-406d-8fec-f775ea338151"
      },
      "outputs": [
        {
          "data": {
            "text/html": [
              "<iframe width=\"560\" height=\"315\" src=\"https://www.youtube.com/embed/iJ8pnCO0nTY\" title=\"YouTube video player\" frameborder=\"0\" allow=\"accelerometer; autoplay; clipboard-write; encrypted-media; gyroscope; picture-in-picture\" allowfullscreen></iframe>"
            ],
            "text/plain": [
              "<IPython.core.display.HTML object>"
            ]
          },
          "execution_count": 3,
          "metadata": {},
          "output_type": "execute_result"
        }
      ],
      "source": [
        "#@title ชม VDO การหา $p(n)$\n",
        "from IPython.display import HTML\n",
        "\n",
        "HTML('<iframe width=\"560\" height=\"315\" src=\"https://www.youtube.com/embed/iJ8pnCO0nTY\" title=\"YouTube video player\" frameborder=\"0\" allow=\"accelerometer; autoplay; clipboard-write; encrypted-media; gyroscope; picture-in-picture\" allowfullscreen></iframe>')"
      ]
    },
    {
      "cell_type": "markdown",
      "metadata": {
        "id": "N_TU7oopgD0a"
      },
      "source": [
        "## จะหา partition number ต้องหา position numbers ก่อน\n",
        "\n",
        "จากสมการการหา partition number ตัวที่ $n$\n",
        "\n",
        "$p(n) = p(n-1) + p(n-2) - p(n-5) - p(n-7) + ...$ \n",
        "\n",
        "เช่น\n",
        "\n",
        "$p(20) = p(20-$<font color=red>$1$</font>$) + p(20-$<font color=red>$2$</font>$) - p(20-$<font color=red>$5$</font>$) - p(20-$<font color=red>$7$</font>$) + p(20-$<font color=red>$12$</font>$) + p(20-$<font color=red>$15$</font>$)$\n",
        "\n",
        "ให้สังเกตว่า จะหา $p(n)$ ได้  เราต้องหาลำดับ <font color=red>$1, 2, 5, 7, 12, 15, ...$</font> ให้ได้ก่อน เพื่อจะได้รู้ว่า ต้องใช้ $p(k)$ อะไรที่ $k < n$\n",
        "\n",
        "ขอเรียกลำดับของจำนวน 1, 2, 5, 7, 12, 15,... นี้ว่า <font color=red>_position numbers_</font> (ใน vdo ได้อธิบายวิธีหาลำดับนี้แล้ว)\n",
        "<hr>\n",
        "\n",
        "### เพื่อทวนความเช้าใจ ลองตอบคำถามข้างล่างนี้\n",
        "\n",
        "(ทำเล่น ๆ ไม่มีคะแนน ถ้าทำไม่ได้ อย่าเพิ่งเขียนโปรแกรม กลับไปดู [VDO](#scrollTo=HSBwhKG_8yoE) ให้เข้าใจก่อน)\n",
        "\n",
        "1. จงเขียนลำดับของ position numbers ที่มีค่าไม่เกิน $100$\n",
        "2. จงเขียนสมการการหาค่าของ $p(100)$  \n",
        "3. ถ้ามีข้อมูลตารางข้างล่างนี้\n",
        "\n",
        "|$n$|0|1|2|3|4|5|6|7|8|9|10|\n",
        "|---|--|--|--|--|--|--|--|--|--|--|--|\n",
        "|$p(n)$| 1| 1| 2| 3| 5| 7| 11| 15| 22| 30| 42|\n",
        "\n",
        "ลองหา $p(11)$ แล้วก็ $p(12)$ ด้วยการเขียนกระดาษ ว่าได้ 56 กับ 77 หรือเปล่า ?"
      ]
    },
    {
      "cell_type": "code",
      "execution_count": null,
      "metadata": {
        "cellView": "form",
        "id": "YzN_GZZBwMuB"
      },
      "outputs": [],
      "source": [
        "#@title ดูเฉลย (คลิก show code)\n",
        "\n",
        "\"\"\"\n",
        "position numbers ที่มีค่าไม่เกิน 100\n",
        "1, 2, 5, 7, 12, 15, 22, 26, 35, 40, 51, 57, 70, 77, 92, 100\n",
        "\n",
        "p(100) = p(100-1) + p(100-2) - p(100-5) - p(100-7) + \n",
        "         p(100-12) + p(100-15) - p(100-22) - p(100-26) + \n",
        "         p(100-35) + p(100-40) - p(100-51) - p(100-57) + \n",
        "         p(100-70) + p(100-77) - p(100-92) - p(100-100)\n",
        "\n",
        "p(11) = p(11-1) + p(11-2) - p(11-5) - p(11-7)\n",
        "      = p(10)   + p(9)    - p(6)    - p(4) \n",
        "      = 42      + 30      - 11      - 5\n",
        "      = 56\n",
        "\n",
        "p(12) = p(12-1) + p(12-2) - p(12-5) - p(12-7) + p(12-12)\n",
        "      = p(11)   + p(10)   - p(7)    - p(5)    + p(0) \n",
        "      = 56      + 42      - 15      - 7       + 1 \n",
        "      = 77\n",
        "\"\"\""
      ]
    },
    {
      "cell_type": "markdown",
      "metadata": {
        "id": "DMOqTmm29M_X"
      },
      "source": [
        "## งานของนิสิต\n",
        "\n",
        "\n",
        "จงเขียนฟังก์ชัน [`position_numbers`](#scrollTo=i-g8yk6hfa7q&line=10&uniqifier=1), [`next_partition_number`](#scrollTo=i-g8yk6hfa7q&line=21&uniqifier=1) และ [`rhs_of_pn`](#scrollTo=i-g8yk6hfa7q&line=36&uniqifier=1) ตามรายละเอียดที่เขียนใน comment ของ [code cell ข้างล่างนี้](#scrollTo=i-g8yk6hfa7q&line=15&uniqifier=1)\n",
        "\n",
        "### การส่งงาน\n",
        "  * Save a copy in Drive \n",
        "  * เปลี่ยนชื่อ Notebook ให้เป็น HW5_xxxxxxxxxx.ipynb โดย xxxxxxxxxx เป็นเลขประจำตัวนิสิต \n",
        "  * File -> Download -> Download .ipynb\n",
        "  * ส่งไฟล์ที่ดาวน์โหลดได้ใน MyCourseVille ก่อนเวลา 23:59 น. วันที่ 16 กุมภาพันธ์ 2565 \n",
        "  * จะตรวจแฟ้ม .ipynb แฟ้มล่าสุดที่ส่งในระบบ MyCourseVille เท่านั้น\n",
        "\n",
        "<hr>\n",
        "\n",
        "### <font color=red>สำคัญ: อ่านตรงนี้ด้วย</font>\n",
        "- ห้ามเปลี่ยนบรรทัดแรกของ code cell\n",
        "- ห้ามเปลี่ยนบรรทัด def ของฟังก์ชันที่ให้เขียน\n",
        "- ฟังก์ชันต้องคืนข้อมูลและประเภทข้อมูลตามที่กำหนดเท่านั้น\n",
        "- ฟังก์ชันต้องไม่ใช้ข้อมูลในตัวแปรใด ๆ นอกฟังก์ชัน\n",
        "- ฟังก์ชันต้องไม่เปลี่ยนแปลงข้อมูลภายในของพารามิเตอร์ที่ได้รับ (หากระบุไว้ในข้อกำหนด)\n",
        "- ส่งแฟ้ม .ipynb กี่ครั้งก็ได้ แต่จะตรวจแฟ้ม .ipynb **แฟ้มล่าสุด** เท่านั้น\n",
        "- โปรแกรมที่ทำงานไม่ได้ เกิด error ก็ไม่ได้คะแนน\n",
        "- ห้าม import อะไรใด ๆ เพิ่ม นอกนั้น อยากใช้คำสั่งอะไร ก็ใช้ได้ ถ้าทำงานได้ใน [Python version 3.7](https://docs.python.org/3.7/)\n",
        "- <font color=red>ส่อทุจริต</font> เช่น\n",
        "  - ส่งโปรแกรมที่ผู้ส่งไม่สามารถอธิบายได้ว่า ใช้หลักการและทำงานอย่างไร\n",
        "  - หรือ ส่งโปรแกรมที่คล้ายกับโปรแกรมของผู้อื่นมาก ๆ (ไม่ว่าจะเป็นผู้ให้หรือผู้รับ จะตั้งใจหรือไม่ก็ตาม)\n",
        "\n",
        "- หากพบว่า งานที่ส่งส่อทุจริต จะได้คะแนน **<font color=red>ติดลบคะแนนรวมสะสมตั้งแต่การบ้านครั้งแรกสุด</font>**\n",
        "\n",
        "<hr>\n",
        "\n",
        "### ตัวอย่างทดสอบแต่ละฟังก์ชัน\n",
        "|การเรียกใช้ฟังก์ชัน|ผลลัพธ์ที่ได้จากฟังก์ชัน|\n",
        "|-----|------|\n",
        "|`position_numbers(1)`| `[1, 2]`|\n",
        "|`position_numbers(7)`| `[1, 2, 5, 7, 12]`|\n",
        "|`position_numbers(11)`| `[1, 2, 5, 7, 12]`|\n",
        "|`position_numbers(100)`| `[1, 2, 5, 7, 12, 15, 22, 26, 35, 40, 51, 57, 70, 77, 92, 100, 117]`|\n",
        "|`next_partition_number([1], [1,2,5,7,12])`| `1`|\n",
        "|`next_partition_number([1,1,2,3,5], [1,2,5,7])`| `7`|\n",
        "|`next_partition_number([1,1,2,3,5], [1,2,5,7,12])`| `7`|\n",
        "|`next_partition_number([1,1,2,3,5,7,11,15,22,30], [1,2,5,7,12,15,22])`| `42`|\n",
        "|`rhs_of_pn(1, [1,2,5])`| `'p(0)'`|\n",
        "|`rhs_of_pn(6, [1,2,5,7])`| `'p(5) + p(4) - p(1)'`|\n",
        "|`rhs_of_pn(12, [1,2,5,7,12,15])`| `'p(11) + p(10) - p(7) - p(5) + p(0)'`|\n",
        "|`rhs_of_pn(12, [1,2,5,7,12,15,22])`| `'p(11) + p(10) - p(7) - p(5) + p(0)'`|\n",
        "\n",
        "<hr>\n",
        "\n",
        "### ตัวอย่างทดสอบ `main`\n",
        "\n",
        "ใน code cell มีฟังก์ชัน [`main`](#scrollTo=i-g8yk6hfa7q&line=51&uniqifier=1) ที่เขียนให้แล้ว ถ้ามั่นใจว่า ได้เขียนสามฟังก์ชันที่ทำงานถูกต้อง ก็สั่งทำงานฟังก์ชัน main ที่ทำงานตามขั้นตอนดังนี้\n",
        "- รับจำนวนเต็มบวกในตัวแปร `n` และ ตัวอักษรหนึ่งตัวในตัวแปร `show_rhs` (ถ้าส่งสตริงที่เก็บเลขจำนวนเต็มบวกมาให้ `n` ก็จะแปลงเป็น int ให้)\n",
        "- ถ้า `show_rhs` มีค่าไม่ใช่ `Y` ให้แสดงค่าของ $p(n)$\n",
        "- ถ้า `show_rhs` มีค่า `Y` ให้แสดงค่าของ $p(n)$ พร้อมกับสมการคำนวนด้วย (ดูตัวอย่าง)\n",
        "\n",
        "|เรียก main|output|\n",
        "|-----|------|\n",
        "|`main('1', 'N')` | `p(1) = 1` |\n",
        "|`main('1', 'Y')` | `p(1) = p(0) = 1`|\n",
        "|`main('3', 'Y')` | `p(3) = p(2) + p(1) = 3` |\n",
        "|`main('5', 'Y')` | `p(5) = p(4) + p(3) - p(0) = 7` |\n",
        "|`main(20, 'Y')` | `p(20) = p(19) + p(18) - p(15) - p(13) + p(8) + p(5) = 627` |\n",
        "|`main(5000, 'N')` |`p(5000) = 169820168825442121851975101689306431361757683049829233322203824652329144349` |\n",
        "|`main(100000, 'N')`|ตรงนี้ขอไม่แสดงผล เพราะตัวเลขยาวมาก มี 347 หลัก (ใช้เวลาหานานนิดนึง แต่ไม่น่าเกินครึ่งนาทึ) |"
      ]
    },
    {
      "cell_type": "code",
      "execution_count": null,
      "metadata": {
        "id": "i-g8yk6hfa7q"
      },
      "outputs": [],
      "source": [
        "# HW5_LOOPS (ไม่ลบหรือแก้ไขบรรทัดนี้ หรือเพิ่มอะไรก่อนบรรทัดนี้ โดยเด็ดขาด)\n",
        "\n",
        "# - เขียนในเซลล์นี้เท่านั้น \n",
        "# - ถ้าต้องการเขียนฟังก์ชันเพิ่ม ก็เขียนในเซลล์นี้\n",
        "\n",
        "def position_numbers(n):\n",
        "    \"\"\"\n",
        "    รับ n เก็บจำนวนเต็มบวก\n",
        "    คืน ลิสต์ posnums ขนาดอย่างน้อย 2 ช่องที่เก็บ position numbers \n",
        "        ตั้งแต่ตัวแรกไปเรื่อย ๆ โดย posnums[-2] ≤ n < posnums[-1]\n",
        "    เช่น position_numbers(1) คืน [1, 2]\n",
        "        position_numbers(2) คืน [1, 2, 5]\n",
        "        position_numbers(3) คืน [1, 2, 5]\n",
        "    \"\"\"\n",
        "            \n",
        "\n",
        "# ---------------------------------------------------\n",
        "def next_partition_number(p, posnums):\n",
        "    \"\"\"\n",
        "    กำหนดให้ m คือขนาดของลิสต์ p\n",
        "    รับ p เป็นลิสต์มี p[0], p[1], ..., p[m-1] \n",
        "       เก็บ partition numbers ตัวที่ 0 ถึง m-1 ตามลำดับ\n",
        "    รับ posnums เป็นลิสต์เก็บ position numbers ตั้งแต่ตัวแรกไปเรื่อย ๆ \n",
        "       โดย posnums[-1] > m\n",
        "    คืน partition number ตัวที่ m (ขอเน้นว่า ไม่ต้องเพิ่มใน p)\n",
        "    เช่น next_partition_number([1], [1,2,5,7,12]) คืน 1\n",
        "        next_partition_number([1,1,2,3,5,7], [1,2,5,7]) คืน 11\n",
        "    หมายเหตุ: ห้ามแก้ไขข้อมูลในลิสต์ p และ posnums โดยเด็ดขาด\n",
        "    \"\"\"\n",
        "    m = len(p)\n",
        "\n",
        "\n",
        "# ---------------------------------------------------\n",
        "def rhs_of_pn(n, posnums):\n",
        "    \"\"\"\n",
        "    รับ n เก็บจำนวนเต็มบวก\n",
        "    รับ posnums เป็นลิสต์เก็บ position numbers ตั้งแต่ตัวแรกไปเรื่อย ๆ \n",
        "       โดย posnums[-1] > n\n",
        "    คืน สตริง ที่เก็บวิธีคำนวณค่า p(n) ซึ่งคือส่วนทางขวามือของสมการ p(n)\n",
        "    เช่น rhs_of_pn(1, [1,2,5])      คืน 'p(0)'\n",
        "        rhs_of_pn(5, [1,2,5,7,12]) คืน 'p(4) + p(3) - p(0)'\n",
        "    หมายเหตุ: ห้ามแก้ไขข้อมูลในลิสต์ posnums โดยเด็ดขาด\n",
        "             สังเกตให้ดีว่า ต้องมีช่องว่างคั่นเครื่องหมาย + หรือ - ด้วย\n",
        "    \"\"\"\n",
        "\n",
        "\n",
        "# ---------------------------------------------------\n",
        "# ไม่ต้องแก้ไขอะไรใด ๆ ในชุดคำสั่งข้างล่างนี้\n",
        "def main(n, show_rhs):\n",
        "    n = int(n)\n",
        "    posnums = position_numbers(n)\n",
        "    p = [1]  # p[0] = 1\n",
        "    for m in range(1, n+1):\n",
        "        p += [ next_partition_number(p, posnums) ]\n",
        "    out = 'p(' + str(n) + ') = '\n",
        "    if show_rhs == 'Y':\n",
        "        out += rhs_of_pn(n, posnums) + ' = '\n",
        "    out += str(p[n])\n",
        "    print(out)\n"
      ]
    },
    {
      "cell_type": "markdown",
      "metadata": {
        "id": "2kjBf_Wmtnkv"
      },
      "source": [
        "<a id='the_code_cell'></a>\n",
        "## Bonus (+10% ของคะแนนเต็ม)\n",
        "\n",
        "เขียนฟังก์ชัน `least_pn_having(x)`ใน code cell ข้างล่างนี้ \n",
        "\n",
        "ฟังก์ชันนี้คืนค่า partition number น้อยสุดที่มีเลขทุกตัวในตัวแปร `x` แฝงอยู่ตามลำดับที่ปรากฏใน `x` (อาจมีตัวอื่นคั่นได้ ดูตัวอย่าง)\n",
        "\n",
        "เช่น ถ้า `x` เก็บ <font color=red><b>6430000021</b></font> คำตอบคือ 55238<font color=red><b>643</b></font>419421<font color=red><b>00</b></font>491<font color=red><b>0</b></font>6845<font color=red><b>0</b></font>472<font color=red><b>02</b></font>92<font color=red><b>1</b></font>9 เป็นค่า partition number น้อยสุดที่มี <font color=red><b>6430000021</b></font> แฝงอยู่  (จำนวนข้างต้นนี้คือ $p(1142)$)\n",
        "\n",
        "> หมายเหตุ: `least_pn_having(6430000021)` ไม่ใช่ <font color=red><b>246</b></font>5<font color=red><b>010</b></font>615<font color=red><b>0</b></font>8<font color=red><b>30</b></font>49<font color=red><b>0</b></font> (เพราะไม่เป็นไปตามลำดับ `6430000021`)\n",
        "\n",
        "> อีกหมายเหตุ: เนื่องจากเป็น bonus ฟังก์ชันนี้ยุ่งเล็กน้อย อาจต้องใช้ loop ซ้อน loop\n"
      ]
    },
    {
      "cell_type": "code",
      "execution_count": null,
      "metadata": {
        "id": "vKULAenXpx1e"
      },
      "outputs": [],
      "source": [
        "# BONUS (ไม่ลบหรือแก้ไขบรรทัดนี้ หรือเพิ่มอะไรก่อนบรรทัดนี้ โดยเด็ดขาด)\n",
        "\n",
        "# - เขียนฟังก์ชัน least_pn_having ในเซลล์นี้เท่านั้น\n",
        "# - ถ้าต้องการเขียนฟังก์ชันเพิ่ม ก็เขียนในเซลล์นี้\n",
        "# - สามารถเรียกใช้ฟังก์ชันในเซลล์ที่เขียนก่อนหน้านี้ได้\n",
        "# - ไม่เขียนฟังก์ชันที่ชื่อซ้ำกับ code cell ก่อนนี้\n",
        "\n",
        "def least_pn_having(x):\n",
        "    \"\"\"\n",
        "    รับ x เก็บจำนวนเต็มบวก\n",
        "    คืน partition number ที่มีค่าน้อยสุดที่มีเลขทุกตัวใน x แฝงอยู่ตามลำดับที่ปรากฏใน x\n",
        "    เช่น least_pn_having(12) คืน 1002\n",
        "        least_pn_having(1234567890) คืน 1980769965254371045106648307068906619\n",
        "    \"\"\"\n",
        "    \n",
        "\n"
      ]
    },
    {
      "cell_type": "code",
      "execution_count": null,
      "metadata": {
        "cellView": "form",
        "id": "eBX68J898WN1"
      },
      "outputs": [],
      "source": [
        "#@title ถ้าเขียน least_pn_having ได้แล้ว\n",
        "#@markdown จงเติม partition number ที่น้อยสุด ที่มีเลขประจำตัวของนิสิต แฝงอยู่ภายใน (**`pn`**) ข้างล่างนี้\n",
        "pn = 0 #@param {type:\"integer\"}\n",
        "\n",
        "\n"
      ]
    },
    {
      "cell_type": "markdown",
      "metadata": {
        "id": "usZYqsEWjPeK"
      },
      "source": [
        "### แถมอีก 10% ###\n",
        "\n",
        "สำหรับนิสิตที่ทำ `least_pn_having` ได้ และผลลัพธ์ของ `least_pn_having( เลขประจำตัวของตนเอง )` ได้ partition number ที่มีค่ามากสุด (กรณีที่เสมอ ก็ให้ทุกคนที่มากสุดเท่ากัน) \n",
        "\n",
        "อันนี้ไม่เกี่ยวกับฝึมือ เกี่ยวกับเลขประจำตัว 😁\n",
        "## -- เท่านี้แหละ --##"
      ]
    }
  ],
  "metadata": {
    "colab": {
      "collapsed_sections": [],
      "name": "HW5_Loop.ipynb",
      "provenance": []
    },
    "kernelspec": {
      "display_name": "Python 3",
      "name": "python3"
    },
    "language_info": {
      "name": "python"
    }
  },
  "nbformat": 4,
  "nbformat_minor": 0
}
