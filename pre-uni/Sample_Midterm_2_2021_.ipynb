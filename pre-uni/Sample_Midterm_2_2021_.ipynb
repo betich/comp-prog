{
  "cells": [
    {
      "cell_type": "markdown",
      "metadata": {
        "id": "L9hNibotW3Zh"
      },
      "source": [
        "<center>\n",
        "<h1>2110101 Computer Programming</h1>\n",
        "(ตัวอย่าง) ข้อสอบกลางภาค ภาคปลาย ปีการศึกษา 2564<br>10 มีนาคม 2565 (8:30 - 10:30น.)\n",
        "</center>\n",
        "<hr>\n",
        "\n",
        "- คะแนนเต็ม 120\n",
        " - ตอนที่ 1 (20 คะแนน) คำถามปรนัยและเติมคำตอบ 10 ข้อ\n",
        " - ตอนที่ 2 (100 คะแนน) โจทย์เขียนโปรแกรม 5 ข้อ ข้อละ 20 คะแนน\n",
        "- อนุญาตให้เปิดตำราและค้นข้อมูลได้\n",
        "- ห้ามสื่อสารกับผู้อื่น (ยกเว้นอาจารย์ผู้สอนและผู้คุมสอบ)\n",
        "- เมื่อหมดเวลา ให้บันทึกแฟ้ม และหยุดการพิมพ์ใด ๆ ทั้งสิ้น\n",
        "- โปรแกรมที่ทำงานไม่ได้ (เช่นเขียนผิดไวยากรณ์) จะไม่ได้รับการตรวจ\n",
        "- โปรแกรมที่เขียนในรูปแบบที่ไม่ปฏิบัติตามโจทย์และข้อห้าม จะไม่ได้รับการตรวจ\n",
        "- ข้อสอบนี้ถือเป็นเอกสารราชการที่เป็นความลับ ไม่อนุญาตให้บันทึกเก็บไว้ส่วนตัว หรือเผยแพร่ให้ผู้อื่น\n",
        "- นิสิตที่กระทำผิดเกี่ยวกับการสอบ ตามข้อบังคับจุฬาลงกรณ์มหาวิทยาลัย มีโทษคือได้รับสัญลักษณ์ F ในรายวิชานี้ และอาจพิจารณาให้ถอนรายวิชาอื่นที่ลงทะเบียนไว้ ในภาคการศึกษานี้"
      ]
    },
    {
      "cell_type": "code",
      "execution_count": null,
      "metadata": {
        "cellView": "form",
        "id": "kEdA986EXF2v"
      },
      "outputs": [],
      "source": [
        "#@title เติมข้อมูลข้างล่างนี้ให้สมบูรณ์\n",
        "#@markdown ข้าพเจ้ายอมรับและยินดีปฏิบัติตามระเบียบการสอบ ข้าพเจ้ายืนยันว่าเป็นผู้ทำข้อสอบนี้ด้วยตนเองโดยมิได้รับความช่วยเหลือ หรือให้ความช่วยเหลือในการทำข้อสอบนี้ \n",
        "\n",
        "#@markdown พิมพ์ชื่อและนามสกุลในช่องว่างข้างล่างนี้\n",
        "\n",
        "ลงชื่อ = \"name\"#@param "
      ]
    },
    {
      "cell_type": "markdown",
      "metadata": {
        "id": "fUEOKewZUxGs"
      },
      "source": [
        "# ตอนที่ 1"
      ]
    },
    {
      "cell_type": "markdown",
      "metadata": {
        "id": "cGvuN240UxGt"
      },
      "source": [
        "### คำถาม 1/10\n",
        "โปรแกรมข้างล่างนี้ตรวจว่า เลขประจำตัวนิสิตที่รับมาจากอินพุต เป็นนิสิตคณะวิศวฯ หรือไม่ ดังนี้\n",
        "<pre>\n",
        "c = input()\n",
        "if c[-2:] == 21:\n",
        "    print('Yes, an engineering student ID.')\n",
        "else:\n",
        "    print('No, this is not an intania ID.')\n",
        "</pre>\n",
        "อยากทราบว่า โปรแกรมนี้ทำงานได้ผลตามที่ต้องการหรือไม่ ถ้าไม่ ต้องแก้ที่บรรทัดใด\n",
        "\n",
        "> A) บางอินพุต ได้ผลไม่ถูกต้อง ต้องแก้ที่บรรทัดที่ 1\n",
        "\n",
        "> B) บางอินพุต ได้ผลไม่ถูกต้อง ต้องแก้ที่บรรทัดที่ 3\n",
        "\n",
        "> C) บางอินพุต ได้ผลไม่ถูกต้อง ต้องแก้ที่บรรทัดที่ 2\n",
        "\n",
        "> D) บางอินพุต ได้ผลไม่ถูกต้อง ต้องแก้ที่บรรทัดที่ 5\n",
        "\n",
        "> E) โปรแกรมนี้ทำงานถูกต้องแล้ว\n"
      ]
    },
    {
      "cell_type": "code",
      "execution_count": null,
      "metadata": {
        "cellView": "form",
        "id": "yadiMTn5UxGu"
      },
      "outputs": [],
      "source": [
        "#@title คำตอบ 1/10\n",
        "answer = 'C' #@param [' ', 'A', 'B', 'C', 'D', 'E']"
      ]
    },
    {
      "cell_type": "markdown",
      "metadata": {
        "id": "aJdgD1B-UxGy"
      },
      "source": [
        "### คำถาม 2/10\n",
        "ให้ `s` เป็นตัวแปรที่รับคะแนนที่มีค่าตั้งแต่ 0 ถึง 100 ข้อใดตัดเกรดผิดจากข้ออื่น\n",
        "\n",
        "<table align=left>\n",
        "<tr>\n",
        "<td><pre>\n",
        "A)\n",
        "\n",
        "s = float(input())\n",
        "if s < 50:\n",
        "  print(\"F\")\n",
        "elif s < 60:\n",
        "  print(\"D\")\n",
        "elif s < 70:\n",
        "  print(\"C\")\n",
        "elif s < 80:\n",
        "  print(\"B\")\n",
        "else:\n",
        "  print(\"A\")\n",
        "</pre></td>\n",
        "<td><pre>\n",
        "B)\n",
        "\n",
        "s = float(input())\n",
        "if 80 <= s <= 100:\n",
        "  print(\"A\")\n",
        "if 70 <= s < 80:\n",
        "  print(\"B\")\n",
        "if 60 <= s < 70:\n",
        "  print(\"C\")\n",
        "if 50 <= s < 60:\n",
        "  print(\"D\")\n",
        "else:\n",
        "  print(\"F\")\n",
        "</pre></td>\n",
        "</tr>\n",
        "<tr>\n",
        "<td><pre>\n",
        "C) \n",
        "\n",
        "s = float(input())\n",
        "if s >= 80:\n",
        "  print(\"A\")\n",
        "elif s >= 70:\n",
        "  print(\"B\")\n",
        "elif s >= 60:\n",
        "  print(\"C\")\n",
        "elif s >= 50:\n",
        "  print(\"D\")\n",
        "else:\n",
        "  print(\"F\")\n",
        "</pre></td>\n",
        "<td><pre>\n",
        "D) \n",
        "\n",
        "s = float(input())\n",
        "if 50 <= s < 60:\n",
        "  print(\"D\")\n",
        "if 0 <= s < 50:\n",
        "  print(\"F\")\n",
        "if 60 <= s < 70:\n",
        "  print(\"C\")\n",
        "if 80 <= s <= 100:\n",
        "  print(\"A\")\n",
        "if 70 <= s < 80:\n",
        "  print(\"B\")\n",
        "</pre></td>\n",
        "</tr>\n",
        "<tr>\n",
        "<td><pre>\n",
        "E) เหมือนกันหมด\n",
        "</pre></td>\n",
        "</tr>\n",
        "</table>"
      ]
    },
    {
      "cell_type": "code",
      "execution_count": null,
      "metadata": {
        "cellView": "form",
        "id": "hqPBE3pLUxG1"
      },
      "outputs": [],
      "source": [
        "#@title คำตอบ 2/10\n",
        "answer = 'B' #@param [' ', 'A', 'B', 'C', 'D', 'E']"
      ]
    },
    {
      "cell_type": "markdown",
      "metadata": {
        "id": "uPG_5M_NUxG3"
      },
      "source": [
        "### คำถาม 3/10\n",
        "เครื่องหมายคณิตศาสตร์ใดถูกทำเป็นลำดับที่ 4 ในนิพจน์ <font size=+2>`4*5-2%(5+2)/32`</font>\n",
        "\n",
        "> A) `+`\n",
        "\n",
        "> B) `/`\n",
        "\n",
        "> C) `*`\n",
        "\n",
        "> D) `%`\n",
        "\n",
        "> E) `-`\n"
      ]
    },
    {
      "cell_type": "code",
      "execution_count": null,
      "metadata": {
        "cellView": "form",
        "id": "8hFpVSajUxG3"
      },
      "outputs": [],
      "source": [
        "#@title คำตอบ 3/10\n",
        "answer = 'B' #@param [' ', 'A', 'B', 'C', 'D', 'E']"
      ]
    },
    {
      "cell_type": "markdown",
      "metadata": {
        "id": "sd5RWo3YUxG_"
      },
      "source": [
        "### คำถาม 4/10\n",
        "อยากทราบว่า <font size=+1>$59^{195}$</font> เป็นจำนวนที่มีค่ากี่หลัก \n",
        "\n",
        "เช่น 1200 มี 4 หลัก\n",
        "\n"
      ]
    },
    {
      "cell_type": "code",
      "execution_count": null,
      "metadata": {
        "cellView": "form",
        "id": "nqo30w4sUxHA"
      },
      "outputs": [],
      "source": [
        "#@title คำตอบ 4/10\n",
        "answer = 346 #@param {type:\"number\"}"
      ]
    },
    {
      "cell_type": "markdown",
      "metadata": {
        "id": "HncazW9uUxHC"
      },
      "source": [
        "### คำถาม 5/10\n",
        "ให้ `N` เป็นจำนวนเต็มบวก จงหาค่า `N` น้อยสุดที่การคำนวณ $ \\left ( \\frac{17}{N} \\right ) N $ (หรือที่เขียนเป็นนิพจน์ Python ว่า `17/N * N`) มีค่าไม่เท่ากับ 17.0\n"
      ]
    },
    {
      "cell_type": "code",
      "execution_count": null,
      "metadata": {
        "cellView": "form",
        "id": "kelIShtxUxHC"
      },
      "outputs": [],
      "source": [
        "#@title คำตอบ 5/10\n",
        "#@markdown เลื่อนหาคำตอบที่ต้องการ\n",
        "answer = 17 #@param {type:\"slider\", min:0, max:100, step:1}"
      ]
    },
    {
      "cell_type": "markdown",
      "metadata": {
        "id": "MrDjCrsJUxHD"
      },
      "source": [
        "### คำถาม 6/10\n",
        "<pre>\n",
        "x = ['oh', 'one', 'two', 'three', \n",
        "     'four', 'five', 'six', 'seven', \n",
        "     'eight', 'nine', 'thousand', 'million']\n",
        "d = []\n",
        "for e in x:\n",
        "    d.append(______________________)  # <-------\n",
        "d.sort()\n",
        "for i in range(len(x)):\n",
        "    x[i] = d[i][1]\n",
        "print(x)\n",
        "</pre>\n",
        "ต้องเติมคำสั่งอะไรในช่องว่างขีดเส้นใต้ ของโปรแกรมข้างบนนี้ เพื่อให้หลังสั่งทำงานแล้ว จะแสดง\n",
        "\n",
        "`['thousand', 'million', 'eight', 'seven', 'three', 'five', 'four', 'nine', 'one', 'six', 'two', 'oh']`"
      ]
    },
    {
      "cell_type": "code",
      "execution_count": null,
      "metadata": {
        "cellView": "form",
        "id": "UJwYfscpUxHD"
      },
      "outputs": [],
      "source": [
        "#@title คำตอบ 6/10\n",
        "#@markdown `d.append(`<font color=red>ต้องเขียนอะไรตรงนี้</font>`)`\n",
        "\n",
        "answer =  [-len(e),e]#@param "
      ]
    },
    {
      "cell_type": "markdown",
      "metadata": {
        "id": "UBdqBvfGUxHE"
      },
      "source": [
        "### คำถาม 7/10\n",
        "พิจารณาโปรแกรมข้างล่างนี้ ถ้าโปรแกรมนี้แสดงค่า `08/04/12` อยากทราบว่าผู้ใช้ป้อนอะไรที่อินพุต\n",
        "<pre>\n",
        "x = input()\n",
        "x,s = x.split(':')\n",
        "b,a = x.split('+')\n",
        "b,c = b.split('-')\n",
        "print(a + s + b + s + c)\n",
        "</pre>"
      ]
    },
    {
      "cell_type": "code",
      "execution_count": null,
      "metadata": {
        "cellView": "form",
        "id": "vgu5Ud2WUxHE"
      },
      "outputs": [],
      "source": [
        "#@title คำตอบ 7/10\n",
        "answer = '04-12+08:/' #@param"
      ]
    },
    {
      "cell_type": "markdown",
      "metadata": {
        "id": "eGzifBWuUxHF"
      },
      "source": [
        "### คำถาม 8/10\n",
        "ข้างล่างนี้คือโปรแกรมเข้ารหัส pin code ที่เป็นตัวเลข 4 หลัก แสดงผลลัพธ์ทางจอภาพ\n",
        "<pre>\n",
        "D = ['1','4','9','2','7','6','0','3','5','8']\n",
        "pin_code = input()\n",
        "encoded_pin_code = ''\n",
        "for c in pin_code:\n",
        "    encoded_pin_code += D[(12 + D.index(c)) % 10]\n",
        "print(encoded_pin_code)\n",
        "</pre>\n",
        "ถ้าโปรแกรมนี้แสดง `6591` อยากทราบว่า รหัส pin code ที่ผู้ใช้ป้อนให้ทางอินพุตเป็นอะไร"
      ]
    },
    {
      "cell_type": "code",
      "execution_count": null,
      "metadata": {
        "cellView": "form",
        "id": "zkGA6wtwUxHG"
      },
      "outputs": [],
      "source": [
        "#@title คำตอบ 8/10\n",
        "\n",
        "answer = '2015' #@param "
      ]
    },
    {
      "cell_type": "markdown",
      "metadata": {
        "id": "OFxGqrrWUxHH"
      },
      "source": [
        "### คำถาม 9/10\n",
        "โปรแกรมข้างล่างนี้รับจำนวนเต็ม 0 ถึง 6 แทนเลขวันประจำสัปดาห์ ถ้ารับ 0 จะแสดง Sunday, รับ 1 จะแสดง Monday, ... รับ 6 แสดง Saturday\n",
        "\n",
        "จงเขียนคำสั่งในช่องว่างที่ขีดเส้นใต้ เพื่อให้โปรแกรทำงานคามที่ต้องการ\n",
        "<pre>\n",
        "day = 'Sunday   Monday   Tuesday  Wednesday' + \\\n",
        "      'Thursday Friday   Saturday'\n",
        "d = int(input())\n",
        "print(day[________________].strip()) # เขียนคำตอบเฉพาะที่ต้องอยู่ในบริเวณขีดเส้นใต้เท่านั้น\n",
        "</pre>\n",
        "หมายเหตุ: ถ้า `s` เป็นสตริง คำสั่ง `s.strip()` จะได้ผลเป็นสตริงเหมือนของ `s` แต่ไม่มีช่องว่างทั้งหลายทางซ้ายและขวาของสตริง เช่น\n",
        "<pre>\n",
        "s = '   a b c   '\n",
        "t = s.strip()  # ได้ t เก็บค่า 'a b c'\n",
        "</pre>"
      ]
    },
    {
      "cell_type": "code",
      "execution_count": null,
      "metadata": {
        "cellView": "form",
        "id": "Ra3ob7xRUxHI"
      },
      "outputs": [],
      "source": [
        "#@title คำตอบ 9/10\n",
        "#@markdown `print(day[`<font color=red>ต้องเขียนอะไรตรงนี้</font>`].strip())`\n",
        "answer = 9*d: 9*(d+1) #@param"
      ]
    },
    {
      "cell_type": "markdown",
      "metadata": {
        "id": "lP3XBPfWUxHI"
      },
      "source": [
        "### คำถาม 10/10\n",
        "\n",
        "![if-loop_01.png](data:image/png;base64,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)\n",
        "\n",
        "จาก flowchart ถ้าเริ่มต้น `a`, `b` และ `c` มีค่า `18`, `10`,และ `17` ตามลำดับ\n",
        "พอทำงานจนถึงวงกลมเลข 1 ด้านล่าง\n",
        "`a`, `b` และ `c` จะมีค่าเท่าไร\n"
      ]
    },
    {
      "cell_type": "code",
      "execution_count": null,
      "metadata": {
        "cellView": "form",
        "id": "S9KksjtJUxHM"
      },
      "outputs": [],
      "source": [
        "#@title คำตอบ 10/10\n",
        "a =  35#@param {type:\"number\"}\n",
        "b =  10#@param {type:\"number\"}\n",
        "c =  62#@param {type:\"number\"}"
      ]
    },
    {
      "cell_type": "markdown",
      "metadata": {
        "id": "gE7bSsMyUxHR"
      },
      "source": [
        "# ตอนที่ 2: เขียนโปรแกรม"
      ]
    },
    {
      "cell_type": "markdown",
      "metadata": {
        "id": "uHWKzK8pUxHR"
      },
      "source": [
        "## คำถาม 1/5\n"
      ]
    },
    {
      "cell_type": "markdown",
      "metadata": {
        "id": "PcEY60TS8F-7"
      },
      "source": [
        "### **DOMINO**\n",
        "ตัวโดมิโนจะแผ่นรูปสี่เหลี่ยมผืนผ้า ในตัวโดมิโนแต่ละตัวที่มีจุดอยู่อยู่ 2 ฝั่งตั้งแต่ 0 จุดถึง 6 จุด <br>\n",
        "\n",
        "เราใช้สตริง `\"|X:Y|\"` แทนตัวโดมิโน 1 ตัว โดย `0` &le; `X` &le; `6` และ `0` &le; `Y` &le; `6` ลำดับของ X กับ Y ไม่มีความสำคัญ นั่นคือ `\"|X:Y|\"` และ `\"|Y:X|\"` ถือว่าเป็นตัวโดมิโนเดียวกัน เช่น `\"|1:3|\"`, `\"|3:1|\"` คือตัวโดมิโนเดียวกัน <br>\n",
        "\n",
        "สตริง `\"|1:2||2:3||5:6||6:2|\"` ใช้แทนตัวโดมิโน 4 ตัวที่มีเลข `1:2`, `2:3`, `5:6`, และ `6:2` ตามลำดับ <br>\n",
        "\n",
        "ให้เขียนโปรแกรมเพื่อดึงโดมิโนตัวที่ k ออกจากชุด กำหนดให้โดมิโนจากตัวซ้ายไปขวา คือตัวที่ 1, 2, ...\n",
        "\n",
        "**ข้อมูลนำเข้า**\n",
        "- บรรทัดที่ 1 เป็นชุดของโดมิโน\n",
        "- บรรทัดที่ 2 เป็นจำนวนเต็ม k โดยที่ 1 &le; k &le; จำนวนตัวโดมิโนในบรรทัดที่ 1\n",
        "\n",
        "**ข้อมูลส่งออก**\n",
        "- สตริง 2 บรรทัด บรรทัดแรกเป็นโดมิโนตัวที่ k, บรรทัดที่สองเป็นสตริงที่แสดงชุดของตัวโดมิโนที่เหลือจากเอาตัวที่ k ออกไป\n",
        "\n",
        "## ตัวอย่าง\n",
        "<pre>\n",
        "<table align=left border=2>\n",
        "<tr><td>Input</td><td>Output</td></tr>\n",
        "<tr>\n",
        "    <td>|1:2||2:3||5:6||6:2|<br>\n",
        "    1</td>\n",
        "    <td>|1:2|<br>\n",
        "    |2:3||5:6||6:2|</td>\n",
        "</tr><tr>\n",
        "    <td>|1:2||2:3||5:6||6:2|<br>\n",
        "    2</td>\n",
        "    <td>|2:3|<br>\n",
        "    |1:2||5:6||6:2|</td>\n",
        "</tr><tr>\n",
        "    <td>|1:2||2:3||5:6||6:2|<br>\n",
        "    3</td>\n",
        "    <td>|5:6|<br>\n",
        "    |1:2||2:3||6:2|<br>\n",
        "    </td>\n",
        "</tr>\n",
        "<tr>\n",
        "    <td>|1:2||2:3||5:6||6:2|<br>\n",
        "    4</td>\n",
        "    <td>|6:2|<br>\n",
        "    |1:2||2:3||5:6|<br>\n",
        "    </td>\n",
        "</tr>\n",
        "\n",
        "</table>\n",
        "</pre>\n",
        "\n",
        "---\n",
        "\n",
        "### เขียนโปรแกรมใน code cell ข้างล่างนี้เท่านั้น\n",
        "\n",
        "## <font color=red>ข้อห้าม</font>\n",
        "- ห้าม import อะไรเพิ่มเติม \n",
        "- ห้ามใชัคำสั่ง while หรือ for\n",
        "- ห้ามใช้ list, tuple, set, dict (สามารถใช้คำสั่งอื่นที่ทำงานได้ใน Python 3.7)\n",
        "- ห้ามแก้ไขข้อความใน **บรรทัดแรก** ของ code cell ข้างล่างนี้โดยเด็ดขาด\n"
      ]
    },
    {
      "cell_type": "code",
      "execution_count": 1,
      "metadata": {
        "colab": {
          "base_uri": "https://localhost:8080/"
        },
        "id": "BguhCBNN9ZyX",
        "outputId": "81ace020-aaba-4beb-e720-30421e230ed4"
      },
      "outputs": [
        {
          "name": "stdout",
          "output_type": "stream",
          "text": [
            "|1:2||2:3||5:6||6:2|\n",
            "2\n",
            "|2:3|\n",
            "|1:2||5:6||6:2|\n"
          ]
        }
      ],
      "source": [
        "# DOMINO (ไม่ลบหรือแก้ไขบรรทัดนี้ หรือเพิ่มอะไรก่อนบรรทัดนี้ โดยเด็ดขาด*)\n",
        "# เขียนในเซลล์นี้เท่านั้น ถ้าต้องการเขียนฟังก์ชันเพิ่ม ก็เขียนในเซลล์นี้\n",
        "# ห้ามเรียกฟังก์ชันที่เขียนใน code cell อื่น\n",
        "i = input()\n",
        "k = int(input())\n",
        "o = i[(k-1)*5:(k-1)*5+5]\n",
        "i = i.replace(o, '')\n",
        "print(o)\n",
        "print(i)"
      ]
    },
    {
      "cell_type": "markdown",
      "metadata": {
        "id": "UCMukvxZ9p7K"
      },
      "source": [
        "## คำถาม 2/5\n",
        "\n",
        "\n",
        "## คำถาม 3/5\n",
        "\n",
        "\n",
        "## คำถาม 4/5\n",
        "\n",
        "\n",
        "## คำถาม 5/5"
      ]
    }
  ],
  "metadata": {
    "colab": {
      "collapsed_sections": [],
      "name": "Sample_Midterm_2_2021_6430342121.ipynb",
      "provenance": []
    },
    "kernelspec": {
      "display_name": "Python 3.9.10 64-bit",
      "language": "python",
      "name": "python3"
    },
    "language_info": {
      "name": "python",
      "version": "3.9.10"
    },
    "vscode": {
      "interpreter": {
        "hash": "b0fa6594d8f4cbf19f97940f81e996739fb7646882a419484c72d19e05852a7e"
      }
    }
  },
  "nbformat": 4,
  "nbformat_minor": 0
}
