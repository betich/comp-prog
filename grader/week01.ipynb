{
 "cells": [
  {
   "cell_type": "markdown",
   "metadata": {},
   "source": [
    "## [01_Expr_01] 01_Expr_★_Stirling_Factorial"
   ]
  },
  {
   "cell_type": "code",
   "execution_count": 2,
   "metadata": {},
   "outputs": [
    {
     "name": "stdout",
     "output_type": "stream",
     "text": [
      "0.9958701614627972\n",
      "1.0022744491822266\n"
     ]
    }
   ],
   "source": [
    "import math\n",
    "\n",
    "n = int(input())\n",
    "\n",
    "lower_bound = math.sqrt(2 * math.pi) * (n ** (n + 1/2)) * math.e ** (-n + (1/((12 * n) + 1)))\n",
    "upper_bound = math.sqrt(2 * math.pi) * (n ** (n + 1/2)) * math.e ** (-n + (1/(12 * n)))\n",
    "\n",
    "print(lower_bound)\n",
    "print(upper_bound)"
   ]
  },
  {
   "cell_type": "markdown",
   "metadata": {},
   "source": [
    "## [01_Expr_02] 01_Expr_★_Quadratic_Root"
   ]
  },
  {
   "cell_type": "code",
   "execution_count": 47,
   "metadata": {},
   "outputs": [
    {
     "name": "stdout",
     "output_type": "stream",
     "text": [
      "2.0 3.0\n"
     ]
    }
   ],
   "source": [
    "import math\n",
    "\n",
    "[x, y, z] = [float(input()) for x in range(3)]\n",
    "\n",
    "def quadratic_formula(a, b, c):\n",
    "    return [(-b - math.sqrt(b ** 2 - 4 * a * c)) / (2 * a), (-b + math.sqrt(b ** 2 - 4 * a * c)) / (2 * a)]\n",
    "\n",
    "[ans1, ans2] = quadratic_formula(x, y, z)\n",
    "\n",
    "print(round(ans1, 3), round(ans2, 3))"
   ]
  },
  {
   "cell_type": "markdown",
   "metadata": {},
   "source": [
    "## [01_Expr_03] 01_Expr_★★_An_Expression"
   ]
  },
  {
   "cell_type": "code",
   "execution_count": 46,
   "metadata": {},
   "outputs": [
    {
     "name": "stdout",
     "output_type": "stream",
     "text": [
      "3.216814\n"
     ]
    }
   ],
   "source": [
    "import math\n",
    "\n",
    "a = math.pi\n",
    "b = (math.factorial(10) / (8 ** 8))\n",
    "c = (math.log(9.7)) ** ((7 / math.sqrt(71)) - math.sin(math.radians(40)))\n",
    "\n",
    "d = (1.2) ** (2.3 ** (1/3))\n",
    "\n",
    "res = (a - b + c) / d\n",
    "\n",
    "print(round(res, 6))"
   ]
  },
  {
   "cell_type": "markdown",
   "metadata": {},
   "source": [
    "## [01_Expr_04] 01_Expr_★★_Body_Surface_Area"
   ]
  },
  {
   "cell_type": "code",
   "execution_count": 50,
   "metadata": {},
   "outputs": [
    {
     "name": "stdout",
     "output_type": "stream",
     "text": [
      "1.6832508230603465\n",
      "1.680428314258862\n",
      "1.6863370568707923\n"
     ]
    }
   ],
   "source": [
    "import math\n",
    "\n",
    "w1 = float(input())\n",
    "h1 = float(input())\n",
    "\n",
    "def mosteller_formula(weight, height):\n",
    "  return math.sqrt(weight * height) / 60\n",
    "\n",
    "def haycock_formula(weight, height):\n",
    "  return 0.024265 * (weight ** (0.5378)) * (height ** (0.3964))\n",
    "\n",
    "def boyd_formula(weight, height):\n",
    "  return 0.0333 * (weight ** (0.6157 - (0.0188 * math.log10(weight)))) * (height ** 0.3)\n",
    "\n",
    "print(mosteller_formula(w1, h1), haycock_formula(w1, h1), boyd_formula(w1, h1), sep=\"\\n\")"
   ]
  },
  {
   "cell_type": "markdown",
   "metadata": {},
   "source": [
    "## [01_Expr_06] 01_Expr_★★★_Duration"
   ]
  },
  {
   "cell_type": "code",
   "execution_count": 6,
   "metadata": {},
   "outputs": [
    {
     "name": "stdout",
     "output_type": "stream",
     "text": [
      "-1\n",
      "-1430\n",
      "23:10:10\n",
      "1\n",
      "49\n",
      "0\n",
      "49\n",
      "-1\n",
      "-1430\n"
     ]
    }
   ],
   "source": [
    "# [h1, m1, s1, h2, m2, s2] = [int(input()) for x in range(6)]\n",
    "\n",
    "def time(h1, m1, s1, h2, m2, s2):\n",
    "  t1 = h1 * 3600 + m1 * 60 + s1\n",
    "  t2 = h2 * 3600 + m2 * 60 + s2\n",
    "\n",
    "  dt = t2 - t1\n",
    "  dh = (dt // 3600) % 24\n",
    "\n",
    "  dt -= dh * 3600\n",
    "\n",
    "  dm = (dt // 60) % 60\n",
    "  \n",
    "  dt -= dm * 60\n",
    "  ds = dt % 60\n",
    "\n",
    "  return str(dh) + \":\" + str(dm) + \":\" + str(ds)\n",
    "\n",
    "print(time(2, 10, 20, 4, 0, 0), time(18, 10, 10, 19, 0, 0), time(19, 0, 0, 18, 10, 10), sep=\"\\n\")\n",
    "\n",
    "assert time(2, 10, 20, 4, 0, 0) == \"1:49:40\"\n",
    "assert time(18, 10, 10, 19, 0, 0) == \"0:49:50\"\n",
    "assert time(19, 0, 0, 18, 10, 10) == \"23:10:10\"\n",
    "\n"
   ]
  },
  {
   "cell_type": "code",
   "execution_count": 1,
   "metadata": {},
   "outputs": [
    {
     "name": "stdout",
     "output_type": "stream",
     "text": [
      "4\n"
     ]
    }
   ],
   "source": [
    "print(-1 % 5)"
   ]
  }
 ],
 "metadata": {
  "kernelspec": {
   "display_name": "Python 3.9.10 64-bit",
   "language": "python",
   "name": "python3"
  },
  "language_info": {
   "codemirror_mode": {
    "name": "ipython",
    "version": 3
   },
   "file_extension": ".py",
   "mimetype": "text/x-python",
   "name": "python",
   "nbconvert_exporter": "python",
   "pygments_lexer": "ipython3",
   "version": "3.9.10"
  },
  "orig_nbformat": 4,
  "vscode": {
   "interpreter": {
    "hash": "b0fa6594d8f4cbf19f97940f81e996739fb7646882a419484c72d19e05852a7e"
   }
  }
 },
 "nbformat": 4,
 "nbformat_minor": 2
}
