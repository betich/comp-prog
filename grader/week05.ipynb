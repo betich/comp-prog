{
 "cells": [
  {
   "cell_type": "markdown",
   "metadata": {},
   "source": [
    "## [05_List_11] 05_List_★_MissingDigits"
   ]
  },
  {
   "cell_type": "code",
   "execution_count": 4,
   "metadata": {},
   "outputs": [
    {
     "name": "stdout",
     "output_type": "stream",
     "text": [
      "None\n"
     ]
    }
   ],
   "source": [
    "k = input()\n",
    "nums = map(str, range(10))\n",
    "\n",
    "for i in k:\n",
    "  if i in nums:\n",
    "    nums.remove(i)\n",
    "\n",
    "if len(nums) == 0:\n",
    "  print(\"None\")\n",
    "else:\n",
    "  print(\",\".join(nums))"
   ]
  },
  {
   "cell_type": "markdown",
   "metadata": {},
   "source": [
    "## [05_List_12] 05_List_★_Nicknames"
   ]
  },
  {
   "cell_type": "code",
   "execution_count": 17,
   "metadata": {},
   "outputs": [
    {
     "name": "stdout",
     "output_type": "stream",
     "text": [
      "Not found\n"
     ]
    }
   ],
   "source": [
    "names = [\"Robert\", \"William\", \"James\", \"John\", \"Margaret\", \"Edward\", \"Sarah\", \"Andrew\", \"Anthony\", \"Deborah\"]\n",
    "nicknames = [\"Dick\", \"Bill\", \"Jim\", \"Jack\", \"Peggy\", \"Ed\", \"Sally\", \"Andy\", \"Tony\", \"Debbie\"]\n",
    "\n",
    "n = input()\n",
    "input_names = [input() for _ in range(int(n))]\n",
    "print(\"\\n\".join(list(map(lambda name: nicknames[names.index(name)] if name in names else (names[nicknames.index(name)] if name in nicknames else \"Not found\"), input_names))))"
   ]
  },
  {
   "cell_type": "markdown",
   "metadata": {},
   "source": [
    "## [05_List_13] 05_List_★_Back_n_Front"
   ]
  },
  {
   "cell_type": "code",
   "execution_count": 67,
   "metadata": {},
   "outputs": [
    {
     "name": "stdout",
     "output_type": "stream",
     "text": [
      "[]\n"
     ]
    }
   ],
   "source": [
    "inputs = []\n",
    "\n",
    "n = int(input())\n",
    "\n",
    "for i in range(n):\n",
    "  k = input()\n",
    "  inputs.append(k)\n",
    "\n",
    "k = input()\n",
    "inputs = inputs + (k.split(\" \") if k != \"\" else [])\n",
    "\n",
    "while True:\n",
    "  k = input()\n",
    "  if int(k) != -1:\n",
    "    inputs.append(k)\n",
    "  else:\n",
    "    break\n",
    "\n",
    "result = (inputs[::-2] if len(inputs) % 2 == 0 else inputs[-2::-2]) + inputs[::2]\n",
    "print(list(map(int, result)))\n"
   ]
  },
  {
   "cell_type": "markdown",
   "metadata": {},
   "source": [
    "## [05_List_14] 05_List_★_Peaks"
   ]
  },
  {
   "cell_type": "code",
   "execution_count": 88,
   "metadata": {},
   "outputs": [
    {
     "name": "stdout",
     "output_type": "stream",
     "text": [
      "0\n"
     ]
    }
   ],
   "source": [
    "data = list(map(int, input().split()))\n",
    "\n",
    "k = 0\n",
    "for i in range(len(data)):\n",
    "  if (i == 0) or (i == len(data) - 1):\n",
    "    continue\n",
    "  elif data[i] > data[i-1] and data[i] > data[i+1]:\n",
    "    k += 1\n",
    "\n",
    "print(k)"
   ]
  },
  {
   "cell_type": "markdown",
   "metadata": {},
   "source": [
    "## [05_List_15] 05_List_★★_UniqueCount"
   ]
  },
  {
   "cell_type": "code",
   "execution_count": 5,
   "metadata": {},
   "outputs": [
    {
     "name": "stdout",
     "output_type": "stream",
     "text": [
      "50000\n",
      "[0, 1, 2, 3, 4, 5, 6, 7, 8, 9]\n"
     ]
    }
   ],
   "source": [
    "k = [int(e) for e in input().split()]\n",
    "\n",
    "res = []\n",
    "for i in k:\n",
    "  if i not in res:\n",
    "    res += [i]\n",
    "\n",
    "res.sort()\n",
    "print(len(res))\n",
    "print(res[:10] if len(res) > 10 else res)"
   ]
  },
  {
   "cell_type": "code",
   "execution_count": null,
   "metadata": {},
   "outputs": [],
   "source": [
    "k = [int(e) for e in input().split()]\n",
    "a = list(set(k))\n",
    "a.sort()\n",
    "print(len(a))\n",
    "print(a[:10] if len(a) > 10 else a)"
   ]
  },
  {
   "cell_type": "markdown",
   "metadata": {},
   "source": [
    "## [05_List_16] 05_List_★_Collatz"
   ]
  },
  {
   "cell_type": "code",
   "execution_count": 20,
   "metadata": {},
   "outputs": [
    {
     "name": "stdout",
     "output_type": "stream",
     "text": [
      "3->10->5->16->8->4->2->1\n"
     ]
    }
   ],
   "source": [
    "n = int(input())\n",
    "\n",
    "steps = []\n",
    "\n",
    "while n != 1:\n",
    "  steps.append(str(n))\n",
    "  if n % 2 == 0:\n",
    "    n //= 2\n",
    "  else:\n",
    "    n = n * 3 + 1\n",
    "\n",
    "steps.append(str(n))\n",
    "\n",
    "print(\"->\".join(steps[len(steps)-15:len(steps)] if len(steps) > 15 else steps))"
   ]
  },
  {
   "cell_type": "markdown",
   "metadata": {},
   "source": [
    "## [05_List_21] 05_List_★★_Upgrade"
   ]
  },
  {
   "cell_type": "code",
   "execution_count": 23,
   "metadata": {},
   "outputs": [
    {
     "name": "stdout",
     "output_type": "stream",
     "text": [
      "44444 A\n",
      "22222 D\n",
      "11111 B+\n",
      "66666 C\n",
      "55555 B+\n",
      "33333 C\n"
     ]
    }
   ],
   "source": [
    "ids = []\n",
    "grades = []\n",
    "\n",
    "grade_levels = [\"F\", \"D\", \"D+\", \"C\", \"C+\", \"B\", \"B+\", \"A\"]\n",
    "\n",
    "while True:\n",
    "  k = input()\n",
    "\n",
    "  if k == \"q\":\n",
    "    break\n",
    "  else:\n",
    "    a = k.split()\n",
    "    ids.append(a[0])\n",
    "    grades.append(a[1])\n",
    "    \n",
    "uids = input().split()\n",
    "\n",
    "for e in uids:\n",
    "  if e in ids:\n",
    "    pos = ids.index(e)\n",
    "    grade_pos = grade_levels.index(grades[pos])\n",
    "\n",
    "    if grade_pos != len(grade_levels) - 1:\n",
    "      grades[pos] = grade_levels[grade_pos+1]\n",
    "\n",
    "for i in range(len(ids)):\n",
    "  print(ids[i], grades[i])\n"
   ]
  },
  {
   "cell_type": "markdown",
   "metadata": {},
   "source": [
    "## [05_List_22] 05_List_★★_Upgrade_2"
   ]
  },
  {
   "cell_type": "code",
   "execution_count": 24,
   "metadata": {},
   "outputs": [
    {
     "name": "stdout",
     "output_type": "stream",
     "text": [
      "22222 A\n",
      "33333 A\n"
     ]
    }
   ],
   "source": [
    "ids = []\n",
    "grades = []\n",
    "\n",
    "grade_levels = [\"F\", \"D\", \"D+\", \"C\", \"C+\", \"B\", \"B+\", \"A\"]\n",
    "\n",
    "while True:\n",
    "  k = input()\n",
    "\n",
    "  if k == \"q\":\n",
    "    break\n",
    "  else:\n",
    "    a = k.split()\n",
    "    ids.append(a[0])\n",
    "    grades.append(a[1])\n",
    "    \n",
    "uids = input().split()\n",
    "\n",
    "for e in uids:\n",
    "  if e in ids:\n",
    "    pos = ids.index(e)\n",
    "    grade_pos = grade_levels.index(grades[pos])\n",
    "\n",
    "    if grade_pos != len(grade_levels) - 1:\n",
    "      grades[pos] = grade_levels[grade_pos+1]\n",
    "\n",
    "sorted_ids = sorted(ids)\n",
    "\n",
    "for i in range(len(ids)):\n",
    "  pos = ids.index(sorted_ids[i])\n",
    "  print(sorted_ids[i], grades[pos])\n"
   ]
  },
  {
   "cell_type": "markdown",
   "metadata": {},
   "source": [
    "## [05_List_23] 05_List_★★_Third_Closest"
   ]
  },
  {
   "cell_type": "code",
   "execution_count": 30,
   "metadata": {},
   "outputs": [
    {
     "name": "stdout",
     "output_type": "stream",
     "text": [
      "#4: (0.3, 0.3)\n"
     ]
    }
   ],
   "source": [
    "n = int(input())\n",
    "coordinates = [input().split() for _ in range(n)]\n",
    "coordinates_values = list(map(lambda x: float(x[0])**2 + float(x[1])**2, coordinates))\n",
    "pos = coordinates_values.index(sorted(coordinates_values)[2])\n",
    "print(\"#{}: ({}, {})\".format(pos+1, coordinates[pos][0], coordinates[pos][1]))"
   ]
  },
  {
   "cell_type": "markdown",
   "metadata": {},
   "source": [
    "## [05_List_31] 05_List_★★★_Cut_n_Shuffle"
   ]
  },
  {
   "cell_type": "code",
   "execution_count": 39,
   "metadata": {},
   "outputs": [
    {
     "name": "stdout",
     "output_type": "stream",
     "text": [
      "10 Q J A\n"
     ]
    }
   ],
   "source": [
    "deck = input().split()\n",
    "commands = input()\n",
    "\n",
    "for e in [*commands]:\n",
    "  front = deck[:len(deck)//2]\n",
    "  back = deck[len(deck)//2:]\n",
    "\n",
    "  if e == \"C\":\n",
    "    deck = back + front\n",
    "  if e == \"S\":\n",
    "    res = []\n",
    "    for i in range(len(front)):\n",
    "      res += [front[i], back[i]]\n",
    "    deck = res\n",
    "\n",
    "print(\" \".join(deck))"
   ]
  },
  {
   "cell_type": "markdown",
   "metadata": {},
   "source": [
    "## [05_List_32] 05_List_★★★_QueueTicket"
   ]
  },
  {
   "cell_type": "code",
   "execution_count": 88,
   "metadata": {},
   "outputs": [
    {
     "name": "stdout",
     "output_type": "stream",
     "text": [
      "ticket 301\n",
      "ticket 302\n",
      "call 301\n",
      "qtime 301 20\n",
      "call 302\n",
      "qtime 302 40\n",
      "avg_qtime 30.0\n"
     ]
    }
   ],
   "source": [
    "n = int(input())\n",
    "commands = [input() for _ in range(n)]\n",
    "\n",
    "n = 0\n",
    "queue = []\n",
    "waiting = []\n",
    "\n",
    "waiting_times = []\n",
    "\n",
    "for command in commands:\n",
    "  x = command.split()\n",
    "  a = x[0]\n",
    "  b = x[1] if len(x) > 1 else None\n",
    "\n",
    "  if a == \"reset\":\n",
    "    n = int(b)\n",
    "\n",
    "  if a == \"new\":\n",
    "    queue.append([n, int(b)])\n",
    "    print(\"ticket\", n)\n",
    "    n += 1\n",
    "  \n",
    "  if a == \"next\":\n",
    "    called_queue = queue.pop(0)\n",
    "    waiting.append(called_queue)\n",
    "    print(\"call\", called_queue[0])\n",
    "\n",
    "  if a == \"order\":\n",
    "    dt = int(b) -  waiting[-1][1]\n",
    "    waiting_times.append(dt)\n",
    "    print(\"qtime\", waiting[-1][0], dt)\n",
    "\n",
    "  if a == \"avg_qtime\":\n",
    "    print(\"avg_qtime\", sum(waiting_times) / len(waiting_times))  \n"
   ]
  }
 ],
 "metadata": {
  "kernelspec": {
   "display_name": "Python 3.9.10 64-bit",
   "language": "python",
   "name": "python3"
  },
  "language_info": {
   "codemirror_mode": {
    "name": "ipython",
    "version": 3
   },
   "file_extension": ".py",
   "mimetype": "text/x-python",
   "name": "python",
   "nbconvert_exporter": "python",
   "pygments_lexer": "ipython3",
   "version": "3.9.10"
  },
  "orig_nbformat": 4,
  "vscode": {
   "interpreter": {
    "hash": "b0fa6594d8f4cbf19f97940f81e996739fb7646882a419484c72d19e05852a7e"
   }
  }
 },
 "nbformat": 4,
 "nbformat_minor": 2
}
