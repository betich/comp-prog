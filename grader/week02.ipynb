{
 "cells": [
  {
   "cell_type": "markdown",
   "metadata": {},
   "source": [
    "## [02_StrList_01] 02-StrLst_★_CitizenID"
   ]
  },
  {
   "cell_type": "code",
   "execution_count": 13,
   "metadata": {},
   "outputs": [
    {
     "name": "stdout",
     "output_type": "stream",
     "text": [
      "All tests passed\n"
     ]
    }
   ],
   "source": [
    "def get_national_id(input_id):\n",
    "  d = [int(x) for x in [*input_id]]\n",
    "\n",
    "  last_digit = (11 - (13*d[0] + 12*d[1] + 11*d[2] + 10*d[3] + 9*d[4] + 8*d[5] + 7*d[6] + 6*d[7] + 5*d[8] + 4*d[9] + 3*d[10] + 2*d[11]) % 11 ) % 10\n",
    "\n",
    "  return \"{0} {1}{2}{3}{4} {5}{6}{7}{8}{9} {10}{11} {12}\".format(*d, last_digit)\n",
    "\n",
    "assert get_national_id(\"123456789012\") == \"1 2345 67890 12 1\"\n",
    "assert get_national_id(\"310030011214\") == \"3 1003 00112 14 2\"\n",
    "assert get_national_id(\"110070234512\") == \"1 1007 02345 12 9\"\n",
    "\n",
    "print(\"All tests passed\")"
   ]
  },
  {
   "cell_type": "markdown",
   "metadata": {},
   "source": [
    "## [02_StrList_02] 02-StrLst_★_Arabic_Numerals"
   ]
  },
  {
   "cell_type": "code",
   "execution_count": 15,
   "metadata": {},
   "outputs": [
    {
     "name": "stdout",
     "output_type": "stream",
     "text": [
      "4 --> four\n"
     ]
    }
   ],
   "source": [
    "number_words = [\"zero\", \"one\", \"two\", \"three\", \"four\", \"five\", \"six\", \"seven\", \"eight\", \"nine\"]\n",
    "\n",
    "num = int(input())\n",
    "\n",
    "print(\"{0} --> {1}\".format(num, number_words[num]))"
   ]
  },
  {
   "cell_type": "markdown",
   "metadata": {},
   "source": [
    "## [02_StrList_03] 02-StrLst_★_USDate"
   ]
  },
  {
   "cell_type": "code",
   "execution_count": 17,
   "metadata": {},
   "outputs": [
    {
     "name": "stdout",
     "output_type": "stream",
     "text": [
      "January 12, 2019\n"
     ]
    }
   ],
   "source": [
    "[d, m, y] = input().split(\"/\")\n",
    "\n",
    "months = [\"January\", \"February\", \"March\", \"April\", \"May\", \"June\", \"July\", \"August\", \"September\", \"October\", \"November\", \"December\"]\n",
    "\n",
    "print(\"{month} {day}, {year}\".format(month=months[int(m) - 1], day=d, year=y))"
   ]
  },
  {
   "cell_type": "markdown",
   "metadata": {},
   "source": [
    "## [02_StrList_04] 02-StrLst_★_NDigits"
   ]
  },
  {
   "cell_type": "code",
   "execution_count": 20,
   "metadata": {},
   "outputs": [
    {
     "name": "stdout",
     "output_type": "stream",
     "text": [
      "00123\n"
     ]
    }
   ],
   "source": [
    "m = input()\n",
    "n = input()\n",
    "\n",
    "print(\"0\"*(max(0, int(n) - len(m))) + m)"
   ]
  },
  {
   "cell_type": "markdown",
   "metadata": {},
   "source": [
    "## [02_StrList_05] 02-StrLst_★_WeeklySales"
   ]
  },
  {
   "cell_type": "code",
   "execution_count": 27,
   "metadata": {},
   "outputs": [
    {
     "name": "stdout",
     "output_type": "stream",
     "text": [
      "21\n"
     ]
    }
   ],
   "source": [
    "nums = [int(x) for x in input().split()]\n",
    "\n",
    "print(sum(nums))\n"
   ]
  },
  {
   "cell_type": "markdown",
   "metadata": {},
   "source": [
    "## [02_StrList_06] 02-StrLst_★★_AddVector"
   ]
  },
  {
   "cell_type": "code",
   "execution_count": 29,
   "metadata": {},
   "outputs": [
    {
     "name": "stdout",
     "output_type": "stream",
     "text": [
      "[1.0, 2.0, 3.0] + [2.0, 3.0, 4.0] = [3.0, 5.0, 7.0]\n"
     ]
    }
   ],
   "source": [
    "vector1 = [float(x) for x in eval(input())]\n",
    "vector2 = [float(y) for y in eval(input())]\n",
    "\n",
    "vector3 = [vector1[i] + vector2[i] for i in range(len(vector1))]\n",
    "\n",
    "vector4 = [float(vector1[0]) + float(vector2[0]), float(vector1[1]) + float(vector2[1]), float(vector1[2]) + float(vector2[2])]\n",
    "\n",
    "print(\"{0} + {1} = {2}\".format(vector1, vector2, vector3))"
   ]
  },
  {
   "cell_type": "markdown",
   "metadata": {},
   "source": [
    "## [02_StrList_07] 02-StrLst_★★★_Decryption"
   ]
  },
  {
   "cell_type": "code",
   "execution_count": 48,
   "metadata": {},
   "outputs": [
    {
     "name": "stdout",
     "output_type": "stream",
     "text": [
      "813C\n"
     ]
    }
   ],
   "source": [
    "cypher = input() # 92813912398100282033745980018127\n",
    "\n",
    "a = cypher[3::7]\n",
    "b = cypher[7::5]\n",
    "\n",
    "c = int(a) + int(b) + 10000\n",
    "d = str(c)[-4:-1]\n",
    "\n",
    "e = int(str(sum([int(i) for i in [*d]]))[-1]) + 1\n",
    "f = chr(65 + e - 1)\n",
    "\n",
    "g = d + f\n",
    "\n",
    "print(g)\n"
   ]
  },
  {
   "cell_type": "code",
   "execution_count": 99,
   "metadata": {},
   "outputs": [
    {
     "name": "stdout",
     "output_type": "stream",
     "text": [
      "4\n"
     ]
    }
   ],
   "source": [
    "print(str(34)[-1])"
   ]
  },
  {
   "cell_type": "markdown",
   "metadata": {},
   "source": [
    "## [02_StrList_08] 02-StrLst_★★★_Decimal2Fraction"
   ]
  },
  {
   "cell_type": "code",
   "execution_count": 13,
   "metadata": {},
   "outputs": [
    {
     "name": "stdout",
     "output_type": "stream",
     "text": [
      "0 9 9\n",
      "0 / 1\n",
      "63 9 9\n",
      "0 9 9\n",
      "45 90 45\n",
      "75 900 75\n",
      "225 9900 225\n",
      "123333333 999000 3\n",
      "987000 999 3\n"
     ]
    }
   ],
   "source": [
    "import math\n",
    "\n",
    "def decimal_to_fraction(input_string):\n",
    "  [whole, decimal, repeat] = input_string.split(\",\")\n",
    "\n",
    "  numerator = int(\"{0}{1}{2}\".format(whole, decimal, repeat))-int(\"{0}{1}\".format(whole, decimal))\n",
    "  denominator = 10**len(str(decimal) + str(repeat)) - 10**len(str(decimal))\n",
    "\n",
    "  GCD = math.gcd(numerator, denominator)\n",
    "  print(numerator, denominator, GCD)\n",
    "\n",
    "  return \"{0} / {1}\".format(numerator//GCD, denominator//GCD)\n",
    "\n",
    "# print(decimal_to_fraction(input()))\n",
    "print(decimal_to_fraction(\"0,,0\"))\n",
    "\n",
    "assert decimal_to_fraction(\"7,,0\") == \"7 / 1\"\n",
    "assert decimal_to_fraction(\"0,,0\") == \"0 / 1\"\n",
    "assert decimal_to_fraction(\"0,5,0\") == \"1 / 2\"\n",
    "assert decimal_to_fraction(\"0,08,3\") == \"1 / 12\"\n",
    "assert decimal_to_fraction(\"0,02,27\") == \"1 / 44\"\n",
    "assert decimal_to_fraction(\"123,456,789\") == \"41111111 / 333000\"\n",
    "assert decimal_to_fraction(\"987,,987\") == \"329000 / 333\""
   ]
  },
  {
   "cell_type": "code",
   "execution_count": 14,
   "metadata": {},
   "outputs": [
    {
     "name": "stdout",
     "output_type": "stream",
     "text": [
      "0 / 1\n"
     ]
    }
   ],
   "source": [
    "import math\n",
    "a = input()\n",
    "b = a.split(\",\")\n",
    "#print(b)\n",
    "#hx=g\n",
    "e = int(str(b[0]+b[1]+b[2]))\n",
    "#123 456 789\n",
    "f = int(str(b[0]+b[1]))\n",
    "#123 456\n",
    "g = e-f \n",
    "h = (10**int(len(b[2])+len(b[1])))-(10**int(len(b[1])))\n",
    "r = math.gcd(int(g),int(h))\n",
    "print(str(g//r),\"/\",str(h//r))\n"
   ]
  }
 ],
 "metadata": {
  "kernelspec": {
   "display_name": "Python 3.9.10 64-bit",
   "language": "python",
   "name": "python3"
  },
  "language_info": {
   "codemirror_mode": {
    "name": "ipython",
    "version": 3
   },
   "file_extension": ".py",
   "mimetype": "text/x-python",
   "name": "python",
   "nbconvert_exporter": "python",
   "pygments_lexer": "ipython3",
   "version": "3.9.10"
  },
  "orig_nbformat": 4,
  "vscode": {
   "interpreter": {
    "hash": "b0fa6594d8f4cbf19f97940f81e996739fb7646882a419484c72d19e05852a7e"
   }
  }
 },
 "nbformat": 4,
 "nbformat_minor": 2
}
