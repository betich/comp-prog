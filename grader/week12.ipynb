{
 "cells": [
  {
   "cell_type": "markdown",
   "metadata": {},
   "source": [
    "## [12_Class_21] 12_Class-★★-Complex-Number"
   ]
  },
  {
   "cell_type": "code",
   "execution_count": 16,
   "metadata": {},
   "outputs": [
    {
     "name": "stdout",
     "output_type": "stream",
     "text": [
      "3+4i\n"
     ]
    }
   ],
   "source": [
    "class Complex:\n",
    "  def __init__(self, a: int, b: int):\n",
    "    self.a = a\n",
    "    self.b = b\n",
    "\n",
    "  def __str__(self):\n",
    "    real = self.a if self.a != 0 else ''\n",
    "    imag = f'{\"+\" if self.b > 0 else \"\"}{self.b}i' if self.b != 0 else ''\n",
    "    return \"{}{}\".format(real, imag)\n",
    "\n",
    "  def __add__(self, rhs: 'Complex') -> 'Complex':\n",
    "    return Complex(self.a + rhs.a, self.b + rhs.b)\n",
    "\n",
    "  def __mul__(self, rhs: 'Complex') -> 'Complex':\n",
    "    return Complex((self.a * rhs.a) - (self.b * rhs.b), (self.a * rhs.b) + (self.b * rhs.a))\n",
    "\n",
    "  def __truediv__(self, rhs: 'Complex') -> 'Complex':\n",
    "    return Complex(((self.a * rhs.a) + (self.b * rhs.b)) / ((rhs.a ** 2) + (rhs.b ** 2)), ((self.b * rhs.a) - (self.a * rhs.b)) / ((rhs.a ** 2) + (rhs.b ** 2)))\n",
    "\n",
    "t,a,b,c,d = map(int, input().split())\n",
    "# t,a,b,c,d = 1,3,4,5,6\n",
    "# t,a,b,c,d = 2,3,4,5,6\n",
    "# t,a,b,c,d = 1,-3,3,3,-3\n",
    "# t,a,b,c,d = 3,3,4,5,6\n",
    "# t,a,b,c,d = 4,3,1,2,1\n",
    "# t,a,b,c,d = 5,3,1,2,1\n",
    "\n",
    "c1 = Complex(a,b)\n",
    "c2 = Complex(c,d)\n",
    "\n",
    "if t == 1:\n",
    "  print(c1)\n",
    "elif t == 2:\n",
    "  print(c2)\n",
    "elif t == 3:\n",
    "  print(c1 + c2)\n",
    "elif t == 4:\n",
    "  print(c1 * c2)\n",
    "else:\n",
    "  print(c1 / c2)\n"
   ]
  },
  {
   "cell_type": "markdown",
   "metadata": {},
   "source": [
    "## [12_Class_22] 12_Class-★★-Card"
   ]
  },
  {
   "cell_type": "code",
   "execution_count": 31,
   "metadata": {},
   "outputs": [
    {
     "name": "stdout",
     "output_type": "stream",
     "text": [
      "10\n",
      "10\n",
      "3\n",
      "8\n",
      "2\n",
      "6\n",
      "7\n",
      "10\n",
      "1\n",
      "10\n",
      "----------\n",
      "0\n",
      "3\n",
      "1\n",
      "0\n",
      "8\n",
      "3\n",
      "7\n",
      "1\n",
      "1\n",
      "----------\n",
      "(3 heart)\n",
      "(6 club)\n",
      "(7 heart)\n",
      "(8 heart)\n",
      "(10 club)\n",
      "(J diamond)\n",
      "(K diamond)\n",
      "(Q heart)\n",
      "(A diamond)\n",
      "(2 diamond)\n"
     ]
    }
   ],
   "source": [
    "class Card:\n",
    "  def __init__(self, value, suit):\n",
    "    self.value = value\n",
    "    self.suit = suit\n",
    "  def __str__(self):\n",
    "    return \"({} {})\".format(self.value, self.suit)\n",
    "  def getScore(self):\n",
    "    VALUES = (\"A\", \"2\", \"3\", \"4\", \"5\", \"6\", \"7\", \"8\", \"9\", \"10\", \"J\", \"Q\", \"K\") \n",
    "\n",
    "    if self.value in \"JQK\":\n",
    "      return 10\n",
    "    else:\n",
    "      return VALUES.index(self.value)+1\n",
    "  def sum(self, other):\n",
    "    return (self.getScore() + other.getScore()) % 10\n",
    "  def __lt__(self, rhs):\n",
    "    SUITS = (\"club\", \"diamond\", \"heart\", \"spade\")\n",
    "    VALUES = (\"3\", \"4\", \"5\", \"6\", \"7\", \"8\", \"9\", \"10\", \"J\", \"Q\", \"K\", \"A\", \"2\")\n",
    "\n",
    "    a_score = self.getScore()\n",
    "    b_score = rhs.getScore()\n",
    "\n",
    "    if a_score == b_score:\n",
    "      return SUITS.index(self.suit) < SUITS.index(rhs.suit)\n",
    "    else:\n",
    "      return VALUES.index(self.value) < VALUES.index(rhs.value)\n",
    "\n",
    "n = int(input())\n",
    "cards = []\n",
    "for i in range(n):\n",
    "  value, suit = input().split()\n",
    "  cards.append(Card(value, suit))\n",
    "for i in range(n):\n",
    "  print(cards[i].getScore())\n",
    "print(\"----------\")\n",
    "for i in range(n-1):\n",
    "  print(Card.sum(cards[i], cards[i+1]))\n",
    "print(\"----------\")\n",
    "cards.sort()\n",
    "for i in range(n):\n",
    "  print(cards[i])"
   ]
  }
 ],
 "metadata": {
  "kernelspec": {
   "display_name": "Python 3.9.10 64-bit",
   "language": "python",
   "name": "python3"
  },
  "language_info": {
   "codemirror_mode": {
    "name": "ipython",
    "version": 3
   },
   "file_extension": ".py",
   "mimetype": "text/x-python",
   "name": "python",
   "nbconvert_exporter": "python",
   "pygments_lexer": "ipython3",
   "version": "3.9.10"
  },
  "orig_nbformat": 4,
  "vscode": {
   "interpreter": {
    "hash": "b0fa6594d8f4cbf19f97940f81e996739fb7646882a419484c72d19e05852a7e"
   }
  }
 },
 "nbformat": 4,
 "nbformat_minor": 2
}
