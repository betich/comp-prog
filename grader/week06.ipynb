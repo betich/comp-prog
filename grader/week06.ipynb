{
 "cells": [
  {
   "cell_type": "markdown",
   "metadata": {},
   "source": [
    "## [06_Func_11] 06_Func_★_Binary_Adder"
   ]
  },
  {
   "cell_type": "code",
   "execution_count": 4,
   "metadata": {},
   "outputs": [
    {
     "name": "stdout",
     "output_type": "stream",
     "text": [
      "111110\n"
     ]
    }
   ],
   "source": [
    "a,b = [int(e, 2) for e in input().split()]\n",
    "print(bin(a+b)[2:])"
   ]
  },
  {
   "cell_type": "markdown",
   "metadata": {},
   "source": [
    "## [06_Func_12] 06_Func_★_NextPrime"
   ]
  },
  {
   "cell_type": "code",
   "execution_count": 6,
   "metadata": {},
   "outputs": [
    {
     "name": "stdout",
     "output_type": "stream",
     "text": [
      "2381\n"
     ]
    }
   ],
   "source": [
    "def is_prime(n):\n",
    "  if n <= 1:\n",
    "    return False\n",
    "  for k in range(2, int(n**0.5)+1):\n",
    "    if n % k == 0:\n",
    "      return False\n",
    "  return True\n",
    "\n",
    "def next_prime(n):\n",
    "  n += 1\n",
    "  while not is_prime(n):\n",
    "    n += 1\n",
    "  return n\n",
    "\n",
    "def next_twin_prime(n):\n",
    "  n += 1\n",
    "  while not (is_prime(n) and is_prime(n+2)):\n",
    "    n += 1\n",
    "\n",
    "  return (n, n+2)\n",
    "\n",
    "exec(input().strip())"
   ]
  },
  {
   "cell_type": "markdown",
   "metadata": {},
   "source": [
    "## [06_Func_21] 06_Func_★★_Function_Call "
   ]
  },
  {
   "cell_type": "code",
   "execution_count": 15,
   "metadata": {},
   "outputs": [
    {
     "name": "stdout",
     "output_type": "stream",
     "text": [
      "0011 20.0 F\n",
      "3333 60.0 C\n",
      "2222 80.0 A\n",
      "5555 80.0 A\n",
      "4444 100.0 A\n"
     ]
    }
   ],
   "source": [
    "def read_answers():\n",
    "  N = int(input())\n",
    "  answers = []\n",
    "  for k in range(N):\n",
    "    sid, ans = input().split()\n",
    "    answers.append([sid, ans])\n",
    "  return answers\n",
    "\n",
    "def marking(answer, solution):\n",
    "  score = 0\n",
    "  for i in range(len(answer)):\n",
    "    if answer[i] == solution[i]:\n",
    "      score += 1\n",
    "  return score\n",
    "\n",
    "def grading(score):\n",
    "  g = [[80, 'A'], [70, 'B'], [60, 'C'], [50, 'D']]\n",
    "  for a,b in g:\n",
    "    if score >= a:\n",
    "      return b\n",
    "\n",
    "  return 'F'\n",
    "\n",
    "def scoring(answers, solution):\n",
    "  scores = []\n",
    "  for sid, ans in answers:\n",
    "    score = marking(ans, solution) / len(solution) * 100\n",
    "    scores.append([sid, score, grading(score)])\n",
    "  return scores\n",
    "\n",
    "def report(scores):\n",
    "  for sid,sc,grade in scores:\n",
    "    print(sid, sc, grade)\n",
    "\n",
    "def sort(scores):\n",
    "  x = []\n",
    "  for sid,score,grade in scores:\n",
    "    x.append([score, sid, grade])\n",
    "  x.sort(reverse=True)\n",
    "  for i in range(len(x)):\n",
    "    scores[i] = [x[i][1], x[i][0], x[i][2]]\n",
    "\n",
    "def main():\n",
    "  solution = input()\n",
    "  answers = read_answers()\n",
    "  scores = scoring(answers, solution)\n",
    "  sort(scores)\n",
    "  report(scores)\n",
    "\n",
    "if __name__ == \"__main__\":\n",
    "  main()"
   ]
  },
  {
   "cell_type": "markdown",
   "metadata": {},
   "source": [
    "## [06_Func_22] 06_Func_★★_Distance"
   ]
  },
  {
   "cell_type": "code",
   "execution_count": 30,
   "metadata": {},
   "outputs": [
    {
     "name": "stdout",
     "output_type": "stream",
     "text": [
      "8.0\n"
     ]
    }
   ],
   "source": [
    "def distance1(x1, y1, x2, y2):\n",
    "  # returns the distance between points (x1, y1) and (x2, y2)\n",
    "  # Usage example: d1 = distance(0.0, 0, 3, 4) -> d1 = 5.0\n",
    "  return ((x1-x2)**2 + (y1-y2)**2)**0.5\n",
    "\n",
    "def distance2(p1, p2):\n",
    "  # p1 and p2 are lists\n",
    "  # each list is a point, which has 2 indices, storing x and y\n",
    "  # returns the distance between p1 and p2\n",
    "  # Usage example: d2 = distance2([0.0, 0], [3, 4]) -> d2 = 5.0\n",
    "  return distance1(p1[0], p1[1], p2[0], p2[1])\n",
    "\n",
    "def distance3(c1, c2):\n",
    "  # c1 and c2 are lists that represent circles\n",
    "  # each list has 3 indices, storing center x and y, and radius\n",
    "  # returns the distance between the center of c1 and c2, as well\n",
    "  # Usage example: d3,overlap = distance3([0.0, 0, 1], [5, 0, 2])\n",
    "  # -> d3 = 5.0, overlap = False\n",
    "  d3 = distance1(c1[0], c1[1], c2[0], c2[1])\n",
    "  overlap = d3 <= (c1[2] + c2[2])\n",
    "  return d3, overlap\n",
    "\n",
    "\n",
    "def perimeter(points):\n",
    "  # points is a list of points\n",
    "  # each point is a list with 2 indices (storing x and y)\n",
    "  # these points are the corners of the polygon (for-kgon, there are k points total, k>=3)\n",
    "  # returns the perimeter of the polygon that is defined by the input points\n",
    "  p = 0\n",
    "  for n in range(len(points)):\n",
    "    if n == len(points)-1:\n",
    "      p += distance2(points[n], points[0])\n",
    "    else:\n",
    "      p += distance2(points[n], points[n+1])\n",
    "  return p\n",
    "\n",
    "def main():\n",
    "  exec(input().strip()) # !must have this line when submitting to grader\n",
    "\n",
    "if __name__ == \"__main__\":\n",
    "  main()"
   ]
  },
  {
   "cell_type": "code",
   "execution_count": 33,
   "metadata": {},
   "outputs": [
    {
     "name": "stdout",
     "output_type": "stream",
     "text": [
      "(5.0, False)\n"
     ]
    }
   ],
   "source": [
    "d=lambda w,x,y,z:((w-y)**2+(x-z)**2)**0.5\n",
    "q=lambda a,b:d(a[0],a[1],b[0],b[1])\n",
    "def distance3(a,b):\n",
    " e=d(a[0],a[1],b[0],b[1])\n",
    " return e,e<=a[2]+b[2]\n",
    "def perimeter(p):\n",
    " return sum([distance2(p[n],p[0])if n==len(p)-1 else q(p[n],p[n+1])for n in range(len(p))])\n",
    "distance1=d;distance2=q\n",
    "exec(input().strip())"
   ]
  },
  {
   "cell_type": "markdown",
   "metadata": {},
   "source": [
    "## [06_Func_23] 06_Func_★★_FourFunctions"
   ]
  },
  {
   "cell_type": "code",
   "execution_count": 35,
   "metadata": {},
   "outputs": [
    {
     "ename": "SyntaxError",
     "evalue": "invalid syntax (2481278081.py, line 10)",
     "output_type": "error",
     "traceback": [
      "\u001b[0;36m  Input \u001b[0;32mIn [35]\u001b[0;36m\u001b[0m\n\u001b[0;31m    def sum_square(alist)\u001b[0m\n\u001b[0m                         ^\u001b[0m\n\u001b[0;31mSyntaxError\u001b[0m\u001b[0;31m:\u001b[0m invalid syntax\n"
     ]
    }
   ],
   "source": [
    "def make_int_list(x):\n",
    "  return list(map(int, x.split()))\n",
    "\n",
    "def is_odd(e):\n",
    "  return e % 2 == 1\n",
    "\n",
    "def odd_list(alist):\n",
    "  return list(filter(is_odd, alist))\n",
    "\n",
    "def sum_square(alist):\n",
    "  return sum([e**2 for e in alist])\n",
    "\n",
    "exec(input().strip())"
   ]
  },
  {
   "cell_type": "markdown",
   "metadata": {},
   "source": [
    "## [06_Func_31] 06_Func_★★★_Refactor"
   ]
  },
  {
   "cell_type": "code",
   "execution_count": 67,
   "metadata": {},
   "outputs": [
    {
     "name": "stdout",
     "output_type": "stream",
     "text": [
      "Capricorn Leo\n",
      "944\n"
     ]
    }
   ],
   "source": [
    "mname = [\"Jan\", \"Feb\", \"Mar\", \"Apr\", \"May\", \"Jun\", \"Jul\", \"Aug\", \"Sep\", \"Oct\", \"Nov\", \"Dec\"]\n",
    "\n",
    "def read_date():\n",
    "  e = input().split()\n",
    "  d = int(e[0])\n",
    "  m = mname.index(e[1]) + 1\n",
    "  y = int(e[2])\n",
    "  return [d, m, y]\n",
    "\n",
    "def zodiac(d, m):\n",
    "  z = [\"Capricorn\", \"Aquarius\", \"Pisces\", \"Aries\", \"Taurus\", \"Gemini\", \"Cancer\", \"Leo\", \"Virgo\", \"Libra\", \"Scorpio\", \"Sagittarius\"]\n",
    "  z1 = [20, 19, 21, 20, 21, 21, 23, 23, 23, 23, 22, 22]\n",
    "  return z[m-1] if d <= z1[m-1] else z[m%12]\n",
    "\n",
    "def days_in_feb(y):\n",
    "  return 29 if y % 400 == 0 or (y % 4 == 0 and y % 100 != 0) else 28\n",
    "\n",
    "def days_in_month(m, y):\n",
    "  return [31, days_in_feb(y), 31, 30, 31, 30, 31, 31, 30, 31, 30, 31][m-1]\n",
    "\n",
    "def days_in_between(d1,m1,y1,d2,m2,y2):\n",
    "  delta = 0\n",
    "  delta += sum([days_in_month(m, y1) for m in range(12, m1, -1)])\n",
    "  delta += sum([days_in_month(m, y2) for m in range(1, m2)])\n",
    "  delta += (days_in_month(m1, y1) - d1 + 1) + int((y2 - y1 - 1) * 365.25) + (d2 - 1)\n",
    "  return delta\n",
    "\n",
    "def main():\n",
    "  d1,m1,y1 = read_date()\n",
    "  d2,m2,y2 = read_date()\n",
    "  print(zodiac(d1, m1), zodiac(d2, m2))\n",
    "  print(days_in_between(d1,m1,y1,d2,m2,y2))\n",
    "\n",
    "exec(input().strip())"
   ]
  }
 ],
 "metadata": {
  "kernelspec": {
   "display_name": "Python 3.9.10 64-bit",
   "language": "python",
   "name": "python3"
  },
  "language_info": {
   "codemirror_mode": {
    "name": "ipython",
    "version": 3
   },
   "file_extension": ".py",
   "mimetype": "text/x-python",
   "name": "python",
   "nbconvert_exporter": "python",
   "pygments_lexer": "ipython3",
   "version": "3.9.10"
  },
  "orig_nbformat": 4,
  "vscode": {
   "interpreter": {
    "hash": "b0fa6594d8f4cbf19f97940f81e996739fb7646882a419484c72d19e05852a7e"
   }
  }
 },
 "nbformat": 4,
 "nbformat_minor": 2
}
