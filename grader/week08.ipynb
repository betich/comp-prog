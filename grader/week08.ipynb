{
 "cells": [
  {
   "cell_type": "markdown",
   "metadata": {},
   "source": [
    "## [08_Dict_11] 08_Dict_★_Reverse_n_Keys"
   ]
  },
  {
   "cell_type": "code",
   "execution_count": 6,
   "metadata": {},
   "outputs": [
    {
     "name": "stdout",
     "output_type": "stream",
     "text": [
      "[]\n"
     ]
    }
   ],
   "source": [
    "def reverse(d):\n",
    "  # d is a dict that has no repeated value\n",
    "  # returns new dict that store key, value as value, key of d\n",
    "\n",
    "  return {v: k for k, v in d.items()}\n",
    "\n",
    "\n",
    "def keys(d, v):\n",
    "  # returns a list of keys in d (can be in any order) that\n",
    "  # have a value of v\n",
    "\n",
    "  return [k for k in d.keys() if d[k] == v]\n",
    "\n",
    "\n",
    "exec(input().strip()) #must have this line when submitting to grader"
   ]
  },
  {
   "cell_type": "code",
   "execution_count": null,
   "metadata": {},
   "outputs": [],
   "source": [
    "reverse=lambda d:{v: k for k,v in d.items()}\n",
    "keys=lambda d,v:[k for k in d.keys()if d[k]==v]\n",
    "exec(input().strip())"
   ]
  },
  {
   "cell_type": "markdown",
   "metadata": {},
   "source": [
    "## [08_Dict_12] 08_Dict_★_Nicknames"
   ]
  },
  {
   "cell_type": "code",
   "execution_count": 11,
   "metadata": {},
   "outputs": [
    {
     "name": "stdout",
     "output_type": "stream",
     "text": [
      "Dick\n",
      "Bill\n"
     ]
    }
   ],
   "source": [
    "people = [input().split() for _ in range(int(input()))]\n",
    "names = {**{p[0]: p[1] for p in people}, **{p[1]: p[0] for p in people}}\n",
    "\n",
    "for _ in range(int(input())):\n",
    "  name_query = input()\n",
    "  if name_query in names:\n",
    "    print(names[name_query])\n",
    "  else:\n",
    "    print(\"Not found\")"
   ]
  },
  {
   "cell_type": "markdown",
   "metadata": {},
   "source": [
    "## [08_Dict_21] 08_Dict_★★_Char_Count"
   ]
  },
  {
   "cell_type": "code",
   "execution_count": 7,
   "metadata": {},
   "outputs": [],
   "source": [
    "k = input().lower()\n",
    "l = []\n",
    "chars = set(list(k))\n",
    "\n",
    "for c in chars:\n",
    "  if not c.isalpha():\n",
    "    continue\n",
    "  l.append([-k.count(c), c])\n",
    "\n",
    "for k,v in sorted(l):\n",
    "  print(\"{} -> {}\".format(v, -k))"
   ]
  },
  {
   "cell_type": "markdown",
   "metadata": {},
   "source": [
    "## [08_Dict_22] 08_Dict_★★_Ice_Cream_Sales"
   ]
  },
  {
   "cell_type": "code",
   "execution_count": 20,
   "metadata": {},
   "outputs": [
    {
     "name": "stdout",
     "output_type": "stream",
     "text": [
      "No ice cream sales\n"
     ]
    }
   ],
   "source": [
    "store_front = {}\n",
    "\n",
    "for _ in range(int(input())):\n",
    "  k,v = input().split()\n",
    "  store_front[k] = int(v)\n",
    "\n",
    "sales = {} \n",
    "\n",
    "for _ in range(int(input())):\n",
    "  k,v = input().split()\n",
    "  if k in sales:\n",
    "    sales[k] += int(v)\n",
    "  else:\n",
    "    sales[k] = int(v)\n",
    "\n",
    "# store_front = {\"Magnum\": 50, \"Cornetto\": 25, \"PaddlePop\": 15, \"AsianDelight\": 20, \"Calippo\": 15}\n",
    "# sales = {\"Magnum\": 10, \"Cookie\": 20, \"MamaTomYum\": 3, \"Cornetto\": 20, \"AsianDelight\": 1}\n",
    "\n",
    "costs = []\n",
    "for k,v in sales.items():\n",
    "  if k in store_front:\n",
    "    costs.append([int(v) * store_front[k], k])\n",
    "\n",
    "if len(costs) == 0:\n",
    "  print(\"No ice cream sales\")\n",
    "else:\n",
    "  top_sales = []\n",
    "  max_cost = max(costs, key=lambda a: a[0])[0]\n",
    "\n",
    "  for v,k in sorted(costs, reverse=True):\n",
    "    if v == max_cost:\n",
    "      top_sales.append(k)\n",
    "\n",
    "  print(\"Total ice cream sales:\", float(sum([a[0] for a in costs])))\n",
    "  print(\"Top sales:\", \", \".join(sorted(top_sales)))"
   ]
  },
  {
   "cell_type": "markdown",
   "metadata": {},
   "source": [
    "## [08_Dict_23] 08_Dict_★★_Telephone_Directory"
   ]
  },
  {
   "cell_type": "code",
   "execution_count": 33,
   "metadata": {},
   "outputs": [
    {
     "name": "stdout",
     "output_type": "stream",
     "text": [
      "i --> Not found\n",
      "a --> Not found\n"
     ]
    }
   ],
   "source": [
    "phone_book = {}\n",
    "\n",
    "for _ in range(int(input())):\n",
    "  a = input().split()\n",
    "  name, tel = \" \".join(a[:-1]), a[-1]\n",
    "  phone_book[name] = tel\n",
    "  phone_book[tel] = name\n",
    "\n",
    "for _ in range(int(input())):\n",
    "  a = input()\n",
    "  print(\"{} --> {}\".format(a, phone_book[a] if a in phone_book else \"Not found\"))\n"
   ]
  },
  {
   "cell_type": "code",
   "execution_count": 35,
   "metadata": {},
   "outputs": [
    {
     "name": "stdout",
     "output_type": "stream",
     "text": [
      "0 --> Not found\n",
      "1 --> Not found\n"
     ]
    },
    {
     "data": {
      "text/plain": [
       "[None, None]"
      ]
     },
     "execution_count": 35,
     "metadata": {},
     "output_type": "execute_result"
    }
   ],
   "source": [
    "i=input;n=int;r=range\n",
    "def a(a):\n",
    "  e=a.rfind(\" \")\n",
    "  return a[:e],a[e+1:]\n",
    "d={}\n",
    "for c in r(n(i())):\n",
    "  x,y=a(i())\n",
    "  d[x]=y;d[y]=x\n",
    "[print(\"{} --> {}\".format(e, d[e]if e in d else\"Not found\"))for e in r(n(i()))]"
   ]
  },
  {
   "cell_type": "markdown",
   "metadata": {},
   "source": [
    "## [08_Dict_24] 08_Dict_★★_Texting"
   ]
  },
  {
   "cell_type": "code",
   "execution_count": null,
   "metadata": {},
   "outputs": [],
   "source": []
  }
 ],
 "metadata": {
  "kernelspec": {
   "display_name": "Python 3.8.9 64-bit",
   "language": "python",
   "name": "python3"
  },
  "language_info": {
   "codemirror_mode": {
    "name": "ipython",
    "version": 3
   },
   "file_extension": ".py",
   "mimetype": "text/x-python",
   "name": "python",
   "nbconvert_exporter": "python",
   "pygments_lexer": "ipython3",
   "version": "3.8.9"
  },
  "orig_nbformat": 4,
  "vscode": {
   "interpreter": {
    "hash": "31f2aee4e71d21fbe5cf8b01ff0e069b9275f58929596ceb00d14d90e3e16cd6"
   }
  }
 },
 "nbformat": 4,
 "nbformat_minor": 2
}
