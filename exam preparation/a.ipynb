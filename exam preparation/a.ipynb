{
 "cells": [
  {
   "cell_type": "code",
   "execution_count": 5,
   "metadata": {},
   "outputs": [
    {
     "ename": "ValueError",
     "evalue": "could not convert string to float: 'yafawfaw'",
     "output_type": "error",
     "traceback": [
      "\u001b[0;31m---------------------------------------------------------------------------\u001b[0m",
      "\u001b[0;31mValueError\u001b[0m                                Traceback (most recent call last)",
      "\u001b[1;32m/Users/mamyray/code/python-playground/midterm/a.ipynb Cell 1\u001b[0m in \u001b[0;36m<module>\u001b[0;34m\u001b[0m\n\u001b[0;32m----> <a href='vscode-notebook-cell:/Users/mamyray/code/python-playground/midterm/a.ipynb#W1sZmlsZQ%3D%3D?line=0'>1</a>\u001b[0m \u001b[39mfloat\u001b[39;49m(\u001b[39m\"\u001b[39;49m\u001b[39myafawfaw\u001b[39;49m\u001b[39m\"\u001b[39;49m)\n\u001b[1;32m      <a href='vscode-notebook-cell:/Users/mamyray/code/python-playground/midterm/a.ipynb#W1sZmlsZQ%3D%3D?line=2'>3</a>\u001b[0m \u001b[39mtry\u001b[39;00m:\n\u001b[1;32m      <a href='vscode-notebook-cell:/Users/mamyray/code/python-playground/midterm/a.ipynb#W1sZmlsZQ%3D%3D?line=3'>4</a>\u001b[0m   \u001b[39mfloat\u001b[39m(\u001b[39m\"\u001b[39m\u001b[39myafawfaw\u001b[39m\u001b[39m\"\u001b[39m)\n",
      "\u001b[0;31mValueError\u001b[0m: could not convert string to float: 'yafawfaw'"
     ]
    }
   ],
   "source": [
    "float(\"yafawfaw\")\n",
    "\n",
    "try:\n",
    "  float(\"yafawfaw\")\n",
    "except:\n",
    "  print(\"Hi\")"
   ]
  },
  {
   "cell_type": "code",
   "execution_count": 2,
   "metadata": {},
   "outputs": [
    {
     "name": "stdout",
     "output_type": "stream",
     "text": [
      "Enter the value of x:\n",
      "Not a number, please input again\n",
      "Enter the value of x:\n",
      "Not a number, please input again\n",
      "Enter the value of x:\n",
      "Not a number, please input again\n",
      "Enter the value of x:\n",
      "Not a number, please input again\n",
      "Enter the value of x:\n",
      "Not a number, please input again\n",
      "Enter the value of x:\n",
      "-1.0\n"
     ]
    }
   ],
   "source": [
    "while True:\n",
    "    print(\"Enter the value of x:\")\n",
    "\n",
    "    try:\n",
    "        x = float(input())\n",
    "        print(((x)**20)-(2*((x)**7)))\n",
    "        break\n",
    "    except:\n",
    "        print(\"Not a number, please input again\")"
   ]
  },
  {
   "cell_type": "code",
   "execution_count": null,
   "metadata": {},
   "outputs": [],
   "source": [
    "approved = [\"R\",\"P\",\"S\"]\n",
    "while True:\n",
    "    print(\"What is your move?\")\n",
    "    player = input()\n",
    "    print(\"What is the opponent's move?\")\n",
    "    opponent = input()\n",
    "    if player not in list(approved) or opponent not in list(approved):\n",
    "        print(\"Illegal move, please re-run the program\")\n",
    "        break\n",
    "\n",
    "    x = approved.index(player)\n",
    "    y = approved.index(opponent)\n",
    "\n",
    "    if x == y:\n",
    "        print(\"draw\")\n",
    "    elif (x-y)%3 == 1:\n",
    "        print(\"Player wins\")\n",
    "        break\n",
    "    else:\n",
    "        print(\"Opponent wins\")\n",
    "        break\n"
   ]
  }
 ],
 "metadata": {
  "kernelspec": {
   "display_name": "Python 3.9.10 64-bit",
   "language": "python",
   "name": "python3"
  },
  "language_info": {
   "codemirror_mode": {
    "name": "ipython",
    "version": 3
   },
   "file_extension": ".py",
   "mimetype": "text/x-python",
   "name": "python",
   "nbconvert_exporter": "python",
   "pygments_lexer": "ipython3",
   "version": "3.9.10"
  },
  "orig_nbformat": 4,
  "vscode": {
   "interpreter": {
    "hash": "b0fa6594d8f4cbf19f97940f81e996739fb7646882a419484c72d19e05852a7e"
   }
  }
 },
 "nbformat": 4,
 "nbformat_minor": 2
}
