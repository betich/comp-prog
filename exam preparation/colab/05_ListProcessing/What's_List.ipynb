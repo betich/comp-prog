{
  "cells": [
    {
      "cell_type": "markdown",
      "metadata": {
        "id": "uyVVSfp7G-hD"
      },
      "source": [
        "# Introduction to Lists\n",
        "\n",
        "[VDO](https://www.youtube.com/watch?v=6x2de5aSTkM&list=PLwnUv3sNB6_VKOYHXUN_QB3Xs3ZKMdf3g&index=1)\n",
        "\n",
        "\n",
        "List can contains different kinds of data. We can use index starting from 0 to access each element of the list. \n",
        "\n",
        "The negative index of the list means that it goes from right to left. For example, if you use `x[-1]`, python will return the last element in the list. "
      ]
    },
    {
      "cell_type": "code",
      "execution_count": null,
      "metadata": {
        "colab": {
          "base_uri": "https://localhost:8080/"
        },
        "id": "dwlTKxGG__aR",
        "outputId": "ecd3c687-ce2a-4586-caa6-6fe9d5685519"
      },
      "outputs": [
        {
          "name": "stdout",
          "output_type": "stream",
          "text": [
            "0\n",
            "4\n",
            "2\n",
            "20\n"
          ]
        }
      ],
      "source": [
        "data=['Introduction to Python',250,1005]\n",
        "\n",
        "x=[0,1,5,4,10,14,16,20,2]\n",
        "print(x[0])\n",
        "print(x[3])\n",
        "print(x[-1])\n",
        "print(x[-2])"
      ]
    },
    {
      "cell_type": "markdown",
      "metadata": {
        "id": "8HjoHsjZHEbC"
      },
      "source": [
        "# List Slicing\n",
        "\n",
        "You can get **a list** from the original list using the list slicing. The format of list slicing is `list_var[start:end:step]`. The start parameter is the start index of the result list. The `end` parameter is the index of the last element before the *end*. For example, if you call `list_var[0:10]`, it will return a list that starts from 0 to 9 not 10. \n",
        "\n",
        "You can also use the *step* whose default value is 1. Please check this [VDO](https://www.youtube.com/watch?v=krD6do6OYXo&list=PLwnUv3sNB6_VKOYHXUN_QB3Xs3ZKMdf3g&index=2) or try it by yourself to see how do these parameters work. "
      ]
    },
    {
      "cell_type": "code",
      "execution_count": null,
      "metadata": {
        "colab": {
          "base_uri": "https://localhost:8080/"
        },
        "id": "Beo2tP2vDfku",
        "outputId": "4957cb6d-218e-4f41-c252-66e806cbab16"
      },
      "outputs": [
        {
          "data": {
            "text/plain": [
              "[0, 1, 5, 4]"
            ]
          },
          "execution_count": 10,
          "metadata": {},
          "output_type": "execute_result"
        }
      ],
      "source": [
        "x[:4]"
      ]
    },
    {
      "cell_type": "code",
      "execution_count": null,
      "metadata": {
        "colab": {
          "base_uri": "https://localhost:8080/"
        },
        "id": "-XqdKnDVEKgH",
        "outputId": "c3b1a774-673c-497f-c8e9-a007e1ccc872"
      },
      "outputs": [
        {
          "data": {
            "text/plain": [
              "[5, 4, 10, 14, 16, 20, 2]"
            ]
          },
          "execution_count": 11,
          "metadata": {},
          "output_type": "execute_result"
        }
      ],
      "source": [
        "x[2:]"
      ]
    },
    {
      "cell_type": "code",
      "execution_count": null,
      "metadata": {
        "colab": {
          "base_uri": "https://localhost:8080/"
        },
        "id": "h7WGewH_EyqB",
        "outputId": "82cff1e9-69a9-4be0-c4ad-7446891707e1"
      },
      "outputs": [
        {
          "data": {
            "text/plain": [
              "[0, 1, 5, 4, 10, 14, 16, 20, 2]"
            ]
          },
          "execution_count": 13,
          "metadata": {},
          "output_type": "execute_result"
        }
      ],
      "source": [
        "x"
      ]
    },
    {
      "cell_type": "code",
      "execution_count": null,
      "metadata": {
        "colab": {
          "base_uri": "https://localhost:8080/"
        },
        "id": "W3AR6I9eEdYZ",
        "outputId": "2142eda3-15d5-427e-ff50-293ee84f1df0"
      },
      "outputs": [
        {
          "data": {
            "text/plain": [
              "[0, 5, 10, 16, 2]"
            ]
          },
          "execution_count": 12,
          "metadata": {},
          "output_type": "execute_result"
        }
      ],
      "source": [
        "x[:10:2]"
      ]
    },
    {
      "cell_type": "code",
      "execution_count": null,
      "metadata": {
        "colab": {
          "base_uri": "https://localhost:8080/"
        },
        "id": "6sjBAfMeEx5b",
        "outputId": "a600230a-7b80-4861-968c-e334551a75b9"
      },
      "outputs": [
        {
          "data": {
            "text/plain": [
              "[0, 5, 10, 16, 2]"
            ]
          },
          "execution_count": 14,
          "metadata": {},
          "output_type": "execute_result"
        }
      ],
      "source": [
        "x[::2]"
      ]
    },
    {
      "cell_type": "code",
      "execution_count": null,
      "metadata": {
        "colab": {
          "base_uri": "https://localhost:8080/"
        },
        "id": "r1dsiJezE_NQ",
        "outputId": "287654aa-02d8-4235-e87e-fe7c526efde6"
      },
      "outputs": [
        {
          "data": {
            "text/plain": [
              "[2, 20, 16, 14, 10, 4, 5, 1, 0]"
            ]
          },
          "execution_count": 15,
          "metadata": {},
          "output_type": "execute_result"
        }
      ],
      "source": [
        "x[::-1]"
      ]
    },
    {
      "cell_type": "code",
      "execution_count": null,
      "metadata": {
        "colab": {
          "base_uri": "https://localhost:8080/"
        },
        "id": "YCqsS85wFF1z",
        "outputId": "5bf08ea9-b4c0-4ae7-f7c4-15754fadca4e"
      },
      "outputs": [
        {
          "data": {
            "text/plain": [
              "[0, 1, 5, 4, 10, 14, 16, 20, 2]"
            ]
          },
          "execution_count": 16,
          "metadata": {},
          "output_type": "execute_result"
        }
      ],
      "source": [
        "x[:]"
      ]
    },
    {
      "cell_type": "code",
      "execution_count": null,
      "metadata": {
        "id": "vXi5lBLbFejb"
      },
      "outputs": [],
      "source": [
        "x=x[:-1]"
      ]
    },
    {
      "cell_type": "code",
      "execution_count": null,
      "metadata": {
        "colab": {
          "base_uri": "https://localhost:8080/"
        },
        "id": "1sxSC_S4FrLK",
        "outputId": "79d3b1a0-70dc-4fd0-badd-b12403d8d062"
      },
      "outputs": [
        {
          "data": {
            "text/plain": [
              "[0, 1, 5, 4, 10, 14, 16, 20]"
            ]
          },
          "execution_count": 19,
          "metadata": {},
          "output_type": "execute_result"
        }
      ],
      "source": [
        "x"
      ]
    },
    {
      "cell_type": "code",
      "execution_count": null,
      "metadata": {
        "id": "DElkoPNxF2pq"
      },
      "outputs": [],
      "source": [
        "x=x[1:]"
      ]
    },
    {
      "cell_type": "code",
      "execution_count": null,
      "metadata": {
        "colab": {
          "base_uri": "https://localhost:8080/"
        },
        "id": "m_TA3klmGFV6",
        "outputId": "2268b860-795f-4816-d443-ad022316406b"
      },
      "outputs": [
        {
          "data": {
            "text/plain": [
              "[1, 5, 4, 10, 14, 16, 20]"
            ]
          },
          "execution_count": 21,
          "metadata": {},
          "output_type": "execute_result"
        }
      ],
      "source": [
        "x"
      ]
    },
    {
      "cell_type": "code",
      "execution_count": null,
      "metadata": {
        "colab": {
          "base_uri": "https://localhost:8080/"
        },
        "id": "R4gcs3lWGGNc",
        "outputId": "4c9d72a4-6e9d-4ad8-8c36-2ab1a15a27cd"
      },
      "outputs": [
        {
          "data": {
            "text/plain": [
              "[14, 16]"
            ]
          },
          "execution_count": 22,
          "metadata": {},
          "output_type": "execute_result"
        }
      ],
      "source": [
        "x[-3:-1]"
      ]
    },
    {
      "cell_type": "code",
      "execution_count": null,
      "metadata": {
        "colab": {
          "base_uri": "https://localhost:8080/"
        },
        "id": "7KiwGxdWGW3B",
        "outputId": "9609a3ee-4e9c-4453-d0cb-ca113ddee016"
      },
      "outputs": [
        {
          "data": {
            "text/plain": [
              "[1, 5, 4, 10, 14, 16, 20]"
            ]
          },
          "execution_count": 23,
          "metadata": {},
          "output_type": "execute_result"
        }
      ],
      "source": [
        "x[:100]"
      ]
    },
    {
      "cell_type": "markdown",
      "metadata": {
        "id": "nZVXefT8HIS8"
      },
      "source": [
        "# Basic List Operations"
      ]
    },
    {
      "cell_type": "markdown",
      "metadata": {
        "id": "C8Y5C4tyJ-UX"
      },
      "source": [
        "`len(x)` will return the length of x.\n",
        "\n",
        "You can add two lists together and the result will be the concatination of the two lists. \n",
        "\n",
        "You can also multiply a list by a number. Please check below or watch this [VDO](https://www.youtube.com/watch?v=egIKZqEXj6s&list=PLwnUv3sNB6_VKOYHXUN_QB3Xs3ZKMdf3g&index=3). "
      ]
    },
    {
      "cell_type": "code",
      "execution_count": null,
      "metadata": {
        "colab": {
          "base_uri": "https://localhost:8080/"
        },
        "id": "EhSfHjqRHLdx",
        "outputId": "51ad772b-f43c-49db-ad22-3b6e49016969"
      },
      "outputs": [
        {
          "data": {
            "text/plain": [
              "7"
            ]
          },
          "execution_count": 25,
          "metadata": {},
          "output_type": "execute_result"
        }
      ],
      "source": [
        "len(x)"
      ]
    },
    {
      "cell_type": "code",
      "execution_count": null,
      "metadata": {
        "colab": {
          "base_uri": "https://localhost:8080/"
        },
        "id": "rdHH_FepHPNF",
        "outputId": "fe6579c8-01f3-4a46-fc29-0cf993fb5bb3"
      },
      "outputs": [
        {
          "data": {
            "text/plain": [
              "[1, 2, 3, 4, 6, 2, 1, 'A']"
            ]
          },
          "execution_count": 26,
          "metadata": {},
          "output_type": "execute_result"
        }
      ],
      "source": [
        "[1,2,3,4]+[6,2,1,'A']"
      ]
    },
    {
      "cell_type": "code",
      "execution_count": null,
      "metadata": {
        "colab": {
          "base_uri": "https://localhost:8080/"
        },
        "id": "Qb6BEb6xHc5w",
        "outputId": "0b88598e-9624-4795-f739-69de699b8979"
      },
      "outputs": [
        {
          "data": {
            "text/plain": [
              "[1, 1, 1, 1]"
            ]
          },
          "execution_count": 27,
          "metadata": {},
          "output_type": "execute_result"
        }
      ],
      "source": [
        "[1]+[1]+[1]+[1]"
      ]
    },
    {
      "cell_type": "code",
      "execution_count": null,
      "metadata": {
        "colab": {
          "base_uri": "https://localhost:8080/"
        },
        "id": "e4_46oOMHmLq",
        "outputId": "95cc97ca-dc1d-48de-f182-3718698d7d2d"
      },
      "outputs": [
        {
          "data": {
            "text/plain": [
              "[1, 2, 3, 1, 2, 3, 1, 2, 3, 1, 2, 3]"
            ]
          },
          "execution_count": 30,
          "metadata": {},
          "output_type": "execute_result"
        }
      ],
      "source": [
        "[1,2,3]*4"
      ]
    },
    {
      "cell_type": "markdown",
      "metadata": {
        "id": "GPuR8hG8H74v"
      },
      "source": [
        "# Operations of Lists"
      ]
    },
    {
      "cell_type": "markdown",
      "metadata": {
        "id": "VLuZLCvXDPjI"
      },
      "source": [
        "## Addition\n",
        "\n",
        "Same as the previous one. "
      ]
    },
    {
      "cell_type": "code",
      "execution_count": null,
      "metadata": {
        "id": "voi8ZJDVHpuR"
      },
      "outputs": [],
      "source": [
        "x=[1,2,3,4]+[6,2,1,'A']\n",
        "x"
      ]
    },
    {
      "cell_type": "markdown",
      "metadata": {
        "id": "wVa8Y-ZyDSw8"
      },
      "source": [
        "## Find an Element in a List\n",
        "\n",
        "The VDO is [here](https://www.youtube.com/watch?v=AnmnaQtWBL0&list=PLwnUv3sNB6_VKOYHXUN_QB3Xs3ZKMdf3g&index=4). \n",
        "\n",
        "The `index(object,start)` will return the first location of the object in the list. The default parameter of `start` is 0.\n",
        "\n",
        "It will cause an exception if the `object` is not in the list. "
      ]
    },
    {
      "cell_type": "code",
      "execution_count": null,
      "metadata": {
        "colab": {
          "base_uri": "https://localhost:8080/"
        },
        "id": "PmRyGnSkIIPw",
        "outputId": "7aedf9aa-5653-4891-b7aa-910dacc9bc59"
      },
      "outputs": [
        {
          "data": {
            "text/plain": [
              "4"
            ]
          },
          "execution_count": 32,
          "metadata": {},
          "output_type": "execute_result"
        }
      ],
      "source": [
        "x.index(6)"
      ]
    },
    {
      "cell_type": "code",
      "execution_count": null,
      "metadata": {
        "colab": {
          "base_uri": "https://localhost:8080/"
        },
        "id": "7AlLPSBRIRN7",
        "outputId": "e9153822-ade8-4973-f4b8-09f8cf07e73b"
      },
      "outputs": [
        {
          "data": {
            "text/plain": [
              "0"
            ]
          },
          "execution_count": 33,
          "metadata": {},
          "output_type": "execute_result"
        }
      ],
      "source": [
        "x.index(1)"
      ]
    },
    {
      "cell_type": "code",
      "execution_count": null,
      "metadata": {
        "colab": {
          "base_uri": "https://localhost:8080/"
        },
        "id": "cDew6yjNIeBU",
        "outputId": "0eff3717-24bc-4508-8eb6-c697822af80c"
      },
      "outputs": [
        {
          "data": {
            "text/plain": [
              "6"
            ]
          },
          "execution_count": 34,
          "metadata": {},
          "output_type": "execute_result"
        }
      ],
      "source": [
        "x.index(1,1)"
      ]
    },
    {
      "cell_type": "code",
      "execution_count": null,
      "metadata": {
        "colab": {
          "base_uri": "https://localhost:8080/"
        },
        "id": "T5VvlMvRIvfn",
        "outputId": "37e51b62-1b77-4ab0-cc55-2e6124a0166a"
      },
      "outputs": [
        {
          "name": "stdout",
          "output_type": "stream",
          "text": [
            "Not found\n"
          ]
        }
      ],
      "source": [
        "if 7 in x:\n",
        "  print(x.index(7))\n",
        "else:\n",
        "  print('Not found')"
      ]
    },
    {
      "cell_type": "markdown",
      "metadata": {
        "id": "UYyyeiTbddqV"
      },
      "source": [
        "## Join a List\n",
        "\n",
        "The VDO is [here](https://www.youtube.com/watch?v=Q8B93qfK-qI&list=PLwnUv3sNB6_VKOYHXUN_QB3Xs3ZKMdf3g&index=5).\n",
        "\n",
        "You can join all string elements in the list using `str.join(list)`. This function will raise an exception if there is one or more elements in the `list` which is not the `str`."
      ]
    },
    {
      "cell_type": "code",
      "execution_count": null,
      "metadata": {
        "colab": {
          "base_uri": "https://localhost:8080/",
          "height": 258
        },
        "id": "gggXqOi8dpF7",
        "outputId": "c9481edd-9ad2-49b3-b530-5a047e9e7a6e"
      },
      "outputs": [
        {
          "name": "stdout",
          "output_type": "stream",
          "text": [
            "this:is:a:cat\n",
            "1:2:3:4:-1:5\n"
          ]
        },
        {
          "ename": "TypeError",
          "evalue": "ignored",
          "output_type": "error",
          "traceback": [
            "\u001b[0;31m---------------------------------------------------------------------------\u001b[0m",
            "\u001b[0;31mTypeError\u001b[0m                                 Traceback (most recent call last)",
            "\u001b[0;32m<ipython-input-8-a87b32c73883>\u001b[0m in \u001b[0;36m<module>\u001b[0;34m()\u001b[0m\n\u001b[1;32m     10\u001b[0m \u001b[0;34m\u001b[0m\u001b[0m\n\u001b[1;32m     11\u001b[0m \u001b[0mdata\u001b[0m\u001b[0;34m=\u001b[0m\u001b[0;34m[\u001b[0m\u001b[0;36m1\u001b[0m\u001b[0;34m,\u001b[0m\u001b[0;36m2\u001b[0m\u001b[0;34m,\u001b[0m\u001b[0;36m3\u001b[0m\u001b[0;34m,\u001b[0m\u001b[0;36m4\u001b[0m\u001b[0;34m,\u001b[0m\u001b[0;36m2\u001b[0m\u001b[0;34m]\u001b[0m\u001b[0;34m\u001b[0m\u001b[0;34m\u001b[0m\u001b[0m\n\u001b[0;32m---> 12\u001b[0;31m \u001b[0;34m' '\u001b[0m\u001b[0;34m.\u001b[0m\u001b[0mjoin\u001b[0m\u001b[0;34m(\u001b[0m\u001b[0mdata\u001b[0m\u001b[0;34m)\u001b[0m\u001b[0;34m\u001b[0m\u001b[0;34m\u001b[0m\u001b[0m\n\u001b[0m",
            "\u001b[0;31mTypeError\u001b[0m: sequence item 0: expected str instance, int found"
          ]
        }
      ],
      "source": [
        "tokens=['this','is','a','cat']\n",
        "print(':'.join(tokens))\n",
        "\n",
        "s='1,2,3,4,-1,5'\n",
        "s1=s.split(',')\n",
        "print(':'.join(s1))\n",
        "\n",
        "s='this   is   a    cat'\n",
        "' '.join(s.split())\n",
        "\n",
        "data=[1,2,3,4,2]\n",
        "' '.join(data)****"
      ]
    },
    {
      "cell_type": "markdown",
      "metadata": {
        "id": "_Q-ERbOUdBvF"
      },
      "source": [
        "## Modify a List\n",
        "\n",
        "The VDO is [here](https://www.youtube.com/watch?v=DO4AkYCR3VQ&list=PLwnUv3sNB6_VKOYHXUN_QB3Xs3ZKMdf3g&index=6).\n",
        "\n",
        "In this VDO, there are four basic functions that can modify the `list`. All functions are \n",
        "\n",
        "`append(object)` will insert the object at the end of the list.\n",
        "\n",
        "`insert(object,index)` can insert the `object` at location `index`.\n",
        "\n",
        "`remove(object,start)` will remove the first occurance of the `object` from the list. You can use the `start` parameter to force python to start searching from the start index. The default value of `start` is 0. **bold text**\n",
        "\n",
        "`pop(index)` will delete the element at index `index` from the list. "
      ]
    },
    {
      "cell_type": "code",
      "execution_count": null,
      "metadata": {
        "id": "zrQ2eZSyI4Uu"
      },
      "outputs": [],
      "source": [
        "x.append(100)"
      ]
    },
    {
      "cell_type": "code",
      "execution_count": null,
      "metadata": {
        "id": "JNsM27JMJZEx"
      },
      "outputs": [],
      "source": [
        "x.insert(3,200)"
      ]
    },
    {
      "cell_type": "code",
      "execution_count": null,
      "metadata": {
        "colab": {
          "base_uri": "https://localhost:8080/"
        },
        "id": "Z5lcq1jgJhJ2",
        "outputId": "e4b5dc30-015e-4c39-f611-48e4a18b2a3b"
      },
      "outputs": [
        {
          "data": {
            "text/plain": [
              "[1, 2, 3, 200, 4, 6, 2, 1, 'A', 100]"
            ]
          },
          "execution_count": 41,
          "metadata": {},
          "output_type": "execute_result"
        }
      ],
      "source": [
        "x"
      ]
    },
    {
      "cell_type": "code",
      "execution_count": null,
      "metadata": {
        "id": "6DR2yRBRJvq1"
      },
      "outputs": [],
      "source": [
        "x.remove(200)"
      ]
    },
    {
      "cell_type": "code",
      "execution_count": null,
      "metadata": {
        "colab": {
          "base_uri": "https://localhost:8080/"
        },
        "id": "WwFK6AJyJ-8X",
        "outputId": "e4afda00-a867-4218-f7b2-04b6f57e667a"
      },
      "outputs": [
        {
          "data": {
            "text/plain": [
              "[1, 2, 3, 4, 6, 2, 1, 'A', 100]"
            ]
          },
          "execution_count": 43,
          "metadata": {},
          "output_type": "execute_result"
        }
      ],
      "source": [
        "x"
      ]
    },
    {
      "cell_type": "code",
      "execution_count": null,
      "metadata": {
        "colab": {
          "base_uri": "https://localhost:8080/"
        },
        "id": "3lFYt-ZYJ_4k",
        "outputId": "752b60c4-1af3-4434-c8ef-d9193718e908"
      },
      "outputs": [
        {
          "data": {
            "text/plain": [
              "1"
            ]
          },
          "execution_count": 44,
          "metadata": {},
          "output_type": "execute_result"
        }
      ],
      "source": [
        "x.pop(0)"
      ]
    },
    {
      "cell_type": "code",
      "execution_count": null,
      "metadata": {
        "colab": {
          "base_uri": "https://localhost:8080/"
        },
        "id": "GtDn2Mf0KI1Y",
        "outputId": "1ed217e1-95d5-4e52-e69e-c56061832e47"
      },
      "outputs": [
        {
          "data": {
            "text/plain": [
              "[2, 3, 4, 6, 2, 1, 'A', 100]"
            ]
          },
          "execution_count": 45,
          "metadata": {},
          "output_type": "execute_result"
        }
      ],
      "source": [
        "x"
      ]
    },
    {
      "cell_type": "code",
      "execution_count": null,
      "metadata": {
        "colab": {
          "base_uri": "https://localhost:8080/"
        },
        "id": "8kxKNHpfKPNy",
        "outputId": "f8aa755f-37e3-46cf-ec3d-54ce492762e4"
      },
      "outputs": [
        {
          "data": {
            "text/plain": [
              "[2, 3, 4, 6, 2, 1, 'A', 100]"
            ]
          },
          "execution_count": 46,
          "metadata": {},
          "output_type": "execute_result"
        }
      ],
      "source": [
        "x"
      ]
    },
    {
      "cell_type": "markdown",
      "metadata": {
        "id": "BDdcnJ6aNOVL"
      },
      "source": [
        "### Using list slicing to modify a list \n",
        "\n",
        "Please watch this [VDO](https://www.youtube.com/watch?v=DdmrlASCmRo&list=PLwnUv3sNB6_VKOYHXUN_QB3Xs3ZKMdf3g&index=7) and try the cells below. "
      ]
    },
    {
      "cell_type": "code",
      "execution_count": null,
      "metadata": {
        "id": "Wv3wXwHOTaOh"
      },
      "outputs": [],
      "source": [
        "x[1:3]=['a','b','c']"
      ]
    },
    {
      "cell_type": "code",
      "execution_count": null,
      "metadata": {
        "colab": {
          "base_uri": "https://localhost:8080/"
        },
        "id": "qpFqfLQLTmii",
        "outputId": "c7201503-2130-4c60-e994-20edb002a992"
      },
      "outputs": [
        {
          "data": {
            "text/plain": [
              "[2, 'a', 'b', 'c', 6, 2, 1, 'A', 100]"
            ]
          },
          "execution_count": 48,
          "metadata": {},
          "output_type": "execute_result"
        }
      ],
      "source": [
        "x"
      ]
    },
    {
      "cell_type": "code",
      "execution_count": null,
      "metadata": {
        "id": "0UfZu6oPTna-"
      },
      "outputs": [],
      "source": [
        "x[1:1]=[1000,2000,3000]"
      ]
    },
    {
      "cell_type": "code",
      "execution_count": null,
      "metadata": {
        "colab": {
          "base_uri": "https://localhost:8080/"
        },
        "id": "Sl8rz_lST3SO",
        "outputId": "004cbabe-74aa-4cda-b90e-01717019ec48"
      },
      "outputs": [
        {
          "data": {
            "text/plain": [
              "[2, 1000, 2000, 3000, 'a', 'b', 'c', 6, 2, 1, 'A', 100]"
            ]
          },
          "execution_count": 50,
          "metadata": {},
          "output_type": "execute_result"
        }
      ],
      "source": [
        "x"
      ]
    },
    {
      "cell_type": "code",
      "execution_count": null,
      "metadata": {
        "id": "T-ymNhEPT3wx"
      },
      "outputs": [],
      "source": [
        "x[1:4]=[]"
      ]
    },
    {
      "cell_type": "code",
      "execution_count": null,
      "metadata": {
        "colab": {
          "base_uri": "https://localhost:8080/"
        },
        "id": "sINiXnlxUKPm",
        "outputId": "c40f2605-7456-4e50-b002-d26789ff3ba7"
      },
      "outputs": [
        {
          "data": {
            "text/plain": [
              "[2, 'a', 'b', 'c', 6, 2, 1, 'A', 100]"
            ]
          },
          "execution_count": 52,
          "metadata": {},
          "output_type": "execute_result"
        }
      ],
      "source": [
        "x"
      ]
    },
    {
      "cell_type": "code",
      "execution_count": null,
      "metadata": {
        "id": "J_ypvoqRUKor"
      },
      "outputs": [],
      "source": [
        "x[::2]=[1000,2000,3000,4000,5000]"
      ]
    },
    {
      "cell_type": "code",
      "execution_count": null,
      "metadata": {
        "colab": {
          "base_uri": "https://localhost:8080/"
        },
        "id": "JpFqr3gDUcQ3",
        "outputId": "fcb8da13-6bcf-491b-ef40-80d0c4fae6de"
      },
      "outputs": [
        {
          "data": {
            "text/plain": [
              "[1000, 'a', 2000, 'c', 3000, 2, 4000, 'A', 5000]"
            ]
          },
          "execution_count": 56,
          "metadata": {},
          "output_type": "execute_result"
        }
      ],
      "source": [
        "x"
      ]
    },
    {
      "cell_type": "code",
      "execution_count": null,
      "metadata": {
        "id": "VWzbKxIQUqG-"
      },
      "outputs": [],
      "source": []
    },
    {
      "cell_type": "markdown",
      "metadata": {
        "id": "YG1-xqtBVjRk"
      },
      "source": [
        "# List Comprehension\n",
        "\n",
        "We can construct a list using list comprehension. The idea is you can add elements to the list using a for loop inside. The detail is in the [VDO](https://www.youtube.com/watch?v=LnZnarhGY60&list=PLwnUv3sNB6_VKOYHXUN_QB3Xs3ZKMdf3g&index=8).   "
      ]
    },
    {
      "cell_type": "code",
      "execution_count": null,
      "metadata": {
        "colab": {
          "base_uri": "https://localhost:8080/"
        },
        "id": "aox4NrKSVmJL",
        "outputId": "b66ad91c-c456-4401-dd37-14e5ad70c156"
      },
      "outputs": [
        {
          "data": {
            "text/plain": [
              "[0, 1, 2, 3, 4, 5, 6, 7, 8, 9]"
            ]
          },
          "execution_count": 57,
          "metadata": {},
          "output_type": "execute_result"
        }
      ],
      "source": [
        "[i for i in range(10)]"
      ]
    },
    {
      "cell_type": "code",
      "execution_count": null,
      "metadata": {
        "colab": {
          "base_uri": "https://localhost:8080/"
        },
        "id": "sBUxcZVjV1Qr",
        "outputId": "d5e7e1e2-f492-4319-eaec-6e05d4072413"
      },
      "outputs": [
        {
          "data": {
            "text/plain": [
              "[0, 2, 4, 6, 8, 10, 12, 14, 16, 18]"
            ]
          },
          "execution_count": 58,
          "metadata": {},
          "output_type": "execute_result"
        }
      ],
      "source": [
        "[i*2 for i in range(10)]"
      ]
    },
    {
      "cell_type": "code",
      "execution_count": null,
      "metadata": {
        "colab": {
          "base_uri": "https://localhost:8080/"
        },
        "id": "F7lTJbXmV5qq",
        "outputId": "fe2eafae-a5ac-4ff4-d964-88a5c78b5c96"
      },
      "outputs": [
        {
          "data": {
            "text/plain": [
              "[97, 59, 0, 67, 78, 49, 15, 57, 64, 62, 58, 67, 41, 11, 99, 27, 12, 89, 89, 87]"
            ]
          },
          "execution_count": 61,
          "metadata": {},
          "output_type": "execute_result"
        }
      ],
      "source": [
        "import random \n",
        "\n",
        "[int(random.random()*100) for i in range(20)]"
      ]
    },
    {
      "cell_type": "code",
      "execution_count": null,
      "metadata": {
        "colab": {
          "base_uri": "https://localhost:8080/"
        },
        "id": "7cYV_koQWEmG",
        "outputId": "a1333395-b641-4647-8a8e-c5e99a867b43"
      },
      "outputs": [
        {
          "data": {
            "text/plain": [
              "[17, 19, 23, 29, 31, 37, 41, 43, 47, 53, 59, 61, 67, 71, 73, 79, 83, 89, 97]"
            ]
          },
          "execution_count": 66,
          "metadata": {},
          "output_type": "execute_result"
        }
      ],
      "source": [
        "[i for i in range(2,100) if i%2 != 0 and i%3 != 0 and i%5 != 0 and i%7 != 0 and i%11 != 0 and i%13 != 0]"
      ]
    },
    {
      "cell_type": "markdown",
      "metadata": {
        "id": "ij38YRhBa5df"
      },
      "source": [
        "### Construct a List"
      ]
    },
    {
      "cell_type": "code",
      "execution_count": null,
      "metadata": {
        "colab": {
          "base_uri": "https://localhost:8080/"
        },
        "id": "qyqzKmy0a8Hu",
        "outputId": "46ec7078-9380-4d02-ccbc-6a639ccc183e"
      },
      "outputs": [
        {
          "name": "stdout",
          "output_type": "stream",
          "text": [
            "Downloading...\n",
            "From: https://drive.google.com/uc?id=1wpYx8rvGohvy_TLEfYgaKRYpyy2Z1ZST\n",
            "To: /content/score.csv\n",
            "\r  0% 0.00/22.4k [00:00<?, ?B/s]\r100% 22.4k/22.4k [00:00<00:00, 16.6MB/s]\n"
          ]
        }
      ],
      "source": [
        "! gdown https://drive.google.com/uc?id=1wpYx8rvGohvy_TLEfYgaKRYpyy2Z1ZST "
      ]
    },
    {
      "cell_type": "code",
      "execution_count": null,
      "metadata": {
        "id": "g00KF1i8a5NS"
      },
      "outputs": [],
      "source": [
        "y=x"
      ]
    },
    {
      "cell_type": "code",
      "execution_count": null,
      "metadata": {
        "colab": {
          "base_uri": "https://localhost:8080/"
        },
        "id": "S6fh2T5SWjBs",
        "outputId": "67d9fd79-7b23-45a6-afd4-7b8ea1dea040"
      },
      "outputs": [
        {
          "data": {
            "text/plain": [
              "[1000, 'a', 2000, 'c', 3000, 2, 4000, 'A', 5000]"
            ]
          },
          "execution_count": 70,
          "metadata": {},
          "output_type": "execute_result"
        }
      ],
      "source": [
        "x"
      ]
    },
    {
      "cell_type": "code",
      "execution_count": null,
      "metadata": {
        "colab": {
          "base_uri": "https://localhost:8080/"
        },
        "id": "JYIFe-0TbedG",
        "outputId": "cdd77104-6b40-442c-ae2e-31e833e7a127"
      },
      "outputs": [
        {
          "data": {
            "text/plain": [
              "[1000, 'a', 2000, 'c', 3000, 2, 4000, 'A', 5000]"
            ]
          },
          "execution_count": 71,
          "metadata": {},
          "output_type": "execute_result"
        }
      ],
      "source": [
        "y"
      ]
    },
    {
      "cell_type": "code",
      "execution_count": null,
      "metadata": {
        "id": "E2xpeAJ9bfFa"
      },
      "outputs": [],
      "source": [
        "x[0]=10"
      ]
    },
    {
      "cell_type": "code",
      "execution_count": null,
      "metadata": {
        "colab": {
          "base_uri": "https://localhost:8080/"
        },
        "id": "dativ0NWbh-5",
        "outputId": "9cc02413-b4c2-4660-ea49-1d3a84b2dfa8"
      },
      "outputs": [
        {
          "data": {
            "text/plain": [
              "[10, 'a', 2000, 'c', 3000, 2, 4000, 'A', 5000]"
            ]
          },
          "execution_count": 73,
          "metadata": {},
          "output_type": "execute_result"
        }
      ],
      "source": [
        "x"
      ]
    },
    {
      "cell_type": "code",
      "execution_count": null,
      "metadata": {
        "colab": {
          "base_uri": "https://localhost:8080/"
        },
        "id": "Ym62hFFUbion",
        "outputId": "f2550960-23b8-456a-d03c-3a20e19f42c3"
      },
      "outputs": [
        {
          "data": {
            "text/plain": [
              "[10, 'a', 2000, 'c', 3000, 2, 4000, 'A', 5000]"
            ]
          },
          "execution_count": 74,
          "metadata": {},
          "output_type": "execute_result"
        }
      ],
      "source": [
        "y"
      ]
    },
    {
      "cell_type": "code",
      "execution_count": null,
      "metadata": {
        "id": "9ofRHEWjbk1e"
      },
      "outputs": [],
      "source": [
        "z=list(x)"
      ]
    },
    {
      "cell_type": "code",
      "execution_count": null,
      "metadata": {
        "colab": {
          "base_uri": "https://localhost:8080/"
        },
        "id": "TB0s2wOpb0G4",
        "outputId": "ab19356f-d914-4646-d7da-324b850d1c39"
      },
      "outputs": [
        {
          "data": {
            "text/plain": [
              "[10, 'a', 2000, 'c', 3000, 2, 4000, 'A', 5000]"
            ]
          },
          "execution_count": 78,
          "metadata": {},
          "output_type": "execute_result"
        }
      ],
      "source": [
        "z"
      ]
    },
    {
      "cell_type": "code",
      "execution_count": null,
      "metadata": {
        "id": "wREZZpYsb0k0"
      },
      "outputs": [],
      "source": [
        "x[0]=1000\n"
      ]
    },
    {
      "cell_type": "code",
      "execution_count": null,
      "metadata": {
        "colab": {
          "base_uri": "https://localhost:8080/"
        },
        "id": "ERxLL9xXb8uY",
        "outputId": "96d20a2d-c787-4b71-b889-e9e5ff3ef612"
      },
      "outputs": [
        {
          "data": {
            "text/plain": [
              "[1000, 'a', 2000, 'c', 3000, 2, 4000, 'A', 5000]"
            ]
          },
          "execution_count": 80,
          "metadata": {},
          "output_type": "execute_result"
        }
      ],
      "source": [
        "x"
      ]
    },
    {
      "cell_type": "code",
      "execution_count": null,
      "metadata": {
        "colab": {
          "base_uri": "https://localhost:8080/"
        },
        "id": "Tn7r51Lmb9sB",
        "outputId": "f40d9d14-7271-4ea1-dee4-94e61a0d17dd"
      },
      "outputs": [
        {
          "data": {
            "text/plain": [
              "[1000, 'a', 2000, 'c', 3000, 2, 4000, 'A', 5000]"
            ]
          },
          "execution_count": 81,
          "metadata": {},
          "output_type": "execute_result"
        }
      ],
      "source": [
        "y"
      ]
    },
    {
      "cell_type": "code",
      "execution_count": null,
      "metadata": {
        "colab": {
          "base_uri": "https://localhost:8080/"
        },
        "id": "NgQ3MIICb_Y3",
        "outputId": "a585fbae-f052-4d88-fe31-0557f7a0ca03"
      },
      "outputs": [
        {
          "data": {
            "text/plain": [
              "[10, 'a', 2000, 'c', 3000, 2, 4000, 'A', 5000]"
            ]
          },
          "execution_count": 82,
          "metadata": {},
          "output_type": "execute_result"
        }
      ],
      "source": [
        "z"
      ]
    },
    {
      "cell_type": "markdown",
      "metadata": {
        "id": "ZL0EpwhdOE6s"
      },
      "source": [
        "#### readlines() \n",
        "\n",
        "Instead of using `readline()` or using `for line in file`, the `readlines()` function can be used. The result returns from the `readlines()` is a list of all lines in the file. \n",
        "\n",
        "The detail is in the [VDO](https://www.youtube.com/watch?v=EN6nZjuX_uQ&list=PLwnUv3sNB6_VKOYHXUN_QB3Xs3ZKMdf3g&index=9). "
      ]
    },
    {
      "cell_type": "code",
      "execution_count": null,
      "metadata": {
        "colab": {
          "base_uri": "https://localhost:8080/"
        },
        "id": "DeSfwYYBcBHG",
        "outputId": "8f84f1e5-9abf-4d9b-d1fd-a3e7b003a5db"
      },
      "outputs": [
        {
          "name": "stdout",
          "output_type": "stream",
          "text": [
            "student_id,Q1,Q2,Q3,Q4,Q5\n",
            "5600148421,7,1,6,6,6\n",
            "5600163621,0,1,2,6,8\n",
            "5600186321,6,5,9,10,3\n",
            "5600334721,5,1,2,7,7\n",
            "5600486621,3,9,9,7,4\n",
            "5600555421,5,1,6,7,7\n",
            "5600574721,3,3,4,8,4\n",
            "5600612321,8,10,8,6,5\n",
            "5600622121,5,9,6,10,7\n",
            "5600683121,8,8,4,10,4\n",
            "5600717621,6,6,5,9,4\n",
            "5600896121,4,3,5,9,8\n",
            "5601068921,6,6,4,8,6\n",
            "5601281121,8,3,8,6,3\n",
            "5601339021,7,3,6,6,6\n",
            "5601407321,7,10,2,8,5\n",
            "5601474121,3,2,6,5,4\n",
            "5601662921,0,4,7,6,5\n",
            "5601696221,7,1,5,7,4\n",
            "5601764221,4,10,9,6,4\n",
            "5601793121,0,7,5,7,6\n",
            "5601794821,8,0,9,9,4\n",
            "5601823321,4,6,8,9,3\n",
            "5601921921,10,2,5,5,4\n",
            "5602016921,7,2,6,6,3\n",
            "5602055821,9,3,6,7,4\n",
            "5602241621,3,5,3,10,4\n",
            "5602335421,4,3,3,9,3\n",
            "5602351421,1,9,3,10,4\n",
            "5602385021,2,7,7,10,8\n",
            "5602432421,0,10,9,5,5\n",
            "5602562621,9,6,2,6,8\n",
            "5602666721,8,2,3,7,4\n",
            "5602834721,3,7,7,6,3\n",
            "5602960421,7,7,7,5,4\n",
            "5602967621,9,5,9,5,3\n",
            "5603300021,10,7,9,8,5\n",
            "5603324921,8,7,6,7,4\n",
            "5603458621,1,0,4,7,3\n",
            "5603465821,5,7,9,7,4\n",
            "5603494721,1,6,8,8,3\n",
            "5603554521,5,1,4,10,7\n",
            "5603567021,4,1,9,8,8\n",
            "5603619521,8,9,4,8,7\n",
            "5603737721,1,0,2,6,5\n",
            "5603806521,10,3,9,8,6\n",
            "5603953621,7,5,3,7,7\n",
            "5604059521,0,3,9,10,5\n",
            "5604164621,10,5,3,5,5\n",
            "5604355821,6,8,7,8,3\n",
            "5604396121,2,1,2,9,8\n",
            "5604423221,7,1,7,9,7\n",
            "5604507321,5,4,6,5,5\n",
            "5604533821,1,8,8,8,8\n",
            "5604543721,1,2,7,8,4\n",
            "5604591221,5,3,3,7,3\n",
            "5604844421,8,8,5,5,8\n",
            "5604878221,9,5,3,5,6\n",
            "5604891721,9,2,2,6,7\n",
            "5605072021,4,8,7,10,6\n",
            "5605082021,9,9,9,10,3\n",
            "5605104321,10,3,6,6,6\n",
            "5605206221,7,4,6,8,6\n",
            "5605225521,10,1,2,6,4\n",
            "5605337521,2,6,7,7,3\n",
            "5605415921,0,10,8,5,7\n",
            "5605438821,5,10,9,5,3\n",
            "5605554421,8,1,5,10,8\n",
            "5605585921,4,2,4,9,8\n",
            "5605699821,2,3,9,6,8\n",
            "5605977721,8,1,7,6,3\n",
            "5606064221,5,0,4,9,8\n",
            "5606198521,2,8,5,7,7\n",
            "5606218921,8,1,4,6,5\n",
            "5606315321,8,2,6,8,4\n",
            "5606347221,0,2,5,9,6\n",
            "5606428521,4,1,7,7,5\n",
            "5606448721,6,2,5,5,8\n",
            "5606503721,10,0,7,8,7\n",
            "5606621921,4,6,3,5,7\n",
            "5606648721,4,7,6,8,3\n",
            "5606694321,2,10,2,8,7\n",
            "5606714021,8,5,8,5,5\n",
            "5606785321,7,0,4,9,4\n",
            "5607066621,1,5,3,7,5\n",
            "5607095421,4,7,9,10,8\n",
            "5607134621,0,6,5,7,6\n",
            "5607383721,10,10,5,7,8\n",
            "5607420421,6,1,4,9,5\n",
            "5607469521,4,4,6,5,8\n",
            "5607721221,9,5,5,8,7\n",
            "5607807621,4,9,6,9,3\n",
            "5607898521,4,5,4,6,5\n",
            "5607923221,4,0,5,7,4\n",
            "5607950521,5,7,6,9,5\n",
            "5608041221,5,1,2,9,7\n",
            "5608358021,0,2,6,7,5\n",
            "5608590921,2,3,5,10,7\n",
            "5608719221,10,3,7,10,7\n",
            "5608831521,0,4,7,6,4\n",
            "5608855721,6,9,6,10,7\n",
            "5609249221,10,0,6,8,7\n",
            "5609312521,10,0,5,5,6\n",
            "5609445121,6,9,9,8,3\n",
            "5609460721,8,8,8,9,7\n",
            "5609555221,0,7,6,8,7\n",
            "5609572821,10,8,4,8,7\n",
            "5609610521,2,0,5,8,6\n",
            "5609615421,10,5,5,9,4\n",
            "5609617021,9,0,8,5,7\n",
            "5609717321,9,9,9,5,5\n",
            "5609736621,4,2,2,5,5\n",
            "5610042521,2,9,4,9,7\n",
            "5610067321,0,6,3,7,8\n",
            "5610272621,7,9,2,5,3\n",
            "5610396421,1,4,5,6,6\n",
            "5610453621,0,5,3,7,3\n",
            "5610492021,10,9,9,6,4\n",
            "5610627821,0,8,7,8,5\n",
            "5610774321,8,0,5,10,3\n",
            "5610986121,6,7,8,9,8\n",
            "5611122021,2,9,9,7,3\n",
            "5611122221,9,2,9,5,4\n",
            "5611169321,10,5,9,9,5\n",
            "5611268921,1,3,4,9,5\n",
            "5611503821,7,3,7,5,3\n",
            "5611592121,7,7,7,6,3\n",
            "5611669921,7,4,5,8,8\n",
            "5611702821,5,7,8,7,8\n",
            "5611739321,3,6,9,5,3\n",
            "5611893921,5,3,5,7,8\n",
            "5611901621,0,3,3,6,7\n",
            "5611935821,0,3,7,9,4\n",
            "5612148321,9,9,2,6,5\n",
            "5612226421,8,8,5,9,7\n",
            "5612409921,0,10,2,7,7\n",
            "5612522521,9,9,4,10,3\n",
            "5612602321,7,4,2,8,4\n",
            "5612799921,5,7,6,7,4\n",
            "5612811821,7,2,9,6,3\n",
            "5612940021,1,8,5,6,3\n",
            "5612978021,3,6,4,6,4\n",
            "5613270121,6,1,8,5,5\n",
            "5613301921,10,4,8,9,6\n",
            "5613584121,8,3,5,5,6\n",
            "5613603621,5,2,2,10,7\n",
            "5613660121,4,5,7,7,6\n",
            "5613756521,6,8,9,10,4\n",
            "5613853021,4,6,7,10,5\n",
            "5613860221,4,5,9,5,5\n",
            "5613994721,2,3,9,9,3\n",
            "5614075421,9,1,4,10,3\n",
            "5614253321,6,0,5,7,7\n",
            "5614297221,4,8,6,9,8\n",
            "5614302221,4,2,3,8,3\n",
            "5614444721,2,3,3,6,3\n",
            "5614634521,5,3,7,9,5\n",
            "5614722321,0,0,9,9,8\n",
            "5615137621,7,8,8,6,3\n",
            "5615139521,0,4,6,6,4\n",
            "5615289521,9,5,9,6,5\n",
            "5615325821,6,6,8,9,4\n",
            "5615387721,4,5,4,9,5\n",
            "5615474221,9,5,6,7,5\n",
            "5615666421,6,4,2,8,3\n",
            "5615722221,1,1,5,5,7\n",
            "5616065321,9,0,7,10,6\n",
            "5616166921,7,10,6,10,8\n",
            "5616394921,9,7,8,6,4\n",
            "5616426421,3,6,7,7,4\n",
            "5616455221,1,10,7,5,7\n",
            "5616478621,5,9,3,7,5\n",
            "5616818921,5,3,4,9,8\n",
            "5616888521,4,9,2,7,5\n",
            "5617246221,4,1,7,8,5\n",
            "5617254021,8,7,7,10,6\n",
            "5617277621,1,10,6,5,8\n",
            "5617318521,7,6,7,6,4\n",
            "5617419221,3,4,4,5,4\n",
            "5617428321,9,10,4,6,3\n",
            "5617543621,7,7,5,5,4\n",
            "5617876421,9,2,5,6,5\n",
            "5617926021,8,9,6,7,3\n",
            "5617950821,6,4,4,7,3\n",
            "5618080621,0,3,5,5,8\n",
            "5618159121,7,9,5,6,5\n",
            "5618226721,5,9,4,10,6\n",
            "5618336221,4,4,3,9,8\n",
            "5618358921,5,10,3,10,6\n",
            "5618705521,7,1,5,7,7\n",
            "5618922721,7,7,2,7,6\n",
            "5618959821,4,7,7,7,3\n",
            "5618976321,6,6,7,8,7\n",
            "5619028121,7,2,7,9,8\n",
            "5619147421,10,4,5,10,6\n",
            "5619310221,8,9,3,9,8\n",
            "5619483921,4,8,8,8,8\n",
            "5619594621,2,1,2,9,5\n",
            "5619772721,9,3,4,7,6\n",
            "5619943821,9,6,4,7,8\n",
            "5620044521,2,8,6,7,3\n",
            "5620198621,1,1,4,5,8\n",
            "5620274321,5,10,6,9,6\n",
            "5620379121,6,6,7,8,4\n",
            "5620386521,3,9,4,10,4\n",
            "5620400921,1,0,8,5,5\n",
            "5620473221,6,4,3,6,3\n",
            "5620570021,6,7,5,6,3\n",
            "5620593021,6,2,2,7,6\n",
            "5620827921,10,0,9,6,5\n",
            "5620966921,7,3,2,6,3\n",
            "5620982021,9,8,2,10,4\n",
            "5621050721,4,1,7,9,3\n",
            "5621060521,9,1,5,7,4\n",
            "5621364421,7,7,6,7,7\n",
            "5621377921,2,10,8,7,8\n",
            "5621475021,2,4,4,7,3\n",
            "5621480121,1,2,6,6,5\n",
            "5621643621,7,6,6,10,7\n",
            "5621665621,10,3,9,5,3\n",
            "5621721021,9,8,5,8,4\n",
            "5621866221,10,1,7,7,5\n",
            "5621969121,6,7,2,5,8\n",
            "5622147721,0,5,9,8,6\n",
            "5622280021,9,6,3,5,3\n",
            "5622353121,2,4,3,7,7\n",
            "5622543321,2,2,6,6,7\n",
            "5622583721,9,3,7,7,8\n",
            "5622725821,0,2,8,5,6\n",
            "5622730321,8,9,7,7,8\n",
            "5622825521,10,1,3,5,5\n",
            "5622908821,0,4,4,6,7\n",
            "5622997221,9,10,4,9,8\n",
            "5623026621,4,3,9,10,6\n",
            "5623609921,7,6,7,10,8\n",
            "5623799621,4,5,5,8,5\n",
            "5623927621,10,2,7,7,6\n",
            "5623976521,6,3,3,9,3\n",
            "5624016821,7,9,4,10,3\n",
            "5624083321,7,4,2,7,3\n",
            "5624326321,5,2,6,10,7\n",
            "5624340021,0,0,3,10,5\n",
            "5624369421,0,0,4,10,6\n",
            "5624693321,10,6,8,8,7\n",
            "5624719321,3,8,6,9,8\n",
            "5624796521,0,10,7,6,6\n",
            "5624847521,1,4,6,9,6\n",
            "5624851721,0,5,5,6,5\n",
            "5624926721,7,0,9,10,5\n",
            "5624929521,3,4,6,8,3\n",
            "5624983421,7,0,3,7,6\n",
            "5625205621,3,6,3,9,7\n",
            "5625268121,6,7,3,10,8\n",
            "5625427021,0,10,9,7,5\n",
            "5625763821,10,3,6,5,5\n",
            "5625871721,1,8,4,9,7\n",
            "5625872921,1,8,2,7,8\n",
            "5625897821,6,5,4,8,3\n",
            "5625950621,0,10,5,6,4\n",
            "5626094021,6,7,4,10,7\n",
            "5626189021,5,7,5,8,8\n",
            "5626222721,4,10,4,9,3\n",
            "5626274521,3,2,8,10,5\n",
            "5626387121,0,8,2,6,6\n",
            "5626404421,10,7,2,9,5\n",
            "5626572621,10,10,8,7,5\n",
            "5626874621,6,10,2,9,8\n",
            "5626912321,10,5,5,10,6\n",
            "5626983621,3,5,5,10,4\n",
            "5627293321,2,10,5,5,6\n",
            "5627328921,2,8,3,8,6\n",
            "5627412621,0,0,6,8,6\n",
            "5627569921,4,7,9,6,8\n",
            "5627652021,3,3,3,10,7\n",
            "5627711021,6,3,6,10,8\n",
            "5627848821,7,9,7,7,8\n",
            "5628099321,7,3,9,9,3\n",
            "5628203321,4,4,4,7,5\n",
            "5628226821,10,7,6,10,5\n",
            "5628286121,8,2,4,10,4\n",
            "5628294521,5,9,6,8,6\n",
            "5628329421,7,3,5,10,5\n",
            "5628387221,8,1,8,6,5\n",
            "5628548721,10,5,7,6,7\n",
            "5628579121,10,9,4,9,3\n",
            "5628694021,9,3,7,7,6\n",
            "5628797221,4,6,4,6,5\n",
            "5629088321,7,9,3,6,4\n",
            "5629106321,1,4,7,7,4\n",
            "5629211621,4,10,5,8,4\n",
            "5629331521,10,8,2,8,6\n",
            "5629501821,6,10,5,10,6\n",
            "5629600821,2,3,4,8,6\n",
            "5629624421,9,10,3,9,3\n",
            "5629700321,4,6,4,7,6\n",
            "5629807921,8,4,7,10,8\n",
            "5630013121,3,2,9,9,4\n",
            "5630030421,2,8,8,7,3\n",
            "5630101321,4,1,6,9,4\n",
            "5630287421,5,6,7,7,8\n",
            "5630761821,5,0,8,9,5\n",
            "5630790421,6,8,4,5,8\n",
            "5631007421,1,7,7,6,5\n",
            "5631056421,7,10,8,5,4\n",
            "5631131521,9,3,8,10,8\n",
            "5631186921,7,4,3,8,4\n",
            "5631369621,5,3,7,5,4\n",
            "5631371621,9,9,6,9,8\n",
            "5631391721,8,2,6,9,3\n",
            "5631547821,1,2,2,7,6\n",
            "5631606321,4,7,4,7,5\n",
            "5631720321,7,0,5,8,5\n",
            "5631789721,4,1,3,10,5\n",
            "5631942421,5,2,6,8,3\n",
            "5632016621,9,8,7,6,7\n",
            "5632032121,3,0,3,8,5\n",
            "5632242721,0,7,4,9,5\n",
            "5632283821,0,8,6,9,7\n",
            "5632525021,3,2,7,6,4\n",
            "5632737021,0,6,6,9,8\n",
            "5632778321,4,9,3,10,3\n",
            "5633375121,9,8,9,6,4\n",
            "5633380221,8,10,8,10,4\n",
            "5633418021,4,0,6,9,4\n",
            "5633471921,8,3,7,9,3\n",
            "5633614221,3,8,3,10,7\n",
            "5633647021,5,6,6,6,8\n",
            "5634000621,8,9,8,5,8\n",
            "5634206921,4,6,8,8,4\n",
            "5634283621,2,9,2,5,6\n",
            "5634342621,5,6,5,6,8\n",
            "5634401121,1,8,3,6,4\n",
            "5634615621,2,3,2,9,7\n",
            "5634673221,8,6,6,6,6\n",
            "5634690521,1,2,8,7,3\n",
            "5634698221,6,0,8,9,5\n",
            "5634728721,7,0,2,10,6\n",
            "5634864921,1,0,7,9,3\n",
            "5634870421,6,3,6,5,5\n",
            "5635209721,9,10,8,10,5\n",
            "5635440621,1,4,9,5,4\n",
            "5635570621,6,4,5,8,6\n",
            "5635604421,10,0,2,10,4\n",
            "5635608221,10,1,7,5,5\n",
            "5635619621,0,6,5,9,4\n",
            "5635670621,9,8,2,5,5\n",
            "5635707821,10,9,2,6,4\n",
            "5635836421,9,4,7,7,6\n",
            "5635911621,0,6,4,6,8\n",
            "5635918721,5,8,4,7,6\n",
            "5635976421,9,1,6,6,6\n",
            "5636085521,0,8,2,5,8\n",
            "5636386721,0,5,7,5,5\n",
            "5636482221,6,8,2,6,6\n",
            "5636493121,0,3,8,10,4\n",
            "5636504921,1,2,4,9,8\n",
            "5636548121,3,8,6,8,8\n",
            "5636590021,8,2,9,9,3\n",
            "5636834521,4,0,4,9,6\n",
            "5636838421,8,5,8,5,7\n",
            "5636901721,8,5,2,10,8\n",
            "5636956821,3,4,5,9,4\n",
            "5636981221,2,4,7,7,4\n",
            "5636986021,7,5,9,10,3\n",
            "5637088421,8,7,5,10,3\n",
            "5637161121,3,6,4,6,8\n",
            "5637264221,10,10,7,10,3\n",
            "5637278621,10,10,2,9,8\n",
            "5637305221,3,3,5,10,6\n",
            "5637325121,5,3,4,5,7\n",
            "5637362121,1,2,6,8,4\n",
            "5637403221,3,1,4,6,6\n",
            "5637435021,4,4,7,9,8\n",
            "5637555721,0,7,4,10,4\n",
            "5637698521,10,3,9,10,3\n",
            "5637744321,5,6,6,7,3\n",
            "5637792421,0,5,4,10,8\n",
            "5637844821,8,3,9,7,5\n",
            "5637861121,10,5,8,8,4\n",
            "5637928621,3,2,3,9,6\n",
            "5637996021,4,8,9,7,5\n",
            "5638003421,0,7,8,8,4\n",
            "5638309221,2,6,2,7,5\n",
            "5638392821,3,3,4,10,3\n",
            "5638427321,9,3,8,6,8\n",
            "5638580421,5,10,3,5,7\n",
            "5638739421,1,6,4,8,5\n",
            "5638773421,6,1,5,5,6\n",
            "5639030621,0,0,4,6,3\n",
            "5639110921,10,10,8,10,8\n",
            "5639125721,0,5,2,10,7\n",
            "5639183321,10,5,5,8,3\n",
            "5639218121,6,3,5,6,7\n",
            "5639478921,6,2,7,10,7\n",
            "5639575921,9,8,4,5,5\n",
            "5639602121,1,0,6,5,4\n",
            "5639672821,10,3,9,8,5\n",
            "5639831821,3,3,6,5,8\n",
            "5639933021,7,9,4,7,8\n",
            "5640000421,8,2,5,8,4\n",
            "5640056621,3,4,9,9,7\n",
            "5640060421,7,6,6,5,7\n",
            "5640086721,9,0,5,10,7\n",
            "5640158521,7,4,7,5,6\n",
            "5640436421,4,2,5,10,7\n",
            "5640445721,2,5,3,6,7\n",
            "5640488521,6,5,8,9,3\n",
            "5640513321,5,1,9,9,5\n",
            "5640667621,9,2,6,7,7\n",
            "5640684621,9,8,7,6,4\n",
            "5640833721,9,2,8,9,4\n",
            "5641120521,2,9,2,6,5\n",
            "5641234321,6,0,4,8,4\n",
            "5641354221,5,7,8,7,4\n",
            "5641470021,4,8,5,6,4\n",
            "5641547621,10,0,6,10,5\n",
            "5641577621,5,6,2,6,5\n",
            "5641727621,6,5,9,7,5\n",
            "5641963121,10,1,7,8,6\n",
            "5641977821,7,5,6,7,7\n",
            "5642041721,3,6,8,7,5\n",
            "5642356821,2,10,9,10,3\n",
            "5642463221,10,1,3,6,8\n",
            "5642581621,8,6,7,7,5\n",
            "5642596521,1,2,9,8,8\n",
            "5642649521,1,5,3,10,5\n",
            "5642654421,5,3,8,5,7\n",
            "5642655521,5,3,7,7,4\n",
            "5642686021,3,1,8,5,7\n",
            "5642729121,8,5,3,5,7\n",
            "5643028721,8,2,9,5,5\n",
            "5643062421,5,6,9,7,4\n",
            "5643317121,1,3,2,9,8\n",
            "5643330521,9,0,9,8,5\n",
            "5643518621,4,0,6,8,5\n",
            "5643557621,4,6,9,8,5\n",
            "5643614721,8,1,8,8,3\n",
            "5643614921,3,1,7,8,7\n",
            "5643618821,9,9,3,10,3\n",
            "5643658421,2,4,9,9,3\n",
            "5644043221,10,2,9,6,8\n",
            "5644141021,9,1,5,5,4\n",
            "5644660621,6,2,5,5,7\n",
            "5644947121,2,5,2,9,8\n",
            "5645003521,5,1,4,8,4\n",
            "5645068921,5,7,6,10,7\n",
            "5645075821,5,9,2,10,4\n",
            "5645103921,4,2,2,5,3\n",
            "5645254421,5,6,3,5,8\n",
            "5645309321,5,8,7,10,3\n",
            "5645467121,9,4,7,5,3\n",
            "5645525421,4,9,4,5,6\n",
            "5645610121,6,2,7,8,4\n",
            "5645626621,10,1,8,10,7\n",
            "5645679321,7,7,8,10,3\n",
            "5645726121,3,8,2,5,8\n",
            "5645851721,2,2,4,10,4\n",
            "5645915521,6,6,5,5,4\n",
            "5645928421,10,1,5,9,8\n",
            "5646064021,2,1,4,5,8\n",
            "5646343721,1,7,8,6,3\n",
            "5646589521,4,0,9,7,4\n",
            "5646604621,3,9,7,9,5\n",
            "5646768621,7,4,3,6,8\n",
            "5647251521,4,3,4,5,4\n",
            "5647287721,6,3,8,9,5\n",
            "5647355121,1,1,6,9,3\n",
            "5647586421,3,0,8,5,3\n",
            "5647652921,10,0,6,10,3\n",
            "5647713221,2,2,3,9,7\n",
            "5647768521,3,1,2,9,8\n",
            "5648071421,10,7,4,9,6\n",
            "5648219021,8,8,3,8,8\n",
            "5648221121,9,10,5,9,4\n",
            "5648238621,7,6,5,7,7\n",
            "5648258721,1,0,7,9,3\n",
            "5648260221,4,6,6,9,5\n",
            "5648264721,5,5,4,6,7\n",
            "5648368021,6,3,7,10,5\n",
            "5648440321,9,7,7,7,4\n",
            "5648487521,4,7,6,10,8\n",
            "5648656321,2,8,9,9,3\n",
            "5648712021,10,9,2,6,8\n",
            "5648916321,9,3,8,5,5\n",
            "5648924821,6,7,2,7,6\n",
            "5649059621,9,5,8,10,3\n",
            "5649073321,3,2,4,8,6\n",
            "5649130321,10,2,5,6,6\n",
            "5649233921,9,9,7,6,5\n",
            "5649584121,10,4,3,9,8\n",
            "5649743021,9,10,7,5,7\n",
            "5649783221,4,9,2,7,4\n",
            "5649874621,1,8,4,10,6\n",
            "5649891721,7,5,9,10,6\n",
            "5650265721,5,7,7,6,5\n",
            "5650300321,6,8,6,8,8\n",
            "5650487221,2,10,6,9,7\n",
            "5650857621,5,2,9,5,4\n",
            "5650926921,3,9,8,6,3\n",
            "5650951321,6,8,2,7,6\n",
            "5651078521,3,9,9,5,7\n",
            "5651180021,0,8,3,9,3\n",
            "5651209521,8,1,4,9,8\n",
            "5651224721,10,6,6,10,6\n",
            "5651338821,8,10,5,7,8\n",
            "5651424821,3,7,7,9,4\n",
            "5651538621,4,3,7,8,3\n",
            "5651556521,0,9,6,9,6\n",
            "5651682321,6,4,3,9,7\n",
            "5651850521,7,10,2,9,3\n",
            "5652015421,0,7,7,9,7\n",
            "5652126021,7,9,9,6,7\n",
            "5652158121,1,6,8,5,8\n",
            "5652171621,4,2,3,6,7\n",
            "5652215921,7,5,8,5,4\n",
            "5652991321,0,8,8,5,4\n",
            "5653048321,9,9,9,7,4\n",
            "5653176421,5,10,7,8,4\n",
            "5653454621,5,10,9,7,3\n",
            "5653598621,0,10,5,8,4\n",
            "5653618121,5,8,4,5,3\n",
            "5653647021,0,2,6,10,8\n",
            "5653783921,1,3,7,5,6\n",
            "5653876221,2,1,7,10,3\n",
            "5653925221,5,1,4,5,6\n",
            "5654003021,0,7,5,5,7\n",
            "5654027421,4,0,3,5,4\n",
            "5654065121,5,6,6,8,5\n",
            "5654331721,8,8,7,10,8\n",
            "5654382521,10,8,8,10,3\n",
            "5654407021,9,1,9,7,7\n",
            "5654517221,3,8,6,8,7\n",
            "5654585521,6,10,2,7,4\n",
            "5654822121,1,7,9,9,3\n",
            "5654940121,7,9,6,9,6\n",
            "5655021321,7,0,8,6,4\n",
            "5655036221,3,3,5,5,7\n",
            "5655072221,7,0,3,8,7\n",
            "5655474121,8,0,5,5,7\n",
            "5655578321,3,10,3,10,6\n",
            "5655587421,3,8,3,5,3\n",
            "5655598721,0,10,6,7,4\n",
            "5655622721,5,0,6,6,4\n",
            "5655878521,8,7,7,8,3\n",
            "5655938621,2,7,3,7,5\n",
            "5655942521,6,4,4,6,7\n",
            "5655957421,7,7,3,10,7\n",
            "5655960921,1,9,5,9,3\n",
            "5655974121,2,1,9,10,7\n",
            "5656004821,2,9,7,9,3\n",
            "5656042521,4,0,4,7,8\n",
            "5656176821,10,1,9,10,5\n",
            "5656240121,9,2,4,6,7\n",
            "5656273321,0,4,6,8,7\n",
            "5656440621,6,3,4,7,5\n",
            "5656625621,5,4,9,5,8\n",
            "5656653421,7,0,9,5,3\n",
            "5656942221,7,10,7,10,4\n",
            "5657085921,2,8,4,9,7\n",
            "5657225921,9,5,7,10,6\n",
            "5657294921,3,1,9,8,3\n",
            "5657423521,0,8,2,6,6\n",
            "5657575021,3,1,6,10,7\n",
            "5657584821,0,2,7,7,5\n",
            "5657594521,6,2,6,5,7\n",
            "5657638721,9,0,8,10,4\n",
            "5657641821,0,0,6,6,7\n",
            "5657699021,3,3,9,9,6\n",
            "5657814521,5,6,3,10,7\n",
            "5658220821,10,9,5,10,4\n",
            "5658247321,8,10,3,10,3\n",
            "5658534121,2,7,7,6,8\n",
            "5658534221,0,1,2,8,5\n",
            "5658559321,5,5,4,10,4\n",
            "5658706521,8,1,2,8,5\n",
            "5658775821,8,1,2,8,7\n",
            "5658933521,4,5,7,10,4\n",
            "5659134621,7,3,5,8,4\n",
            "5659179221,3,5,9,7,8\n",
            "5659454821,5,1,4,5,4\n",
            "5659511321,5,6,5,10,3\n",
            "5659630021,9,2,7,7,8\n",
            "5659676021,1,10,3,6,6\n",
            "5659741021,7,9,3,5,7\n",
            "5659808721,10,3,9,10,3\n",
            "5659934121,4,0,6,9,3\n",
            "5659987021,9,2,3,5,8\n",
            "5659999821,0,0,2,5,5\n",
            "5660407621,5,2,2,8,3\n",
            "5660478921,2,7,7,8,7\n",
            "5660480621,9,5,5,10,6\n",
            "5660717821,6,3,5,10,3\n",
            "5660768521,7,0,2,7,5\n",
            "5660769621,4,8,4,5,6\n",
            "5660988821,1,0,8,6,5\n",
            "5661054721,5,0,3,6,5\n",
            "5661076421,6,8,9,10,4\n",
            "5661223121,5,6,2,7,5\n",
            "5661288421,8,2,6,5,3\n",
            "5661368821,8,7,2,8,5\n",
            "5661580121,6,0,5,5,5\n",
            "5661637321,6,7,6,9,4\n",
            "5661640321,5,9,6,5,3\n",
            "5661664321,4,0,6,9,8\n",
            "5661866221,8,8,7,5,3\n",
            "5661872321,3,9,3,5,4\n",
            "5662127421,0,10,3,9,3\n",
            "5662143421,5,5,3,7,8\n",
            "5662162021,6,2,3,10,4\n",
            "5662273121,4,9,2,9,8\n",
            "5662426721,3,9,7,5,3\n",
            "5662478721,2,4,5,5,6\n",
            "5662485521,9,8,6,7,8\n",
            "5662503921,3,9,8,7,4\n",
            "5662563421,1,3,3,8,5\n",
            "5662603921,0,2,9,7,6\n",
            "5662985921,4,3,2,7,6\n",
            "5663110821,9,5,3,10,6\n",
            "5663128721,10,8,6,7,4\n",
            "5663147921,4,8,6,5,6\n",
            "5663198721,8,4,3,5,4\n",
            "5663358421,3,7,4,8,6\n",
            "5663510921,8,7,8,10,8\n",
            "5663522521,2,0,8,6,8\n",
            "5663745521,8,6,9,5,5\n",
            "5663861021,3,8,7,10,8\n",
            "5663880821,7,8,7,10,5\n",
            "5663913221,1,8,7,10,8\n",
            "5663957821,8,10,2,9,7\n",
            "5664257821,4,7,5,6,7\n",
            "5664896521,9,0,5,10,4\n",
            "5664915121,8,10,2,5,6\n",
            "5664951421,3,4,3,8,3\n",
            "5665019821,6,1,8,8,7\n",
            "5665212021,3,1,2,10,5\n",
            "5665250021,0,4,7,6,4\n",
            "5665261221,8,9,6,6,6\n",
            "5665331921,7,8,2,8,5\n",
            "5665620921,9,4,8,9,7\n",
            "5665628221,8,7,2,9,3\n",
            "5665809521,4,10,7,10,7\n",
            "5665827821,1,9,7,6,3\n",
            "5665851421,7,1,4,6,6\n",
            "5665975821,2,4,5,10,8\n",
            "5666017421,8,2,3,9,8\n",
            "5666097921,1,4,4,7,5\n",
            "5666150021,2,7,2,8,6\n",
            "5666176921,1,7,5,10,7\n",
            "5666264021,3,3,4,5,6\n",
            "5666283521,10,10,9,5,3\n",
            "5666483621,10,5,6,7,4\n",
            "5666632721,9,5,9,6,4\n",
            "5666699021,10,0,8,6,5\n",
            "5666825021,3,10,3,8,6\n",
            "5666950121,9,9,7,9,4\n",
            "5667018621,1,1,9,6,7\n",
            "5667022121,1,1,3,7,5\n",
            "5667029621,5,8,6,6,7\n",
            "5667084221,3,1,9,6,6\n",
            "5667106821,6,1,9,7,5\n",
            "5667188321,10,10,6,5,6\n",
            "5667435221,2,10,9,10,6\n",
            "5667541821,10,3,6,8,4\n",
            "5667645621,5,5,3,10,8\n",
            "5667719321,5,4,4,6,8\n",
            "5667891921,8,2,4,9,3\n",
            "5667916921,5,5,9,7,8\n",
            "5668088321,9,10,8,6,7\n",
            "5668201721,4,2,6,6,8\n",
            "5668225221,5,0,3,9,4\n",
            "5668353121,4,5,6,6,4\n",
            "5668361421,4,9,8,8,4\n",
            "5668449821,5,10,9,8,6\n",
            "5668493221,1,5,2,6,3\n",
            "5668816621,1,6,9,6,4\n",
            "5668901921,4,5,2,5,7\n",
            "5668964721,3,6,8,5,8\n",
            "5669000321,9,7,7,5,5\n",
            "5669068521,1,9,6,7,3\n",
            "5669190321,1,1,2,10,5\n",
            "5669292721,5,7,8,6,8\n",
            "5669572721,6,7,6,9,8\n",
            "5669654121,5,9,4,6,5\n",
            "5669678721,6,8,3,5,8\n",
            "5669694721,9,1,7,5,4\n",
            "5669728721,1,9,7,7,8\n",
            "5669803621,8,9,3,8,8\n",
            "5669873221,0,1,7,8,8\n",
            "5669960021,0,7,2,10,7\n",
            "5670076921,9,1,7,5,3\n",
            "5670201121,8,6,6,8,6\n",
            "5670226721,2,10,4,10,4\n",
            "5670227221,9,3,6,7,6\n",
            "5670320721,4,2,5,10,4\n",
            "5670482521,3,3,4,9,4\n",
            "5670490721,7,3,3,10,6\n",
            "5670609221,6,4,3,10,3\n",
            "5670649821,10,10,8,6,3\n",
            "5670683221,9,10,4,9,5\n",
            "5670722721,9,7,6,6,7\n",
            "5670816521,8,2,2,8,7\n",
            "5670941021,3,2,5,6,6\n",
            "5671119921,8,2,2,7,6\n",
            "5671132621,1,3,6,7,5\n",
            "5671144621,9,9,8,8,3\n",
            "5671192521,2,5,7,8,7\n",
            "5671205421,7,2,3,8,5\n",
            "5671223821,5,0,6,9,4\n",
            "5671493321,6,5,2,8,3\n",
            "5671601021,9,2,3,6,5\n",
            "5671715421,3,10,9,5,5\n",
            "5671826621,0,10,2,8,8\n",
            "5671904921,10,10,7,6,5\n",
            "5671929521,10,4,9,6,7\n",
            "5672017121,8,2,9,6,8\n",
            "5672115521,7,6,9,6,3\n",
            "5672157021,2,2,2,5,8\n",
            "5672209021,1,6,7,9,8\n",
            "5672217521,3,0,7,7,6\n",
            "5672394021,0,4,2,9,6\n",
            "5672488021,8,10,6,10,7\n",
            "5672503221,4,2,5,10,4\n",
            "5672591621,5,3,4,5,3\n",
            "5672706621,4,9,9,8,7\n",
            "5672881021,0,0,2,7,4\n",
            "5672934621,7,1,8,8,3\n",
            "5673067021,6,10,2,9,4\n",
            "5673121521,6,10,5,10,3\n",
            "5673152521,8,6,7,6,3\n",
            "5673165821,2,8,9,5,5\n",
            "5673185421,10,10,7,5,8\n",
            "5673344521,1,1,9,6,6\n",
            "5673471521,8,4,6,9,3\n",
            "5673495221,10,5,9,10,6\n",
            "5673567821,7,3,7,10,3\n",
            "5673791921,10,8,5,7,4\n",
            "5673823921,0,9,9,8,3\n",
            "5673958621,2,2,6,9,4\n",
            "5674195521,5,1,9,7,6\n",
            "5674227821,2,0,2,5,4\n",
            "5674249721,7,8,2,9,7\n",
            "5674345821,6,3,5,10,8\n",
            "5674466721,3,0,8,9,5\n",
            "5674482121,10,3,8,9,5\n",
            "5674553021,7,8,8,5,3\n",
            "5674581021,7,10,6,7,8\n",
            "5674646121,0,2,8,6,5\n",
            "5674706521,3,8,6,5,4\n",
            "5674714521,9,6,8,6,6\n",
            "5674775321,6,7,6,5,8\n",
            "5675172021,3,5,6,8,8\n",
            "5675213421,7,7,3,6,3\n",
            "5675827921,9,9,5,8,3\n",
            "5675833921,9,5,3,7,6\n",
            "5676018621,7,9,5,8,5\n",
            "5676123121,0,10,8,6,4\n",
            "5676237921,10,10,9,9,7\n",
            "5676304621,2,5,6,5,5\n",
            "5676332421,1,2,8,10,5\n",
            "5676456521,10,1,5,7,6\n",
            "5676628221,7,4,2,9,8\n",
            "5676789921,3,6,9,9,8\n",
            "5676839421,10,10,6,9,4\n",
            "5676863921,5,10,4,8,7\n",
            "5676885021,2,3,8,9,6\n",
            "5676901821,1,3,4,7,8\n",
            "5676915321,4,1,6,10,8\n",
            "5677139521,1,1,9,5,7\n",
            "5677821021,8,7,2,9,4\n",
            "5677994221,6,0,8,10,6\n",
            "5678266521,1,3,8,6,7\n",
            "5678362021,7,10,3,9,7\n",
            "5678484721,1,9,8,8,8\n",
            "5678581321,5,1,9,9,8\n",
            "5678618821,5,1,2,6,7\n",
            "5678804721,2,9,5,8,6\n",
            "5679061021,5,9,3,10,4\n",
            "5679125621,0,7,3,9,4\n",
            "5679224821,1,2,8,10,7\n",
            "5679533621,4,3,4,10,3\n",
            "5679539621,8,0,3,5,3\n",
            "5679626521,2,0,9,8,4\n",
            "5679660221,0,0,8,9,7\n",
            "5679770421,3,9,5,9,7\n",
            "5679853821,6,10,8,7,5\n",
            "5679966521,2,7,2,9,3\n",
            "5679969421,2,1,5,5,6\n",
            "5680061321,0,9,3,8,8\n",
            "5680239221,9,1,6,5,7\n",
            "5680273221,2,6,2,9,7\n",
            "5680376221,4,0,5,7,5\n",
            "5680439221,7,6,2,8,4\n",
            "5680526421,10,7,7,5,7\n",
            "5680549221,3,6,7,6,8\n",
            "5680567421,9,8,6,9,6\n",
            "5680600521,10,1,2,5,8\n",
            "5680688621,1,8,6,5,6\n",
            "5681032521,0,10,3,7,6\n",
            "5681039721,2,10,4,6,3\n",
            "5681045721,1,10,4,5,4\n",
            "5681053721,7,8,3,9,6\n",
            "5681108721,1,7,3,5,4\n",
            "5681231321,7,6,7,6,3\n",
            "5681496421,7,10,2,10,8\n",
            "5681581321,6,1,7,8,4\n",
            "5681727821,3,6,5,7,5\n",
            "5681731721,5,10,9,5,4\n",
            "5681799521,10,7,5,5,4\n",
            "5681852721,6,0,9,10,7\n",
            "5682050821,5,1,3,9,3\n",
            "5682079821,3,0,9,10,3\n",
            "5682215721,0,5,9,6,4\n",
            "5682254421,0,2,4,7,6\n",
            "5682327621,2,10,5,5,7\n",
            "5682398021,6,1,9,9,5\n",
            "5682414521,5,10,4,7,7\n",
            "5682591721,2,9,9,5,5\n",
            "5682647821,0,4,5,5,5\n",
            "5683003821,10,8,8,8,3\n",
            "5683049221,6,2,6,10,7\n",
            "5683175921,8,3,6,8,8\n",
            "5683188121,10,2,4,6,3\n",
            "5683214721,9,2,2,10,3\n",
            "5683281721,9,1,5,9,6\n",
            "5683330421,9,5,9,9,7\n",
            "5683368821,10,1,5,6,5\n",
            "5683431221,0,9,9,6,6\n",
            "5683527521,4,5,8,5,3\n",
            "5683596621,8,2,6,5,5\n",
            "5683644321,8,4,8,8,4\n",
            "5683728921,8,4,7,8,4\n",
            "5683858821,3,10,6,10,8\n",
            "5683922721,10,5,3,7,8\n",
            "5683947321,9,9,8,7,8\n",
            "5683998521,9,8,6,9,7\n",
            "5684032221,5,0,7,6,8\n",
            "5684130221,2,2,8,10,7\n",
            "5684252521,5,10,2,9,7\n",
            "5684347621,9,0,8,7,7\n",
            "5684493321,9,7,9,7,6\n",
            "5684508021,2,2,7,7,6\n",
            "5684536521,9,9,6,9,6\n",
            "5684639321,10,9,9,7,4\n",
            "5684700821,3,2,7,7,6\n",
            "5684819721,9,4,6,7,5\n",
            "5684821621,0,2,6,7,4\n",
            "5684839821,5,7,9,9,3\n",
            "5684863021,8,6,5,9,5\n",
            "5684946021,4,2,6,7,8\n",
            "5685037521,1,7,4,7,7\n",
            "5685105121,0,6,2,8,8\n",
            "5685143921,6,9,5,5,8\n",
            "5685144221,0,3,2,10,4\n",
            "5685246421,4,9,9,6,5\n",
            "5685317621,9,5,6,5,4\n",
            "5685467421,9,0,2,9,6\n",
            "5685486221,4,8,2,5,8\n",
            "5685496021,6,3,9,5,3\n",
            "5685524621,3,3,4,6,7\n",
            "5685707721,4,10,6,5,6\n",
            "5685710521,2,7,6,6,7\n",
            "5685807321,2,6,3,7,7\n",
            "5685847821,0,6,7,7,5\n",
            "5686745821,3,5,3,10,6\n",
            "5686751221,4,10,2,5,4\n",
            "5686840721,4,7,3,5,4\n",
            "5686897421,6,1,7,8,4\n",
            "5687093321,5,4,6,6,8\n",
            "5687166321,2,10,2,10,8\n",
            "5687193421,2,0,2,7,7\n",
            "5687312021,3,0,5,10,6\n",
            "5687372021,10,4,2,7,3\n",
            "5687403621,1,3,7,5,7\n",
            "5687516121,7,1,4,9,4\n",
            "5687539621,2,0,9,9,3\n",
            "5687731021,10,2,6,10,6\n",
            "5687854321,7,10,3,7,8\n",
            "5687920521,7,9,5,8,6\n",
            "5688070621,6,6,2,9,8\n",
            "5688124321,3,3,5,7,8\n",
            "5688209821,10,9,9,5,4\n",
            "5688210321,2,1,6,6,7\n",
            "5688381821,9,7,7,8,7\n",
            "5688483221,2,3,4,9,4\n",
            "5688523621,5,7,4,6,6\n",
            "5688609021,5,3,8,8,3\n",
            "5688754621,5,5,4,6,3\n",
            "5688961821,5,4,4,5,4\n",
            "5689010821,6,9,3,10,8\n",
            "5689030421,10,2,2,8,3\n",
            "5689171221,8,8,6,6,7\n",
            "5689173321,8,2,3,7,8\n",
            "5689176721,3,0,8,9,7\n",
            "5689258521,0,10,8,7,3\n",
            "5689407021,5,10,8,6,6\n",
            "5689758721,6,10,3,5,7\n",
            "5689811521,8,7,3,10,3\n",
            "5690121421,0,10,2,7,7\n",
            "5690145321,5,4,5,5,8\n",
            "5690418521,8,9,9,9,6\n",
            "5690478321,6,10,9,10,3\n",
            "5690532921,1,2,7,7,8\n",
            "5690563021,5,2,8,6,3\n",
            "5690660921,1,1,4,6,7\n",
            "5690701021,5,6,6,5,7\n",
            "5690734021,3,3,9,10,7\n",
            "5690739721,9,9,6,8,3\n",
            "5691005221,0,3,7,10,6\n",
            "5691212921,8,7,5,5,4\n",
            "5691229921,4,9,5,9,7\n",
            "5691252921,3,9,3,5,4\n",
            "5691331521,0,2,4,7,7\n",
            "5691524221,7,3,4,9,8\n",
            "5691532121,1,7,8,5,6\n",
            "5691595321,0,4,7,8,6\n",
            "5691628721,4,2,4,6,4\n",
            "5691687021,2,3,4,9,7\n",
            "5691779621,0,5,7,10,4\n",
            "5691880121,9,3,8,6,3\n",
            "5692190921,6,6,2,9,5\n",
            "5692271521,2,4,5,9,5\n",
            "5692387621,0,7,8,7,4\n",
            "5692477021,4,0,8,10,5\n",
            "5692637321,4,7,7,10,6\n",
            "5692686421,7,5,5,6,6\n",
            "5692721121,1,1,3,9,8\n",
            "5692820921,7,10,8,9,8\n",
            "5692904721,3,9,2,7,5\n",
            "5693057321,6,4,7,9,4\n",
            "5693154221,7,7,7,6,4\n",
            "5693332621,4,8,2,5,3\n",
            "5693454221,3,8,8,7,4\n",
            "5693586421,5,5,8,5,6\n",
            "5693753021,10,3,6,8,5\n",
            "5693881921,7,5,9,9,8\n",
            "5693906721,4,0,7,5,4\n",
            "5694033521,8,8,8,9,8\n",
            "5694060121,9,1,5,5,7\n",
            "5694198221,2,9,6,7,6\n",
            "5694353621,5,4,4,6,3\n",
            "5694451421,2,10,4,7,3\n",
            "5694471721,1,6,9,5,8\n",
            "5694478821,4,3,6,9,7\n",
            "5694533721,7,9,9,9,5\n",
            "5694535921,7,0,8,10,5\n",
            "5694658421,0,2,7,6,7\n",
            "5694700521,2,4,4,7,6\n",
            "5694812721,6,6,4,5,6\n",
            "5694903621,1,4,4,9,5\n",
            "5694910221,6,5,3,9,5\n",
            "5695104621,9,10,8,5,4\n",
            "5695119921,1,1,9,5,6\n",
            "5695152321,1,4,7,8,5\n",
            "5695276421,0,9,9,9,6\n",
            "5695324321,10,3,9,6,8\n",
            "5695393821,7,6,9,8,8\n",
            "5695455221,5,8,8,7,3\n",
            "5695536321,10,6,5,8,8\n",
            "5695727221,6,2,4,10,7\n",
            "5695793821,7,0,6,10,8\n",
            "5696068221,6,9,2,6,6\n",
            "5696329521,8,4,8,5,8\n",
            "5696338021,9,3,8,6,7\n",
            "5696525821,10,5,2,6,6\n",
            "5696614321,5,10,9,10,8\n",
            "5696702721,2,3,8,6,4\n",
            "5696720221,4,8,9,7,5\n",
            "5696766621,0,10,5,8,8\n",
            "5696874121,9,7,3,10,6\n",
            "5696925221,10,0,3,8,8\n",
            "5697149521,6,1,6,5,4\n",
            "5697282221,2,0,4,5,3\n",
            "5697321621,1,9,2,7,7\n",
            "5697414221,10,7,5,9,7\n",
            "5697435421,4,4,8,8,3\n",
            "5697524421,0,8,3,8,3\n",
            "5697574621,0,9,2,9,4\n",
            "5697621821,2,4,4,8,4\n",
            "5697858821,6,8,2,9,4\n",
            "5697930921,1,0,9,6,8\n",
            "5698111721,6,9,2,8,3\n",
            "5698113921,7,1,8,5,5\n",
            "5698297521,2,10,5,10,8\n",
            "5698302721,6,8,3,10,8\n",
            "5698418321,1,5,4,8,3\n",
            "5698438021,9,1,4,7,5\n",
            "5698667121,7,6,7,5,5\n",
            "5698686821,2,9,6,9,8\n",
            "5698848621,1,2,3,6,4\n",
            "5698882621,2,2,8,7,5\n",
            "5698907421,10,10,6,10,7\n",
            "5698998321,8,1,5,6,6\n",
            "5699052821,0,1,7,7,4\n",
            "5699105821,8,4,4,5,8\n",
            "5699205021,6,7,7,6,4\n",
            "5699344021,4,2,8,10,3\n",
            "5699383821,0,6,6,7,7\n",
            "5699523821,8,9,7,10,5\n",
            "5699757021,7,2,5,8,7\n",
            "5699908721,1,8,7,8,7\n"
          ]
        }
      ],
      "source": [
        "file=open('score.csv')\n",
        "for line in file:\n",
        "  print(line,end='')\n",
        "file.close()"
      ]
    },
    {
      "cell_type": "code",
      "execution_count": null,
      "metadata": {
        "id": "kPmx2qJ_cWeV"
      },
      "outputs": [],
      "source": [
        "file=open('score.csv')\n",
        "lines=file.readlines()\n",
        "file.close()\n",
        "lines"
      ]
    },
    {
      "cell_type": "code",
      "execution_count": null,
      "metadata": {
        "id": "7LebATx4cysa"
      },
      "outputs": [],
      "source": [
        "lines=[line.strip() for line in lines]"
      ]
    },
    {
      "cell_type": "code",
      "execution_count": null,
      "metadata": {
        "colab": {
          "base_uri": "https://localhost:8080/"
        },
        "id": "yu1u0mvcdbS1",
        "outputId": "91eba1f2-6c81-4109-871f-8879431cfd4f"
      },
      "outputs": [
        {
          "data": {
            "text/plain": [
              "['student_id', 'Q1', 'Q2', 'Q3', 'Q4', 'Q5']"
            ]
          },
          "execution_count": 92,
          "metadata": {},
          "output_type": "execute_result"
        }
      ],
      "source": [
        "lines[0].split(',')"
      ]
    },
    {
      "cell_type": "code",
      "execution_count": null,
      "metadata": {
        "colab": {
          "base_uri": "https://localhost:8080/"
        },
        "id": "JjtvryqddNeQ",
        "outputId": "ccc56173-eef6-4303-b4f0-45f7f2f337cd"
      },
      "outputs": [
        {
          "data": {
            "text/plain": [
              "['this', 'is', 'a', 'cat']"
            ]
          },
          "execution_count": 87,
          "metadata": {},
          "output_type": "execute_result"
        }
      ],
      "source": [
        "s='this is a cat'\n",
        "s.split()"
      ]
    },
    {
      "cell_type": "code",
      "execution_count": null,
      "metadata": {
        "id": "oypcNzuddYJm"
      },
      "outputs": [],
      "source": [
        "IDs=[line.split(',')[0] for line in lines[1:]]"
      ]
    },
    {
      "cell_type": "markdown",
      "metadata": {
        "id": "_KUYqXi9Ofot"
      },
      "source": [
        "### `sum(list)` function\n",
        "\n",
        "The `sum(list)` function will return the summation of all elements in the list. The example is in the [VDO](https://www.youtube.com/watch?v=XEEJLHmpTg0&list=PLwnUv3sNB6_VKOYHXUN_QB3Xs3ZKMdf3g&index=10). "
      ]
    },
    {
      "cell_type": "code",
      "execution_count": null,
      "metadata": {
        "colab": {
          "base_uri": "https://localhost:8080/"
        },
        "id": "PB7aGTqtd2wl",
        "outputId": "ecf4cbda-6ffe-4ead-a97e-3f969d5ed4af"
      },
      "outputs": [
        {
          "data": {
            "text/plain": [
              "15000"
            ]
          },
          "execution_count": 100,
          "metadata": {},
          "output_type": "execute_result"
        }
      ],
      "source": [
        "sum(x[::2])"
      ]
    },
    {
      "cell_type": "code",
      "execution_count": null,
      "metadata": {
        "colab": {
          "base_uri": "https://localhost:8080/"
        },
        "id": "I0DXlrrCf_mM",
        "outputId": "5d127322-776a-44bd-ab20-78dba7999c89"
      },
      "outputs": [
        {
          "name": "stdout",
          "output_type": "stream",
          "text": [
            "1000\n",
            "a\n",
            "2000\n",
            "c\n",
            "3000\n",
            "2\n",
            "4000\n",
            "A\n",
            "5000\n"
          ]
        }
      ],
      "source": [
        "for c in x:\n",
        "  print(c)\n",
        "  "
      ]
    },
    {
      "cell_type": "code",
      "execution_count": null,
      "metadata": {
        "id": "-ZfVfReofbcc"
      },
      "outputs": [],
      "source": [
        "scores=[sum([int(e) for e in line.split(',')[1:]]) for line in lines[1:]]"
      ]
    },
    {
      "cell_type": "code",
      "execution_count": null,
      "metadata": {
        "colab": {
          "base_uri": "https://localhost:8080/"
        },
        "id": "NVFY0M76frKW",
        "outputId": "78b0e433-7d91-491f-82ec-7f0b370bb0ac"
      },
      "outputs": [
        {
          "data": {
            "text/plain": [
              "[['5600148421', 26],\n",
              " ['5600163621', 17],\n",
              " ['5600186321', 33],\n",
              " ['5600334721', 22],\n",
              " ['5600486621', 32],\n",
              " ['5600555421', 26],\n",
              " ['5600574721', 22],\n",
              " ['5600612321', 37],\n",
              " ['5600622121', 37],\n",
              " ['5600683121', 34],\n",
              " ['5600717621', 30],\n",
              " ['5600896121', 29],\n",
              " ['5601068921', 30],\n",
              " ['5601281121', 28],\n",
              " ['5601339021', 28],\n",
              " ['5601407321', 32],\n",
              " ['5601474121', 20],\n",
              " ['5601662921', 22],\n",
              " ['5601696221', 24],\n",
              " ['5601764221', 33],\n",
              " ['5601793121', 25],\n",
              " ['5601794821', 30],\n",
              " ['5601823321', 30],\n",
              " ['5601921921', 26],\n",
              " ['5602016921', 24],\n",
              " ['5602055821', 29],\n",
              " ['5602241621', 25],\n",
              " ['5602335421', 22],\n",
              " ['5602351421', 27],\n",
              " ['5602385021', 34],\n",
              " ['5602432421', 29],\n",
              " ['5602562621', 31],\n",
              " ['5602666721', 24],\n",
              " ['5602834721', 26],\n",
              " ['5602960421', 30],\n",
              " ['5602967621', 31],\n",
              " ['5603300021', 39],\n",
              " ['5603324921', 32],\n",
              " ['5603458621', 15],\n",
              " ['5603465821', 32],\n",
              " ['5603494721', 26],\n",
              " ['5603554521', 27],\n",
              " ['5603567021', 30],\n",
              " ['5603619521', 36],\n",
              " ['5603737721', 14],\n",
              " ['5603806521', 36],\n",
              " ['5603953621', 29],\n",
              " ['5604059521', 27],\n",
              " ['5604164621', 28],\n",
              " ['5604355821', 32],\n",
              " ['5604396121', 22],\n",
              " ['5604423221', 31],\n",
              " ['5604507321', 25],\n",
              " ['5604533821', 33],\n",
              " ['5604543721', 22],\n",
              " ['5604591221', 21],\n",
              " ['5604844421', 34],\n",
              " ['5604878221', 28],\n",
              " ['5604891721', 26],\n",
              " ['5605072021', 35],\n",
              " ['5605082021', 40],\n",
              " ['5605104321', 31],\n",
              " ['5605206221', 31],\n",
              " ['5605225521', 23],\n",
              " ['5605337521', 25],\n",
              " ['5605415921', 30],\n",
              " ['5605438821', 32],\n",
              " ['5605554421', 32],\n",
              " ['5605585921', 27],\n",
              " ['5605699821', 28],\n",
              " ['5605977721', 25],\n",
              " ['5606064221', 26],\n",
              " ['5606198521', 29],\n",
              " ['5606218921', 24],\n",
              " ['5606315321', 28],\n",
              " ['5606347221', 22],\n",
              " ['5606428521', 24],\n",
              " ['5606448721', 26],\n",
              " ['5606503721', 32],\n",
              " ['5606621921', 25],\n",
              " ['5606648721', 28],\n",
              " ['5606694321', 29],\n",
              " ['5606714021', 31],\n",
              " ['5606785321', 24],\n",
              " ['5607066621', 21],\n",
              " ['5607095421', 38],\n",
              " ['5607134621', 24],\n",
              " ['5607383721', 40],\n",
              " ['5607420421', 25],\n",
              " ['5607469521', 27],\n",
              " ['5607721221', 34],\n",
              " ['5607807621', 31],\n",
              " ['5607898521', 24],\n",
              " ['5607923221', 20],\n",
              " ['5607950521', 32],\n",
              " ['5608041221', 24],\n",
              " ['5608358021', 20],\n",
              " ['5608590921', 27],\n",
              " ['5608719221', 37],\n",
              " ['5608831521', 21],\n",
              " ['5608855721', 38],\n",
              " ['5609249221', 31],\n",
              " ['5609312521', 26],\n",
              " ['5609445121', 35],\n",
              " ['5609460721', 40],\n",
              " ['5609555221', 28],\n",
              " ['5609572821', 37],\n",
              " ['5609610521', 21],\n",
              " ['5609615421', 33],\n",
              " ['5609617021', 29],\n",
              " ['5609717321', 37],\n",
              " ['5609736621', 18],\n",
              " ['5610042521', 31],\n",
              " ['5610067321', 24],\n",
              " ['5610272621', 26],\n",
              " ['5610396421', 22],\n",
              " ['5610453621', 18],\n",
              " ['5610492021', 38],\n",
              " ['5610627821', 28],\n",
              " ['5610774321', 26],\n",
              " ['5610986121', 38],\n",
              " ['5611122021', 30],\n",
              " ['5611122221', 29],\n",
              " ['5611169321', 38],\n",
              " ['5611268921', 22],\n",
              " ['5611503821', 25],\n",
              " ['5611592121', 30],\n",
              " ['5611669921', 32],\n",
              " ['5611702821', 35],\n",
              " ['5611739321', 26],\n",
              " ['5611893921', 28],\n",
              " ['5611901621', 19],\n",
              " ['5611935821', 23],\n",
              " ['5612148321', 31],\n",
              " ['5612226421', 37],\n",
              " ['5612409921', 26],\n",
              " ['5612522521', 35],\n",
              " ['5612602321', 25],\n",
              " ['5612799921', 29],\n",
              " ['5612811821', 27],\n",
              " ['5612940021', 23],\n",
              " ['5612978021', 23],\n",
              " ['5613270121', 25],\n",
              " ['5613301921', 37],\n",
              " ['5613584121', 27],\n",
              " ['5613603621', 26],\n",
              " ['5613660121', 29],\n",
              " ['5613756521', 37],\n",
              " ['5613853021', 32],\n",
              " ['5613860221', 28],\n",
              " ['5613994721', 26],\n",
              " ['5614075421', 27],\n",
              " ['5614253321', 25],\n",
              " ['5614297221', 35],\n",
              " ['5614302221', 20],\n",
              " ['5614444721', 17],\n",
              " ['5614634521', 29],\n",
              " ['5614722321', 26],\n",
              " ['5615137621', 32],\n",
              " ['5615139521', 20],\n",
              " ['5615289521', 34],\n",
              " ['5615325821', 33],\n",
              " ['5615387721', 27],\n",
              " ['5615474221', 32],\n",
              " ['5615666421', 23],\n",
              " ['5615722221', 19],\n",
              " ['5616065321', 32],\n",
              " ['5616166921', 41],\n",
              " ['5616394921', 34],\n",
              " ['5616426421', 27],\n",
              " ['5616455221', 30],\n",
              " ['5616478621', 29],\n",
              " ['5616818921', 29],\n",
              " ['5616888521', 27],\n",
              " ['5617246221', 25],\n",
              " ['5617254021', 38],\n",
              " ['5617277621', 30],\n",
              " ['5617318521', 30],\n",
              " ['5617419221', 20],\n",
              " ['5617428321', 32],\n",
              " ['5617543621', 28],\n",
              " ['5617876421', 27],\n",
              " ['5617926021', 33],\n",
              " ['5617950821', 24],\n",
              " ['5618080621', 21],\n",
              " ['5618159121', 32],\n",
              " ['5618226721', 34],\n",
              " ['5618336221', 28],\n",
              " ['5618358921', 34],\n",
              " ['5618705521', 27],\n",
              " ['5618922721', 29],\n",
              " ['5618959821', 28],\n",
              " ['5618976321', 34],\n",
              " ['5619028121', 33],\n",
              " ['5619147421', 35],\n",
              " ['5619310221', 37],\n",
              " ['5619483921', 36],\n",
              " ['5619594621', 19],\n",
              " ['5619772721', 29],\n",
              " ['5619943821', 34],\n",
              " ['5620044521', 26],\n",
              " ['5620198621', 19],\n",
              " ['5620274321', 36],\n",
              " ['5620379121', 31],\n",
              " ['5620386521', 30],\n",
              " ['5620400921', 19],\n",
              " ['5620473221', 22],\n",
              " ['5620570021', 27],\n",
              " ['5620593021', 23],\n",
              " ['5620827921', 30],\n",
              " ['5620966921', 21],\n",
              " ['5620982021', 33],\n",
              " ['5621050721', 24],\n",
              " ['5621060521', 26],\n",
              " ['5621364421', 34],\n",
              " ['5621377921', 35],\n",
              " ['5621475021', 20],\n",
              " ['5621480121', 20],\n",
              " ['5621643621', 36],\n",
              " ['5621665621', 30],\n",
              " ['5621721021', 34],\n",
              " ['5621866221', 30],\n",
              " ['5621969121', 28],\n",
              " ['5622147721', 28],\n",
              " ['5622280021', 26],\n",
              " ['5622353121', 23],\n",
              " ['5622543321', 23],\n",
              " ['5622583721', 34],\n",
              " ['5622725821', 21],\n",
              " ['5622730321', 39],\n",
              " ['5622825521', 24],\n",
              " ['5622908821', 21],\n",
              " ['5622997221', 40],\n",
              " ['5623026621', 32],\n",
              " ['5623609921', 38],\n",
              " ['5623799621', 27],\n",
              " ['5623927621', 32],\n",
              " ['5623976521', 24],\n",
              " ['5624016821', 33],\n",
              " ['5624083321', 23],\n",
              " ['5624326321', 30],\n",
              " ['5624340021', 18],\n",
              " ['5624369421', 20],\n",
              " ['5624693321', 39],\n",
              " ['5624719321', 34],\n",
              " ['5624796521', 29],\n",
              " ['5624847521', 26],\n",
              " ['5624851721', 21],\n",
              " ['5624926721', 31],\n",
              " ['5624929521', 24],\n",
              " ['5624983421', 23],\n",
              " ['5625205621', 28],\n",
              " ['5625268121', 34],\n",
              " ['5625427021', 31],\n",
              " ['5625763821', 29],\n",
              " ['5625871721', 29],\n",
              " ['5625872921', 26],\n",
              " ['5625897821', 26],\n",
              " ['5625950621', 25],\n",
              " ['5626094021', 34],\n",
              " ['5626189021', 33],\n",
              " ['5626222721', 30],\n",
              " ['5626274521', 28],\n",
              " ['5626387121', 22],\n",
              " ['5626404421', 33],\n",
              " ['5626572621', 40],\n",
              " ['5626874621', 35],\n",
              " ['5626912321', 36],\n",
              " ['5626983621', 27],\n",
              " ['5627293321', 28],\n",
              " ['5627328921', 27],\n",
              " ['5627412621', 20],\n",
              " ['5627569921', 34],\n",
              " ['5627652021', 26],\n",
              " ['5627711021', 33],\n",
              " ['5627848821', 38],\n",
              " ['5628099321', 31],\n",
              " ['5628203321', 24],\n",
              " ['5628226821', 38],\n",
              " ['5628286121', 28],\n",
              " ['5628294521', 34],\n",
              " ['5628329421', 30],\n",
              " ['5628387221', 28],\n",
              " ['5628548721', 35],\n",
              " ['5628579121', 35],\n",
              " ['5628694021', 32],\n",
              " ['5628797221', 25],\n",
              " ['5629088321', 29],\n",
              " ['5629106321', 23],\n",
              " ['5629211621', 31],\n",
              " ['5629331521', 34],\n",
              " ['5629501821', 37],\n",
              " ['5629600821', 23],\n",
              " ['5629624421', 34],\n",
              " ['5629700321', 27],\n",
              " ['5629807921', 37],\n",
              " ['5630013121', 27],\n",
              " ['5630030421', 28],\n",
              " ['5630101321', 24],\n",
              " ['5630287421', 33],\n",
              " ['5630761821', 27],\n",
              " ['5630790421', 31],\n",
              " ['5631007421', 26],\n",
              " ['5631056421', 34],\n",
              " ['5631131521', 38],\n",
              " ['5631186921', 26],\n",
              " ['5631369621', 24],\n",
              " ['5631371621', 41],\n",
              " ['5631391721', 28],\n",
              " ['5631547821', 18],\n",
              " ['5631606321', 27],\n",
              " ['5631720321', 25],\n",
              " ['5631789721', 23],\n",
              " ['5631942421', 24],\n",
              " ['5632016621', 37],\n",
              " ['5632032121', 19],\n",
              " ['5632242721', 25],\n",
              " ['5632283821', 30],\n",
              " ['5632525021', 22],\n",
              " ['5632737021', 29],\n",
              " ['5632778321', 29],\n",
              " ['5633375121', 36],\n",
              " ['5633380221', 40],\n",
              " ['5633418021', 23],\n",
              " ['5633471921', 30],\n",
              " ['5633614221', 31],\n",
              " ['5633647021', 31],\n",
              " ['5634000621', 38],\n",
              " ['5634206921', 30],\n",
              " ['5634283621', 24],\n",
              " ['5634342621', 30],\n",
              " ['5634401121', 22],\n",
              " ['5634615621', 23],\n",
              " ['5634673221', 32],\n",
              " ['5634690521', 21],\n",
              " ['5634698221', 28],\n",
              " ['5634728721', 25],\n",
              " ['5634864921', 20],\n",
              " ['5634870421', 25],\n",
              " ['5635209721', 42],\n",
              " ['5635440621', 23],\n",
              " ['5635570621', 29],\n",
              " ['5635604421', 26],\n",
              " ['5635608221', 28],\n",
              " ['5635619621', 24],\n",
              " ['5635670621', 29],\n",
              " ['5635707821', 31],\n",
              " ['5635836421', 33],\n",
              " ['5635911621', 24],\n",
              " ['5635918721', 30],\n",
              " ['5635976421', 28],\n",
              " ['5636085521', 23],\n",
              " ['5636386721', 22],\n",
              " ['5636482221', 28],\n",
              " ['5636493121', 25],\n",
              " ['5636504921', 24],\n",
              " ['5636548121', 33],\n",
              " ['5636590021', 31],\n",
              " ['5636834521', 23],\n",
              " ['5636838421', 33],\n",
              " ['5636901721', 33],\n",
              " ['5636956821', 25],\n",
              " ['5636981221', 24],\n",
              " ['5636986021', 34],\n",
              " ['5637088421', 33],\n",
              " ['5637161121', 27],\n",
              " ['5637264221', 40],\n",
              " ['5637278621', 39],\n",
              " ['5637305221', 27],\n",
              " ['5637325121', 24],\n",
              " ['5637362121', 21],\n",
              " ['5637403221', 20],\n",
              " ['5637435021', 32],\n",
              " ['5637555721', 25],\n",
              " ['5637698521', 35],\n",
              " ['5637744321', 27],\n",
              " ['5637792421', 27],\n",
              " ['5637844821', 32],\n",
              " ['5637861121', 35],\n",
              " ['5637928621', 23],\n",
              " ['5637996021', 33],\n",
              " ['5638003421', 27],\n",
              " ['5638309221', 22],\n",
              " ['5638392821', 23],\n",
              " ['5638427321', 34],\n",
              " ['5638580421', 30],\n",
              " ['5638739421', 24],\n",
              " ['5638773421', 23],\n",
              " ['5639030621', 13],\n",
              " ['5639110921', 46],\n",
              " ['5639125721', 24],\n",
              " ['5639183321', 31],\n",
              " ['5639218121', 27],\n",
              " ['5639478921', 32],\n",
              " ['5639575921', 31],\n",
              " ['5639602121', 16],\n",
              " ['5639672821', 35],\n",
              " ['5639831821', 25],\n",
              " ['5639933021', 35],\n",
              " ['5640000421', 27],\n",
              " ['5640056621', 32],\n",
              " ['5640060421', 31],\n",
              " ['5640086721', 31],\n",
              " ['5640158521', 29],\n",
              " ['5640436421', 28],\n",
              " ['5640445721', 23],\n",
              " ['5640488521', 31],\n",
              " ['5640513321', 29],\n",
              " ['5640667621', 31],\n",
              " ['5640684621', 34],\n",
              " ['5640833721', 32],\n",
              " ['5641120521', 24],\n",
              " ['5641234321', 22],\n",
              " ['5641354221', 31],\n",
              " ['5641470021', 27],\n",
              " ['5641547621', 31],\n",
              " ['5641577621', 24],\n",
              " ['5641727621', 32],\n",
              " ['5641963121', 32],\n",
              " ['5641977821', 32],\n",
              " ['5642041721', 29],\n",
              " ['5642356821', 34],\n",
              " ['5642463221', 28],\n",
              " ['5642581621', 33],\n",
              " ['5642596521', 28],\n",
              " ['5642649521', 24],\n",
              " ['5642654421', 28],\n",
              " ['5642655521', 26],\n",
              " ['5642686021', 24],\n",
              " ['5642729121', 28],\n",
              " ['5643028721', 29],\n",
              " ['5643062421', 31],\n",
              " ['5643317121', 23],\n",
              " ['5643330521', 31],\n",
              " ['5643518621', 23],\n",
              " ['5643557621', 32],\n",
              " ['5643614721', 28],\n",
              " ['5643614921', 26],\n",
              " ['5643618821', 34],\n",
              " ['5643658421', 27],\n",
              " ['5644043221', 35],\n",
              " ['5644141021', 24],\n",
              " ['5644660621', 25],\n",
              " ['5644947121', 26],\n",
              " ['5645003521', 22],\n",
              " ['5645068921', 35],\n",
              " ['5645075821', 30],\n",
              " ['5645103921', 16],\n",
              " ['5645254421', 27],\n",
              " ['5645309321', 33],\n",
              " ['5645467121', 28],\n",
              " ['5645525421', 28],\n",
              " ['5645610121', 27],\n",
              " ['5645626621', 36],\n",
              " ['5645679321', 35],\n",
              " ['5645726121', 26],\n",
              " ['5645851721', 22],\n",
              " ['5645915521', 26],\n",
              " ['5645928421', 33],\n",
              " ['5646064021', 20],\n",
              " ['5646343721', 25],\n",
              " ['5646589521', 24],\n",
              " ['5646604621', 33],\n",
              " ['5646768621', 28],\n",
              " ['5647251521', 20],\n",
              " ['5647287721', 31],\n",
              " ['5647355121', 20],\n",
              " ['5647586421', 19],\n",
              " ['5647652921', 29],\n",
              " ['5647713221', 23],\n",
              " ['5647768521', 23],\n",
              " ['5648071421', 36],\n",
              " ['5648219021', 35],\n",
              " ['5648221121', 37],\n",
              " ['5648238621', 32],\n",
              " ['5648258721', 20],\n",
              " ['5648260221', 30],\n",
              " ['5648264721', 27],\n",
              " ['5648368021', 31],\n",
              " ['5648440321', 34],\n",
              " ['5648487521', 35],\n",
              " ['5648656321', 31],\n",
              " ['5648712021', 35],\n",
              " ['5648916321', 30],\n",
              " ['5648924821', 28],\n",
              " ['5649059621', 35],\n",
              " ['5649073321', 23],\n",
              " ['5649130321', 29],\n",
              " ['5649233921', 36],\n",
              " ['5649584121', 34],\n",
              " ['5649743021', 38],\n",
              " ['5649783221', 26],\n",
              " ['5649874621', 29],\n",
              " ['5649891721', 37],\n",
              " ['5650265721', 30],\n",
              " ['5650300321', 36],\n",
              " ['5650487221', 34],\n",
              " ['5650857621', 25],\n",
              " ['5650926921', 29],\n",
              " ['5650951321', 29],\n",
              " ['5651078521', 33],\n",
              " ['5651180021', 23],\n",
              " ['5651209521', 30],\n",
              " ['5651224721', 38],\n",
              " ['5651338821', 38],\n",
              " ['5651424821', 30],\n",
              " ['5651538621', 25],\n",
              " ['5651556521', 30],\n",
              " ['5651682321', 29],\n",
              " ['5651850521', 31],\n",
              " ['5652015421', 30],\n",
              " ['5652126021', 38],\n",
              " ['5652158121', 28],\n",
              " ['5652171621', 22],\n",
              " ['5652215921', 29],\n",
              " ['5652991321', 25],\n",
              " ['5653048321', 38],\n",
              " ['5653176421', 34],\n",
              " ['5653454621', 34],\n",
              " ['5653598621', 27],\n",
              " ['5653618121', 25],\n",
              " ['5653647021', 26],\n",
              " ['5653783921', 22],\n",
              " ['5653876221', 23],\n",
              " ['5653925221', 21],\n",
              " ['5654003021', 24],\n",
              " ['5654027421', 16],\n",
              " ['5654065121', 30],\n",
              " ['5654331721', 41],\n",
              " ['5654382521', 39],\n",
              " ['5654407021', 33],\n",
              " ['5654517221', 32],\n",
              " ['5654585521', 29],\n",
              " ['5654822121', 29],\n",
              " ['5654940121', 37],\n",
              " ['5655021321', 25],\n",
              " ['5655036221', 23],\n",
              " ['5655072221', 25],\n",
              " ['5655474121', 25],\n",
              " ['5655578321', 32],\n",
              " ['5655587421', 22],\n",
              " ['5655598721', 27],\n",
              " ['5655622721', 21],\n",
              " ['5655878521', 33],\n",
              " ['5655938621', 24],\n",
              " ['5655942521', 27],\n",
              " ['5655957421', 34],\n",
              " ['5655960921', 27],\n",
              " ['5655974121', 29],\n",
              " ['5656004821', 30],\n",
              " ['5656042521', 23],\n",
              " ['5656176821', 35],\n",
              " ['5656240121', 28],\n",
              " ['5656273321', 25],\n",
              " ['5656440621', 25],\n",
              " ['5656625621', 31],\n",
              " ['5656653421', 24],\n",
              " ['5656942221', 38],\n",
              " ['5657085921', 30],\n",
              " ['5657225921', 37],\n",
              " ['5657294921', 24],\n",
              " ['5657423521', 22],\n",
              " ['5657575021', 27],\n",
              " ['5657584821', 21],\n",
              " ['5657594521', 26],\n",
              " ['5657638721', 31],\n",
              " ['5657641821', 19],\n",
              " ['5657699021', 30],\n",
              " ['5657814521', 31],\n",
              " ['5658220821', 38],\n",
              " ['5658247321', 34],\n",
              " ['5658534121', 30],\n",
              " ['5658534221', 16],\n",
              " ['5658559321', 28],\n",
              " ['5658706521', 24],\n",
              " ['5658775821', 26],\n",
              " ['5658933521', 30],\n",
              " ['5659134621', 27],\n",
              " ['5659179221', 32],\n",
              " ['5659454821', 19],\n",
              " ['5659511321', 29],\n",
              " ['5659630021', 33],\n",
              " ['5659676021', 26],\n",
              " ['5659741021', 31],\n",
              " ['5659808721', 35],\n",
              " ['5659934121', 22],\n",
              " ['5659987021', 27],\n",
              " ['5659999821', 12],\n",
              " ['5660407621', 20],\n",
              " ['5660478921', 31],\n",
              " ['5660480621', 35],\n",
              " ['5660717821', 27],\n",
              " ['5660768521', 21],\n",
              " ['5660769621', 27],\n",
              " ['5660988821', 20],\n",
              " ['5661054721', 19],\n",
              " ['5661076421', 37],\n",
              " ['5661223121', 25],\n",
              " ['5661288421', 24],\n",
              " ['5661368821', 30],\n",
              " ['5661580121', 21],\n",
              " ['5661637321', 32],\n",
              " ['5661640321', 28],\n",
              " ['5661664321', 27],\n",
              " ['5661866221', 31],\n",
              " ['5661872321', 24],\n",
              " ['5662127421', 25],\n",
              " ['5662143421', 28],\n",
              " ['5662162021', 25],\n",
              " ['5662273121', 32],\n",
              " ['5662426721', 27],\n",
              " ['5662478721', 22],\n",
              " ['5662485521', 38],\n",
              " ['5662503921', 31],\n",
              " ['5662563421', 20],\n",
              " ['5662603921', 24],\n",
              " ['5662985921', 22],\n",
              " ['5663110821', 33],\n",
              " ['5663128721', 35],\n",
              " ['5663147921', 29],\n",
              " ['5663198721', 24],\n",
              " ['5663358421', 28],\n",
              " ['5663510921', 41],\n",
              " ['5663522521', 24],\n",
              " ['5663745521', 33],\n",
              " ['5663861021', 36],\n",
              " ['5663880821', 37],\n",
              " ['5663913221', 34],\n",
              " ['5663957821', 36],\n",
              " ['5664257821', 29],\n",
              " ['5664896521', 28],\n",
              " ['5664915121', 31],\n",
              " ['5664951421', 21],\n",
              " ['5665019821', 30],\n",
              " ['5665212021', 21],\n",
              " ['5665250021', 21],\n",
              " ['5665261221', 35],\n",
              " ['5665331921', 30],\n",
              " ['5665620921', 37],\n",
              " ['5665628221', 29],\n",
              " ['5665809521', 38],\n",
              " ['5665827821', 26],\n",
              " ['5665851421', 24],\n",
              " ['5665975821', 29],\n",
              " ['5666017421', 30],\n",
              " ['5666097921', 21],\n",
              " ['5666150021', 25],\n",
              " ['5666176921', 30],\n",
              " ['5666264021', 21],\n",
              " ['5666283521', 37],\n",
              " ['5666483621', 32],\n",
              " ['5666632721', 33],\n",
              " ['5666699021', 29],\n",
              " ['5666825021', 30],\n",
              " ['5666950121', 38],\n",
              " ['5667018621', 24],\n",
              " ['5667022121', 17],\n",
              " ['5667029621', 32],\n",
              " ['5667084221', 25],\n",
              " ['5667106821', 28],\n",
              " ['5667188321', 37],\n",
              " ['5667435221', 37],\n",
              " ['5667541821', 31],\n",
              " ['5667645621', 31],\n",
              " ['5667719321', 27],\n",
              " ['5667891921', 26],\n",
              " ['5667916921', 34],\n",
              " ['5668088321', 40],\n",
              " ['5668201721', 26],\n",
              " ['5668225221', 21],\n",
              " ['5668353121', 25],\n",
              " ['5668361421', 33],\n",
              " ['5668449821', 38],\n",
              " ['5668493221', 17],\n",
              " ['5668816621', 26],\n",
              " ['5668901921', 23],\n",
              " ['5668964721', 30],\n",
              " ['5669000321', 33],\n",
              " ['5669068521', 26],\n",
              " ['5669190321', 19],\n",
              " ['5669292721', 34],\n",
              " ['5669572721', 36],\n",
              " ['5669654121', 29],\n",
              " ['5669678721', 30],\n",
              " ['5669694721', 26],\n",
              " ['5669728721', 32],\n",
              " ['5669803621', 36],\n",
              " ['5669873221', 24],\n",
              " ['5669960021', 26],\n",
              " ['5670076921', 25],\n",
              " ['5670201121', 34],\n",
              " ['5670226721', 30],\n",
              " ['5670227221', 31],\n",
              " ['5670320721', 25],\n",
              " ['5670482521', 23],\n",
              " ['5670490721', 29],\n",
              " ['5670609221', 26],\n",
              " ['5670649821', 37],\n",
              " ['5670683221', 37],\n",
              " ['5670722721', 35],\n",
              " ['5670816521', 27],\n",
              " ['5670941021', 22],\n",
              " ['5671119921', 25],\n",
              " ['5671132621', 22],\n",
              " ['5671144621', 37],\n",
              " ['5671192521', 29],\n",
              " ['5671205421', 25],\n",
              " ['5671223821', 24],\n",
              " ['5671493321', 24],\n",
              " ['5671601021', 25],\n",
              " ['5671715421', 32],\n",
              " ['5671826621', 28],\n",
              " ['5671904921', 38],\n",
              " ['5671929521', 36],\n",
              " ['5672017121', 33],\n",
              " ['5672115521', 31],\n",
              " ['5672157021', 19],\n",
              " ['5672209021', 31],\n",
              " ['5672217521', 23],\n",
              " ['5672394021', 21],\n",
              " ['5672488021', 41],\n",
              " ['5672503221', 25],\n",
              " ['5672591621', 20],\n",
              " ['5672706621', 37],\n",
              " ['5672881021', 13],\n",
              " ['5672934621', 27],\n",
              " ['5673067021', 31],\n",
              " ['5673121521', 34],\n",
              " ['5673152521', 30],\n",
              " ['5673165821', 29],\n",
              " ['5673185421', 40],\n",
              " ['5673344521', 23],\n",
              " ['5673471521', 30],\n",
              " ['5673495221', 40],\n",
              " ['5673567821', 30],\n",
              " ['5673791921', 34],\n",
              " ['5673823921', 29],\n",
              " ['5673958621', 23],\n",
              " ['5674195521', 28],\n",
              " ['5674227821', 13],\n",
              " ['5674249721', 33],\n",
              " ['5674345821', 32],\n",
              " ['5674466721', 25],\n",
              " ['5674482121', 35],\n",
              " ['5674553021', 31],\n",
              " ['5674581021', 38],\n",
              " ['5674646121', 21],\n",
              " ['5674706521', 26],\n",
              " ['5674714521', 35],\n",
              " ['5674775321', 32],\n",
              " ['5675172021', 30],\n",
              " ['5675213421', 26],\n",
              " ['5675827921', 34],\n",
              " ['5675833921', 30],\n",
              " ['5676018621', 34],\n",
              " ['5676123121', 28],\n",
              " ['5676237921', 45],\n",
              " ['5676304621', 23],\n",
              " ['5676332421', 26],\n",
              " ['5676456521', 29],\n",
              " ['5676628221', 30],\n",
              " ['5676789921', 35],\n",
              " ['5676839421', 39],\n",
              " ['5676863921', 34],\n",
              " ['5676885021', 28],\n",
              " ['5676901821', 23],\n",
              " ['5676915321', 29],\n",
              " ['5677139521', 23],\n",
              " ['5677821021', 30],\n",
              " ['5677994221', 30],\n",
              " ['5678266521', 25],\n",
              " ['5678362021', 36],\n",
              " ['5678484721', 34],\n",
              " ['5678581321', 32],\n",
              " ['5678618821', 21],\n",
              " ['5678804721', 30],\n",
              " ['5679061021', 31],\n",
              " ['5679125621', 23],\n",
              " ['5679224821', 28],\n",
              " ['5679533621', 24],\n",
              " ['5679539621', 19],\n",
              " ['5679626521', 23],\n",
              " ['5679660221', 24],\n",
              " ['5679770421', 33],\n",
              " ['5679853821', 36],\n",
              " ['5679966521', 23],\n",
              " ['5679969421', 19],\n",
              " ['5680061321', 28],\n",
              " ['5680239221', 28],\n",
              " ['5680273221', 26],\n",
              " ['5680376221', 21],\n",
              " ['5680439221', 27],\n",
              " ['5680526421', 36],\n",
              " ['5680549221', 30],\n",
              " ['5680567421', 38],\n",
              " ['5680600521', 26],\n",
              " ['5680688621', 26],\n",
              " ['5681032521', 26],\n",
              " ['5681039721', 25],\n",
              " ['5681045721', 24],\n",
              " ['5681053721', 33],\n",
              " ['5681108721', 20],\n",
              " ['5681231321', 29],\n",
              " ['5681496421', 37],\n",
              " ['5681581321', 26],\n",
              " ['5681727821', 26],\n",
              " ['5681731721', 33],\n",
              " ['5681799521', 31],\n",
              " ['5681852721', 32],\n",
              " ['5682050821', 21],\n",
              " ['5682079821', 25],\n",
              " ['5682215721', 24],\n",
              " ['5682254421', 19],\n",
              " ['5682327621', 29],\n",
              " ['5682398021', 30],\n",
              " ['5682414521', 33],\n",
              " ['5682591721', 30],\n",
              " ['5682647821', 19],\n",
              " ['5683003821', 37],\n",
              " ['5683049221', 31],\n",
              " ['5683175921', 33],\n",
              " ['5683188121', 25],\n",
              " ['5683214721', 26],\n",
              " ['5683281721', 30],\n",
              " ['5683330421', 39],\n",
              " ['5683368821', 27],\n",
              " ['5683431221', 30],\n",
              " ['5683527521', 25],\n",
              " ['5683596621', 26],\n",
              " ['5683644321', 32],\n",
              " ['5683728921', 31],\n",
              " ['5683858821', 37],\n",
              " ['5683922721', 33],\n",
              " ['5683947321', 41],\n",
              " ['5683998521', 39],\n",
              " ['5684032221', 26],\n",
              " ['5684130221', 29],\n",
              " ['5684252521', 33],\n",
              " ['5684347621', 31],\n",
              " ['5684493321', 38],\n",
              " ['5684508021', 24],\n",
              " ['5684536521', 39],\n",
              " ['5684639321', 39],\n",
              " ['5684700821', 25],\n",
              " ['5684819721', 31],\n",
              " ['5684821621', 19],\n",
              " ['5684839821', 33],\n",
              " ['5684863021', 33],\n",
              " ['5684946021', 27],\n",
              " ['5685037521', 26],\n",
              " ['5685105121', 24],\n",
              " ['5685143921', 33],\n",
              " ['5685144221', 19],\n",
              " ['5685246421', 33],\n",
              " ['5685317621', 29],\n",
              " ['5685467421', 26],\n",
              " ['5685486221', 27],\n",
              " ['5685496021', 26],\n",
              " ['5685524621', 23],\n",
              " ['5685707721', 31],\n",
              " ['5685710521', 28],\n",
              " ['5685807321', 25],\n",
              " ['5685847821', 25],\n",
              " ['5686745821', 27],\n",
              " ['5686751221', 25],\n",
              " ['5686840721', 23],\n",
              " ['5686897421', 26],\n",
              " ['5687093321', 29],\n",
              " ['5687166321', 32],\n",
              " ['5687193421', 18],\n",
              " ['5687312021', 24],\n",
              " ['5687372021', 26],\n",
              " ['5687403621', 23],\n",
              " ['5687516121', 25],\n",
              " ['5687539621', 23],\n",
              " ['5687731021', 34],\n",
              " ['5687854321', 35],\n",
              " ['5687920521', 35],\n",
              " ['5688070621', 31],\n",
              " ['5688124321', 26],\n",
              " ['5688209821', 37],\n",
              " ['5688210321', 22],\n",
              " ['5688381821', 38],\n",
              " ['5688483221', 22],\n",
              " ['5688523621', 28],\n",
              " ['5688609021', 27],\n",
              " ['5688754621', 23],\n",
              " ['5688961821', 22],\n",
              " ['5689010821', 36],\n",
              " ['5689030421', 25],\n",
              " ['5689171221', 35],\n",
              " ['5689173321', 28],\n",
              " ['5689176721', 27],\n",
              " ['5689258521', 28],\n",
              " ['5689407021', 35],\n",
              " ['5689758721', 31],\n",
              " ['5689811521', 31],\n",
              " ['5690121421', 26],\n",
              " ['5690145321', 27],\n",
              " ['5690418521', 41],\n",
              " ['5690478321', 38],\n",
              " ['5690532921', 25],\n",
              " ['5690563021', 24],\n",
              " ['5690660921', 19],\n",
              " ['5690701021', 29],\n",
              " ['5690734021', 32],\n",
              " ['5690739721', 35],\n",
              " ['5691005221', 26],\n",
              " ['5691212921', 29],\n",
              " ['5691229921', 34],\n",
              " ['5691252921', 24],\n",
              " ['5691331521', 20],\n",
              " ['5691524221', 31],\n",
              " ['5691532121', 27],\n",
              " ['5691595321', 25],\n",
              " ['5691628721', 20],\n",
              " ['5691687021', 25],\n",
              " ['5691779621', 26],\n",
              " ['5691880121', 29],\n",
              " ['5692190921', 28],\n",
              " ['5692271521', 25],\n",
              " ['5692387621', 26],\n",
              " ['5692477021', 27],\n",
              " ['5692637321', 34],\n",
              " ['5692686421', 29],\n",
              " ['5692721121', 22],\n",
              " ['5692820921', 42],\n",
              " ['5692904721', 26],\n",
              " ['5693057321', 30],\n",
              " ['5693154221', 31],\n",
              " ['5693332621', 22],\n",
              " ['5693454221', 30],\n",
              " ['5693586421', 29],\n",
              " ['5693753021', 32],\n",
              " ['5693881921', 38],\n",
              " ['5693906721', 20],\n",
              " ['5694033521', 41],\n",
              " ['5694060121', 27],\n",
              " ['5694198221', 30],\n",
              " ['5694353621', 22],\n",
              " ['5694451421', 26],\n",
              " ['5694471721', 29],\n",
              " ['5694478821', 29],\n",
              " ['5694533721', 39],\n",
              " ['5694535921', 30],\n",
              " ['5694658421', 22],\n",
              " ['5694700521', 23],\n",
              " ['5694812721', 27],\n",
              " ['5694903621', 23],\n",
              " ['5694910221', 28],\n",
              " ['5695104621', 36],\n",
              " ['5695119921', 22],\n",
              " ['5695152321', 25],\n",
              " ['5695276421', 33],\n",
              " ['5695324321', 36],\n",
              " ['5695393821', 38],\n",
              " ['5695455221', 31],\n",
              " ['5695536321', 37],\n",
              " ['5695727221', 29],\n",
              " ['5695793821', 31],\n",
              " ['5696068221', 29],\n",
              " ['5696329521', 33],\n",
              " ['5696338021', 33],\n",
              " ['5696525821', 29],\n",
              " ['5696614321', 42],\n",
              " ['5696702721', 23],\n",
              " ['5696720221', 33],\n",
              " ['5696766621', 31],\n",
              " ['5696874121', 35],\n",
              " ['5696925221', 29],\n",
              " ['5697149521', 22],\n",
              " ['5697282221', 14],\n",
              " ['5697321621', 26],\n",
              " ['5697414221', 38],\n",
              " ['5697435421', 27],\n",
              " ['5697524421', 22],\n",
              " ['5697574621', 24],\n",
              " ['5697621821', 22],\n",
              " ['5697858821', 29],\n",
              " ['5697930921', 24],\n",
              " ['5698111721', 28],\n",
              " ['5698113921', 26],\n",
              " ['5698297521', 35],\n",
              " ['5698302721', 35],\n",
              " ['5698418321', 21],\n",
              " ['5698438021', 26],\n",
              " ['5698667121', 30],\n",
              " ['5698686821', 34],\n",
              " ['5698848621', 16],\n",
              " ['5698882621', 24],\n",
              " ['5698907421', 43],\n",
              " ['5698998321', 26],\n",
              " ['5699052821', 19],\n",
              " ['5699105821', 29],\n",
              " ['5699205021', 30],\n",
              " ['5699344021', 27],\n",
              " ['5699383821', 26],\n",
              " ['5699523821', 39],\n",
              " ['5699757021', 29],\n",
              " ['5699908721', 31]]"
            ]
          },
          "execution_count": 110,
          "metadata": {},
          "output_type": "execute_result"
        }
      ],
      "source": [
        "[[IDs[i],scores[i]] for i in range(len(IDs))]"
      ]
    },
    {
      "cell_type": "code",
      "execution_count": null,
      "metadata": {
        "colab": {
          "base_uri": "https://localhost:8080/"
        },
        "id": "Qj7aytGHhI6h",
        "outputId": "c0978062-886b-453a-d4ab-aaa244070412"
      },
      "outputs": [
        {
          "data": {
            "text/plain": [
              "[['5600148421', 26],\n",
              " ['5600163621', 17],\n",
              " ['5600186321', 33],\n",
              " ['5600334721', 22],\n",
              " ['5600486621', 32],\n",
              " ['5600555421', 26],\n",
              " ['5600574721', 22],\n",
              " ['5600612321', 37],\n",
              " ['5600622121', 37],\n",
              " ['5600683121', 34],\n",
              " ['5600717621', 30],\n",
              " ['5600896121', 29],\n",
              " ['5601068921', 30],\n",
              " ['5601281121', 28],\n",
              " ['5601339021', 28],\n",
              " ['5601407321', 32],\n",
              " ['5601474121', 20],\n",
              " ['5601662921', 22],\n",
              " ['5601696221', 24],\n",
              " ['5601764221', 33],\n",
              " ['5601793121', 25],\n",
              " ['5601794821', 30],\n",
              " ['5601823321', 30],\n",
              " ['5601921921', 26],\n",
              " ['5602016921', 24],\n",
              " ['5602055821', 29],\n",
              " ['5602241621', 25],\n",
              " ['5602335421', 22],\n",
              " ['5602351421', 27],\n",
              " ['5602385021', 34],\n",
              " ['5602432421', 29],\n",
              " ['5602562621', 31],\n",
              " ['5602666721', 24],\n",
              " ['5602834721', 26],\n",
              " ['5602960421', 30],\n",
              " ['5602967621', 31],\n",
              " ['5603300021', 39],\n",
              " ['5603324921', 32],\n",
              " ['5603458621', 15],\n",
              " ['5603465821', 32],\n",
              " ['5603494721', 26],\n",
              " ['5603554521', 27],\n",
              " ['5603567021', 30],\n",
              " ['5603619521', 36],\n",
              " ['5603737721', 14],\n",
              " ['5603806521', 36],\n",
              " ['5603953621', 29],\n",
              " ['5604059521', 27],\n",
              " ['5604164621', 28],\n",
              " ['5604355821', 32],\n",
              " ['5604396121', 22],\n",
              " ['5604423221', 31],\n",
              " ['5604507321', 25],\n",
              " ['5604533821', 33],\n",
              " ['5604543721', 22],\n",
              " ['5604591221', 21],\n",
              " ['5604844421', 34],\n",
              " ['5604878221', 28],\n",
              " ['5604891721', 26],\n",
              " ['5605072021', 35],\n",
              " ['5605082021', 40],\n",
              " ['5605104321', 31],\n",
              " ['5605206221', 31],\n",
              " ['5605225521', 23],\n",
              " ['5605337521', 25],\n",
              " ['5605415921', 30],\n",
              " ['5605438821', 32],\n",
              " ['5605554421', 32],\n",
              " ['5605585921', 27],\n",
              " ['5605699821', 28],\n",
              " ['5605977721', 25],\n",
              " ['5606064221', 26],\n",
              " ['5606198521', 29],\n",
              " ['5606218921', 24],\n",
              " ['5606315321', 28],\n",
              " ['5606347221', 22],\n",
              " ['5606428521', 24],\n",
              " ['5606448721', 26],\n",
              " ['5606503721', 32],\n",
              " ['5606621921', 25],\n",
              " ['5606648721', 28],\n",
              " ['5606694321', 29],\n",
              " ['5606714021', 31],\n",
              " ['5606785321', 24],\n",
              " ['5607066621', 21],\n",
              " ['5607095421', 38],\n",
              " ['5607134621', 24],\n",
              " ['5607383721', 40],\n",
              " ['5607420421', 25],\n",
              " ['5607469521', 27],\n",
              " ['5607721221', 34],\n",
              " ['5607807621', 31],\n",
              " ['5607898521', 24],\n",
              " ['5607923221', 20],\n",
              " ['5607950521', 32],\n",
              " ['5608041221', 24],\n",
              " ['5608358021', 20],\n",
              " ['5608590921', 27],\n",
              " ['5608719221', 37],\n",
              " ['5608831521', 21],\n",
              " ['5608855721', 38],\n",
              " ['5609249221', 31],\n",
              " ['5609312521', 26],\n",
              " ['5609445121', 35],\n",
              " ['5609460721', 40],\n",
              " ['5609555221', 28],\n",
              " ['5609572821', 37],\n",
              " ['5609610521', 21],\n",
              " ['5609615421', 33],\n",
              " ['5609617021', 29],\n",
              " ['5609717321', 37],\n",
              " ['5609736621', 18],\n",
              " ['5610042521', 31],\n",
              " ['5610067321', 24],\n",
              " ['5610272621', 26],\n",
              " ['5610396421', 22],\n",
              " ['5610453621', 18],\n",
              " ['5610492021', 38],\n",
              " ['5610627821', 28],\n",
              " ['5610774321', 26],\n",
              " ['5610986121', 38],\n",
              " ['5611122021', 30],\n",
              " ['5611122221', 29],\n",
              " ['5611169321', 38],\n",
              " ['5611268921', 22],\n",
              " ['5611503821', 25],\n",
              " ['5611592121', 30],\n",
              " ['5611669921', 32],\n",
              " ['5611702821', 35],\n",
              " ['5611739321', 26],\n",
              " ['5611893921', 28],\n",
              " ['5611901621', 19],\n",
              " ['5611935821', 23],\n",
              " ['5612148321', 31],\n",
              " ['5612226421', 37],\n",
              " ['5612409921', 26],\n",
              " ['5612522521', 35],\n",
              " ['5612602321', 25],\n",
              " ['5612799921', 29],\n",
              " ['5612811821', 27],\n",
              " ['5612940021', 23],\n",
              " ['5612978021', 23],\n",
              " ['5613270121', 25],\n",
              " ['5613301921', 37],\n",
              " ['5613584121', 27],\n",
              " ['5613603621', 26],\n",
              " ['5613660121', 29],\n",
              " ['5613756521', 37],\n",
              " ['5613853021', 32],\n",
              " ['5613860221', 28],\n",
              " ['5613994721', 26],\n",
              " ['5614075421', 27],\n",
              " ['5614253321', 25],\n",
              " ['5614297221', 35],\n",
              " ['5614302221', 20],\n",
              " ['5614444721', 17],\n",
              " ['5614634521', 29],\n",
              " ['5614722321', 26],\n",
              " ['5615137621', 32],\n",
              " ['5615139521', 20],\n",
              " ['5615289521', 34],\n",
              " ['5615325821', 33],\n",
              " ['5615387721', 27],\n",
              " ['5615474221', 32],\n",
              " ['5615666421', 23],\n",
              " ['5615722221', 19],\n",
              " ['5616065321', 32],\n",
              " ['5616166921', 41],\n",
              " ['5616394921', 34],\n",
              " ['5616426421', 27],\n",
              " ['5616455221', 30],\n",
              " ['5616478621', 29],\n",
              " ['5616818921', 29],\n",
              " ['5616888521', 27],\n",
              " ['5617246221', 25],\n",
              " ['5617254021', 38],\n",
              " ['5617277621', 30],\n",
              " ['5617318521', 30],\n",
              " ['5617419221', 20],\n",
              " ['5617428321', 32],\n",
              " ['5617543621', 28],\n",
              " ['5617876421', 27],\n",
              " ['5617926021', 33],\n",
              " ['5617950821', 24],\n",
              " ['5618080621', 21],\n",
              " ['5618159121', 32],\n",
              " ['5618226721', 34],\n",
              " ['5618336221', 28],\n",
              " ['5618358921', 34],\n",
              " ['5618705521', 27],\n",
              " ['5618922721', 29],\n",
              " ['5618959821', 28],\n",
              " ['5618976321', 34],\n",
              " ['5619028121', 33],\n",
              " ['5619147421', 35],\n",
              " ['5619310221', 37],\n",
              " ['5619483921', 36],\n",
              " ['5619594621', 19],\n",
              " ['5619772721', 29],\n",
              " ['5619943821', 34],\n",
              " ['5620044521', 26],\n",
              " ['5620198621', 19],\n",
              " ['5620274321', 36],\n",
              " ['5620379121', 31],\n",
              " ['5620386521', 30],\n",
              " ['5620400921', 19],\n",
              " ['5620473221', 22],\n",
              " ['5620570021', 27],\n",
              " ['5620593021', 23],\n",
              " ['5620827921', 30],\n",
              " ['5620966921', 21],\n",
              " ['5620982021', 33],\n",
              " ['5621050721', 24],\n",
              " ['5621060521', 26],\n",
              " ['5621364421', 34],\n",
              " ['5621377921', 35],\n",
              " ['5621475021', 20],\n",
              " ['5621480121', 20],\n",
              " ['5621643621', 36],\n",
              " ['5621665621', 30],\n",
              " ['5621721021', 34],\n",
              " ['5621866221', 30],\n",
              " ['5621969121', 28],\n",
              " ['5622147721', 28],\n",
              " ['5622280021', 26],\n",
              " ['5622353121', 23],\n",
              " ['5622543321', 23],\n",
              " ['5622583721', 34],\n",
              " ['5622725821', 21],\n",
              " ['5622730321', 39],\n",
              " ['5622825521', 24],\n",
              " ['5622908821', 21],\n",
              " ['5622997221', 40],\n",
              " ['5623026621', 32],\n",
              " ['5623609921', 38],\n",
              " ['5623799621', 27],\n",
              " ['5623927621', 32],\n",
              " ['5623976521', 24],\n",
              " ['5624016821', 33],\n",
              " ['5624083321', 23],\n",
              " ['5624326321', 30],\n",
              " ['5624340021', 18],\n",
              " ['5624369421', 20],\n",
              " ['5624693321', 39],\n",
              " ['5624719321', 34],\n",
              " ['5624796521', 29],\n",
              " ['5624847521', 26],\n",
              " ['5624851721', 21],\n",
              " ['5624926721', 31],\n",
              " ['5624929521', 24],\n",
              " ['5624983421', 23],\n",
              " ['5625205621', 28],\n",
              " ['5625268121', 34],\n",
              " ['5625427021', 31],\n",
              " ['5625763821', 29],\n",
              " ['5625871721', 29],\n",
              " ['5625872921', 26],\n",
              " ['5625897821', 26],\n",
              " ['5625950621', 25],\n",
              " ['5626094021', 34],\n",
              " ['5626189021', 33],\n",
              " ['5626222721', 30],\n",
              " ['5626274521', 28],\n",
              " ['5626387121', 22],\n",
              " ['5626404421', 33],\n",
              " ['5626572621', 40],\n",
              " ['5626874621', 35],\n",
              " ['5626912321', 36],\n",
              " ['5626983621', 27],\n",
              " ['5627293321', 28],\n",
              " ['5627328921', 27],\n",
              " ['5627412621', 20],\n",
              " ['5627569921', 34],\n",
              " ['5627652021', 26],\n",
              " ['5627711021', 33],\n",
              " ['5627848821', 38],\n",
              " ['5628099321', 31],\n",
              " ['5628203321', 24],\n",
              " ['5628226821', 38],\n",
              " ['5628286121', 28],\n",
              " ['5628294521', 34],\n",
              " ['5628329421', 30],\n",
              " ['5628387221', 28],\n",
              " ['5628548721', 35],\n",
              " ['5628579121', 35],\n",
              " ['5628694021', 32],\n",
              " ['5628797221', 25],\n",
              " ['5629088321', 29],\n",
              " ['5629106321', 23],\n",
              " ['5629211621', 31],\n",
              " ['5629331521', 34],\n",
              " ['5629501821', 37],\n",
              " ['5629600821', 23],\n",
              " ['5629624421', 34],\n",
              " ['5629700321', 27],\n",
              " ['5629807921', 37],\n",
              " ['5630013121', 27],\n",
              " ['5630030421', 28],\n",
              " ['5630101321', 24],\n",
              " ['5630287421', 33],\n",
              " ['5630761821', 27],\n",
              " ['5630790421', 31],\n",
              " ['5631007421', 26],\n",
              " ['5631056421', 34],\n",
              " ['5631131521', 38],\n",
              " ['5631186921', 26],\n",
              " ['5631369621', 24],\n",
              " ['5631371621', 41],\n",
              " ['5631391721', 28],\n",
              " ['5631547821', 18],\n",
              " ['5631606321', 27],\n",
              " ['5631720321', 25],\n",
              " ['5631789721', 23],\n",
              " ['5631942421', 24],\n",
              " ['5632016621', 37],\n",
              " ['5632032121', 19],\n",
              " ['5632242721', 25],\n",
              " ['5632283821', 30],\n",
              " ['5632525021', 22],\n",
              " ['5632737021', 29],\n",
              " ['5632778321', 29],\n",
              " ['5633375121', 36],\n",
              " ['5633380221', 40],\n",
              " ['5633418021', 23],\n",
              " ['5633471921', 30],\n",
              " ['5633614221', 31],\n",
              " ['5633647021', 31],\n",
              " ['5634000621', 38],\n",
              " ['5634206921', 30],\n",
              " ['5634283621', 24],\n",
              " ['5634342621', 30],\n",
              " ['5634401121', 22],\n",
              " ['5634615621', 23],\n",
              " ['5634673221', 32],\n",
              " ['5634690521', 21],\n",
              " ['5634698221', 28],\n",
              " ['5634728721', 25],\n",
              " ['5634864921', 20],\n",
              " ['5634870421', 25],\n",
              " ['5635209721', 42],\n",
              " ['5635440621', 23],\n",
              " ['5635570621', 29],\n",
              " ['5635604421', 26],\n",
              " ['5635608221', 28],\n",
              " ['5635619621', 24],\n",
              " ['5635670621', 29],\n",
              " ['5635707821', 31],\n",
              " ['5635836421', 33],\n",
              " ['5635911621', 24],\n",
              " ['5635918721', 30],\n",
              " ['5635976421', 28],\n",
              " ['5636085521', 23],\n",
              " ['5636386721', 22],\n",
              " ['5636482221', 28],\n",
              " ['5636493121', 25],\n",
              " ['5636504921', 24],\n",
              " ['5636548121', 33],\n",
              " ['5636590021', 31],\n",
              " ['5636834521', 23],\n",
              " ['5636838421', 33],\n",
              " ['5636901721', 33],\n",
              " ['5636956821', 25],\n",
              " ['5636981221', 24],\n",
              " ['5636986021', 34],\n",
              " ['5637088421', 33],\n",
              " ['5637161121', 27],\n",
              " ['5637264221', 40],\n",
              " ['5637278621', 39],\n",
              " ['5637305221', 27],\n",
              " ['5637325121', 24],\n",
              " ['5637362121', 21],\n",
              " ['5637403221', 20],\n",
              " ['5637435021', 32],\n",
              " ['5637555721', 25],\n",
              " ['5637698521', 35],\n",
              " ['5637744321', 27],\n",
              " ['5637792421', 27],\n",
              " ['5637844821', 32],\n",
              " ['5637861121', 35],\n",
              " ['5637928621', 23],\n",
              " ['5637996021', 33],\n",
              " ['5638003421', 27],\n",
              " ['5638309221', 22],\n",
              " ['5638392821', 23],\n",
              " ['5638427321', 34],\n",
              " ['5638580421', 30],\n",
              " ['5638739421', 24],\n",
              " ['5638773421', 23],\n",
              " ['5639030621', 13],\n",
              " ['5639110921', 46],\n",
              " ['5639125721', 24],\n",
              " ['5639183321', 31],\n",
              " ['5639218121', 27],\n",
              " ['5639478921', 32],\n",
              " ['5639575921', 31],\n",
              " ['5639602121', 16],\n",
              " ['5639672821', 35],\n",
              " ['5639831821', 25],\n",
              " ['5639933021', 35],\n",
              " ['5640000421', 27],\n",
              " ['5640056621', 32],\n",
              " ['5640060421', 31],\n",
              " ['5640086721', 31],\n",
              " ['5640158521', 29],\n",
              " ['5640436421', 28],\n",
              " ['5640445721', 23],\n",
              " ['5640488521', 31],\n",
              " ['5640513321', 29],\n",
              " ['5640667621', 31],\n",
              " ['5640684621', 34],\n",
              " ['5640833721', 32],\n",
              " ['5641120521', 24],\n",
              " ['5641234321', 22],\n",
              " ['5641354221', 31],\n",
              " ['5641470021', 27],\n",
              " ['5641547621', 31],\n",
              " ['5641577621', 24],\n",
              " ['5641727621', 32],\n",
              " ['5641963121', 32],\n",
              " ['5641977821', 32],\n",
              " ['5642041721', 29],\n",
              " ['5642356821', 34],\n",
              " ['5642463221', 28],\n",
              " ['5642581621', 33],\n",
              " ['5642596521', 28],\n",
              " ['5642649521', 24],\n",
              " ['5642654421', 28],\n",
              " ['5642655521', 26],\n",
              " ['5642686021', 24],\n",
              " ['5642729121', 28],\n",
              " ['5643028721', 29],\n",
              " ['5643062421', 31],\n",
              " ['5643317121', 23],\n",
              " ['5643330521', 31],\n",
              " ['5643518621', 23],\n",
              " ['5643557621', 32],\n",
              " ['5643614721', 28],\n",
              " ['5643614921', 26],\n",
              " ['5643618821', 34],\n",
              " ['5643658421', 27],\n",
              " ['5644043221', 35],\n",
              " ['5644141021', 24],\n",
              " ['5644660621', 25],\n",
              " ['5644947121', 26],\n",
              " ['5645003521', 22],\n",
              " ['5645068921', 35],\n",
              " ['5645075821', 30],\n",
              " ['5645103921', 16],\n",
              " ['5645254421', 27],\n",
              " ['5645309321', 33],\n",
              " ['5645467121', 28],\n",
              " ['5645525421', 28],\n",
              " ['5645610121', 27],\n",
              " ['5645626621', 36],\n",
              " ['5645679321', 35],\n",
              " ['5645726121', 26],\n",
              " ['5645851721', 22],\n",
              " ['5645915521', 26],\n",
              " ['5645928421', 33],\n",
              " ['5646064021', 20],\n",
              " ['5646343721', 25],\n",
              " ['5646589521', 24],\n",
              " ['5646604621', 33],\n",
              " ['5646768621', 28],\n",
              " ['5647251521', 20],\n",
              " ['5647287721', 31],\n",
              " ['5647355121', 20],\n",
              " ['5647586421', 19],\n",
              " ['5647652921', 29],\n",
              " ['5647713221', 23],\n",
              " ['5647768521', 23],\n",
              " ['5648071421', 36],\n",
              " ['5648219021', 35],\n",
              " ['5648221121', 37],\n",
              " ['5648238621', 32],\n",
              " ['5648258721', 20],\n",
              " ['5648260221', 30],\n",
              " ['5648264721', 27],\n",
              " ['5648368021', 31],\n",
              " ['5648440321', 34],\n",
              " ['5648487521', 35],\n",
              " ['5648656321', 31],\n",
              " ['5648712021', 35],\n",
              " ['5648916321', 30],\n",
              " ['5648924821', 28],\n",
              " ['5649059621', 35],\n",
              " ['5649073321', 23],\n",
              " ['5649130321', 29],\n",
              " ['5649233921', 36],\n",
              " ['5649584121', 34],\n",
              " ['5649743021', 38],\n",
              " ['5649783221', 26],\n",
              " ['5649874621', 29],\n",
              " ['5649891721', 37],\n",
              " ['5650265721', 30],\n",
              " ['5650300321', 36],\n",
              " ['5650487221', 34],\n",
              " ['5650857621', 25],\n",
              " ['5650926921', 29],\n",
              " ['5650951321', 29],\n",
              " ['5651078521', 33],\n",
              " ['5651180021', 23],\n",
              " ['5651209521', 30],\n",
              " ['5651224721', 38],\n",
              " ['5651338821', 38],\n",
              " ['5651424821', 30],\n",
              " ['5651538621', 25],\n",
              " ['5651556521', 30],\n",
              " ['5651682321', 29],\n",
              " ['5651850521', 31],\n",
              " ['5652015421', 30],\n",
              " ['5652126021', 38],\n",
              " ['5652158121', 28],\n",
              " ['5652171621', 22],\n",
              " ['5652215921', 29],\n",
              " ['5652991321', 25],\n",
              " ['5653048321', 38],\n",
              " ['5653176421', 34],\n",
              " ['5653454621', 34],\n",
              " ['5653598621', 27],\n",
              " ['5653618121', 25],\n",
              " ['5653647021', 26],\n",
              " ['5653783921', 22],\n",
              " ['5653876221', 23],\n",
              " ['5653925221', 21],\n",
              " ['5654003021', 24],\n",
              " ['5654027421', 16],\n",
              " ['5654065121', 30],\n",
              " ['5654331721', 41],\n",
              " ['5654382521', 39],\n",
              " ['5654407021', 33],\n",
              " ['5654517221', 32],\n",
              " ['5654585521', 29],\n",
              " ['5654822121', 29],\n",
              " ['5654940121', 37],\n",
              " ['5655021321', 25],\n",
              " ['5655036221', 23],\n",
              " ['5655072221', 25],\n",
              " ['5655474121', 25],\n",
              " ['5655578321', 32],\n",
              " ['5655587421', 22],\n",
              " ['5655598721', 27],\n",
              " ['5655622721', 21],\n",
              " ['5655878521', 33],\n",
              " ['5655938621', 24],\n",
              " ['5655942521', 27],\n",
              " ['5655957421', 34],\n",
              " ['5655960921', 27],\n",
              " ['5655974121', 29],\n",
              " ['5656004821', 30],\n",
              " ['5656042521', 23],\n",
              " ['5656176821', 35],\n",
              " ['5656240121', 28],\n",
              " ['5656273321', 25],\n",
              " ['5656440621', 25],\n",
              " ['5656625621', 31],\n",
              " ['5656653421', 24],\n",
              " ['5656942221', 38],\n",
              " ['5657085921', 30],\n",
              " ['5657225921', 37],\n",
              " ['5657294921', 24],\n",
              " ['5657423521', 22],\n",
              " ['5657575021', 27],\n",
              " ['5657584821', 21],\n",
              " ['5657594521', 26],\n",
              " ['5657638721', 31],\n",
              " ['5657641821', 19],\n",
              " ['5657699021', 30],\n",
              " ['5657814521', 31],\n",
              " ['5658220821', 38],\n",
              " ['5658247321', 34],\n",
              " ['5658534121', 30],\n",
              " ['5658534221', 16],\n",
              " ['5658559321', 28],\n",
              " ['5658706521', 24],\n",
              " ['5658775821', 26],\n",
              " ['5658933521', 30],\n",
              " ['5659134621', 27],\n",
              " ['5659179221', 32],\n",
              " ['5659454821', 19],\n",
              " ['5659511321', 29],\n",
              " ['5659630021', 33],\n",
              " ['5659676021', 26],\n",
              " ['5659741021', 31],\n",
              " ['5659808721', 35],\n",
              " ['5659934121', 22],\n",
              " ['5659987021', 27],\n",
              " ['5659999821', 12],\n",
              " ['5660407621', 20],\n",
              " ['5660478921', 31],\n",
              " ['5660480621', 35],\n",
              " ['5660717821', 27],\n",
              " ['5660768521', 21],\n",
              " ['5660769621', 27],\n",
              " ['5660988821', 20],\n",
              " ['5661054721', 19],\n",
              " ['5661076421', 37],\n",
              " ['5661223121', 25],\n",
              " ['5661288421', 24],\n",
              " ['5661368821', 30],\n",
              " ['5661580121', 21],\n",
              " ['5661637321', 32],\n",
              " ['5661640321', 28],\n",
              " ['5661664321', 27],\n",
              " ['5661866221', 31],\n",
              " ['5661872321', 24],\n",
              " ['5662127421', 25],\n",
              " ['5662143421', 28],\n",
              " ['5662162021', 25],\n",
              " ['5662273121', 32],\n",
              " ['5662426721', 27],\n",
              " ['5662478721', 22],\n",
              " ['5662485521', 38],\n",
              " ['5662503921', 31],\n",
              " ['5662563421', 20],\n",
              " ['5662603921', 24],\n",
              " ['5662985921', 22],\n",
              " ['5663110821', 33],\n",
              " ['5663128721', 35],\n",
              " ['5663147921', 29],\n",
              " ['5663198721', 24],\n",
              " ['5663358421', 28],\n",
              " ['5663510921', 41],\n",
              " ['5663522521', 24],\n",
              " ['5663745521', 33],\n",
              " ['5663861021', 36],\n",
              " ['5663880821', 37],\n",
              " ['5663913221', 34],\n",
              " ['5663957821', 36],\n",
              " ['5664257821', 29],\n",
              " ['5664896521', 28],\n",
              " ['5664915121', 31],\n",
              " ['5664951421', 21],\n",
              " ['5665019821', 30],\n",
              " ['5665212021', 21],\n",
              " ['5665250021', 21],\n",
              " ['5665261221', 35],\n",
              " ['5665331921', 30],\n",
              " ['5665620921', 37],\n",
              " ['5665628221', 29],\n",
              " ['5665809521', 38],\n",
              " ['5665827821', 26],\n",
              " ['5665851421', 24],\n",
              " ['5665975821', 29],\n",
              " ['5666017421', 30],\n",
              " ['5666097921', 21],\n",
              " ['5666150021', 25],\n",
              " ['5666176921', 30],\n",
              " ['5666264021', 21],\n",
              " ['5666283521', 37],\n",
              " ['5666483621', 32],\n",
              " ['5666632721', 33],\n",
              " ['5666699021', 29],\n",
              " ['5666825021', 30],\n",
              " ['5666950121', 38],\n",
              " ['5667018621', 24],\n",
              " ['5667022121', 17],\n",
              " ['5667029621', 32],\n",
              " ['5667084221', 25],\n",
              " ['5667106821', 28],\n",
              " ['5667188321', 37],\n",
              " ['5667435221', 37],\n",
              " ['5667541821', 31],\n",
              " ['5667645621', 31],\n",
              " ['5667719321', 27],\n",
              " ['5667891921', 26],\n",
              " ['5667916921', 34],\n",
              " ['5668088321', 40],\n",
              " ['5668201721', 26],\n",
              " ['5668225221', 21],\n",
              " ['5668353121', 25],\n",
              " ['5668361421', 33],\n",
              " ['5668449821', 38],\n",
              " ['5668493221', 17],\n",
              " ['5668816621', 26],\n",
              " ['5668901921', 23],\n",
              " ['5668964721', 30],\n",
              " ['5669000321', 33],\n",
              " ['5669068521', 26],\n",
              " ['5669190321', 19],\n",
              " ['5669292721', 34],\n",
              " ['5669572721', 36],\n",
              " ['5669654121', 29],\n",
              " ['5669678721', 30],\n",
              " ['5669694721', 26],\n",
              " ['5669728721', 32],\n",
              " ['5669803621', 36],\n",
              " ['5669873221', 24],\n",
              " ['5669960021', 26],\n",
              " ['5670076921', 25],\n",
              " ['5670201121', 34],\n",
              " ['5670226721', 30],\n",
              " ['5670227221', 31],\n",
              " ['5670320721', 25],\n",
              " ['5670482521', 23],\n",
              " ['5670490721', 29],\n",
              " ['5670609221', 26],\n",
              " ['5670649821', 37],\n",
              " ['5670683221', 37],\n",
              " ['5670722721', 35],\n",
              " ['5670816521', 27],\n",
              " ['5670941021', 22],\n",
              " ['5671119921', 25],\n",
              " ['5671132621', 22],\n",
              " ['5671144621', 37],\n",
              " ['5671192521', 29],\n",
              " ['5671205421', 25],\n",
              " ['5671223821', 24],\n",
              " ['5671493321', 24],\n",
              " ['5671601021', 25],\n",
              " ['5671715421', 32],\n",
              " ['5671826621', 28],\n",
              " ['5671904921', 38],\n",
              " ['5671929521', 36],\n",
              " ['5672017121', 33],\n",
              " ['5672115521', 31],\n",
              " ['5672157021', 19],\n",
              " ['5672209021', 31],\n",
              " ['5672217521', 23],\n",
              " ['5672394021', 21],\n",
              " ['5672488021', 41],\n",
              " ['5672503221', 25],\n",
              " ['5672591621', 20],\n",
              " ['5672706621', 37],\n",
              " ['5672881021', 13],\n",
              " ['5672934621', 27],\n",
              " ['5673067021', 31],\n",
              " ['5673121521', 34],\n",
              " ['5673152521', 30],\n",
              " ['5673165821', 29],\n",
              " ['5673185421', 40],\n",
              " ['5673344521', 23],\n",
              " ['5673471521', 30],\n",
              " ['5673495221', 40],\n",
              " ['5673567821', 30],\n",
              " ['5673791921', 34],\n",
              " ['5673823921', 29],\n",
              " ['5673958621', 23],\n",
              " ['5674195521', 28],\n",
              " ['5674227821', 13],\n",
              " ['5674249721', 33],\n",
              " ['5674345821', 32],\n",
              " ['5674466721', 25],\n",
              " ['5674482121', 35],\n",
              " ['5674553021', 31],\n",
              " ['5674581021', 38],\n",
              " ['5674646121', 21],\n",
              " ['5674706521', 26],\n",
              " ['5674714521', 35],\n",
              " ['5674775321', 32],\n",
              " ['5675172021', 30],\n",
              " ['5675213421', 26],\n",
              " ['5675827921', 34],\n",
              " ['5675833921', 30],\n",
              " ['5676018621', 34],\n",
              " ['5676123121', 28],\n",
              " ['5676237921', 45],\n",
              " ['5676304621', 23],\n",
              " ['5676332421', 26],\n",
              " ['5676456521', 29],\n",
              " ['5676628221', 30],\n",
              " ['5676789921', 35],\n",
              " ['5676839421', 39],\n",
              " ['5676863921', 34],\n",
              " ['5676885021', 28],\n",
              " ['5676901821', 23],\n",
              " ['5676915321', 29],\n",
              " ['5677139521', 23],\n",
              " ['5677821021', 30],\n",
              " ['5677994221', 30],\n",
              " ['5678266521', 25],\n",
              " ['5678362021', 36],\n",
              " ['5678484721', 34],\n",
              " ['5678581321', 32],\n",
              " ['5678618821', 21],\n",
              " ['5678804721', 30],\n",
              " ['5679061021', 31],\n",
              " ['5679125621', 23],\n",
              " ['5679224821', 28],\n",
              " ['5679533621', 24],\n",
              " ['5679539621', 19],\n",
              " ['5679626521', 23],\n",
              " ['5679660221', 24],\n",
              " ['5679770421', 33],\n",
              " ['5679853821', 36],\n",
              " ['5679966521', 23],\n",
              " ['5679969421', 19],\n",
              " ['5680061321', 28],\n",
              " ['5680239221', 28],\n",
              " ['5680273221', 26],\n",
              " ['5680376221', 21],\n",
              " ['5680439221', 27],\n",
              " ['5680526421', 36],\n",
              " ['5680549221', 30],\n",
              " ['5680567421', 38],\n",
              " ['5680600521', 26],\n",
              " ['5680688621', 26],\n",
              " ['5681032521', 26],\n",
              " ['5681039721', 25],\n",
              " ['5681045721', 24],\n",
              " ['5681053721', 33],\n",
              " ['5681108721', 20],\n",
              " ['5681231321', 29],\n",
              " ['5681496421', 37],\n",
              " ['5681581321', 26],\n",
              " ['5681727821', 26],\n",
              " ['5681731721', 33],\n",
              " ['5681799521', 31],\n",
              " ['5681852721', 32],\n",
              " ['5682050821', 21],\n",
              " ['5682079821', 25],\n",
              " ['5682215721', 24],\n",
              " ['5682254421', 19],\n",
              " ['5682327621', 29],\n",
              " ['5682398021', 30],\n",
              " ['5682414521', 33],\n",
              " ['5682591721', 30],\n",
              " ['5682647821', 19],\n",
              " ['5683003821', 37],\n",
              " ['5683049221', 31],\n",
              " ['5683175921', 33],\n",
              " ['5683188121', 25],\n",
              " ['5683214721', 26],\n",
              " ['5683281721', 30],\n",
              " ['5683330421', 39],\n",
              " ['5683368821', 27],\n",
              " ['5683431221', 30],\n",
              " ['5683527521', 25],\n",
              " ['5683596621', 26],\n",
              " ['5683644321', 32],\n",
              " ['5683728921', 31],\n",
              " ['5683858821', 37],\n",
              " ['5683922721', 33],\n",
              " ['5683947321', 41],\n",
              " ['5683998521', 39],\n",
              " ['5684032221', 26],\n",
              " ['5684130221', 29],\n",
              " ['5684252521', 33],\n",
              " ['5684347621', 31],\n",
              " ['5684493321', 38],\n",
              " ['5684508021', 24],\n",
              " ['5684536521', 39],\n",
              " ['5684639321', 39],\n",
              " ['5684700821', 25],\n",
              " ['5684819721', 31],\n",
              " ['5684821621', 19],\n",
              " ['5684839821', 33],\n",
              " ['5684863021', 33],\n",
              " ['5684946021', 27],\n",
              " ['5685037521', 26],\n",
              " ['5685105121', 24],\n",
              " ['5685143921', 33],\n",
              " ['5685144221', 19],\n",
              " ['5685246421', 33],\n",
              " ['5685317621', 29],\n",
              " ['5685467421', 26],\n",
              " ['5685486221', 27],\n",
              " ['5685496021', 26],\n",
              " ['5685524621', 23],\n",
              " ['5685707721', 31],\n",
              " ['5685710521', 28],\n",
              " ['5685807321', 25],\n",
              " ['5685847821', 25],\n",
              " ['5686745821', 27],\n",
              " ['5686751221', 25],\n",
              " ['5686840721', 23],\n",
              " ['5686897421', 26],\n",
              " ['5687093321', 29],\n",
              " ['5687166321', 32],\n",
              " ['5687193421', 18],\n",
              " ['5687312021', 24],\n",
              " ['5687372021', 26],\n",
              " ['5687403621', 23],\n",
              " ['5687516121', 25],\n",
              " ['5687539621', 23],\n",
              " ['5687731021', 34],\n",
              " ['5687854321', 35],\n",
              " ['5687920521', 35],\n",
              " ['5688070621', 31],\n",
              " ['5688124321', 26],\n",
              " ['5688209821', 37],\n",
              " ['5688210321', 22],\n",
              " ['5688381821', 38],\n",
              " ['5688483221', 22],\n",
              " ['5688523621', 28],\n",
              " ['5688609021', 27],\n",
              " ['5688754621', 23],\n",
              " ['5688961821', 22],\n",
              " ['5689010821', 36],\n",
              " ['5689030421', 25],\n",
              " ['5689171221', 35],\n",
              " ['5689173321', 28],\n",
              " ['5689176721', 27],\n",
              " ['5689258521', 28],\n",
              " ['5689407021', 35],\n",
              " ['5689758721', 31],\n",
              " ['5689811521', 31],\n",
              " ['5690121421', 26],\n",
              " ['5690145321', 27],\n",
              " ['5690418521', 41],\n",
              " ['5690478321', 38],\n",
              " ['5690532921', 25],\n",
              " ['5690563021', 24],\n",
              " ['5690660921', 19],\n",
              " ['5690701021', 29],\n",
              " ['5690734021', 32],\n",
              " ['5690739721', 35],\n",
              " ['5691005221', 26],\n",
              " ['5691212921', 29],\n",
              " ['5691229921', 34],\n",
              " ['5691252921', 24],\n",
              " ['5691331521', 20],\n",
              " ['5691524221', 31],\n",
              " ['5691532121', 27],\n",
              " ['5691595321', 25],\n",
              " ['5691628721', 20],\n",
              " ['5691687021', 25],\n",
              " ['5691779621', 26],\n",
              " ['5691880121', 29],\n",
              " ['5692190921', 28],\n",
              " ['5692271521', 25],\n",
              " ['5692387621', 26],\n",
              " ['5692477021', 27],\n",
              " ['5692637321', 34],\n",
              " ['5692686421', 29],\n",
              " ['5692721121', 22],\n",
              " ['5692820921', 42],\n",
              " ['5692904721', 26],\n",
              " ['5693057321', 30],\n",
              " ['5693154221', 31],\n",
              " ['5693332621', 22],\n",
              " ['5693454221', 30],\n",
              " ['5693586421', 29],\n",
              " ['5693753021', 32],\n",
              " ['5693881921', 38],\n",
              " ['5693906721', 20],\n",
              " ['5694033521', 41],\n",
              " ['5694060121', 27],\n",
              " ['5694198221', 30],\n",
              " ['5694353621', 22],\n",
              " ['5694451421', 26],\n",
              " ['5694471721', 29],\n",
              " ['5694478821', 29],\n",
              " ['5694533721', 39],\n",
              " ['5694535921', 30],\n",
              " ['5694658421', 22],\n",
              " ['5694700521', 23],\n",
              " ['5694812721', 27],\n",
              " ['5694903621', 23],\n",
              " ['5694910221', 28],\n",
              " ['5695104621', 36],\n",
              " ['5695119921', 22],\n",
              " ['5695152321', 25],\n",
              " ['5695276421', 33],\n",
              " ['5695324321', 36],\n",
              " ['5695393821', 38],\n",
              " ['5695455221', 31],\n",
              " ['5695536321', 37],\n",
              " ['5695727221', 29],\n",
              " ['5695793821', 31],\n",
              " ['5696068221', 29],\n",
              " ['5696329521', 33],\n",
              " ['5696338021', 33],\n",
              " ['5696525821', 29],\n",
              " ['5696614321', 42],\n",
              " ['5696702721', 23],\n",
              " ['5696720221', 33],\n",
              " ['5696766621', 31],\n",
              " ['5696874121', 35],\n",
              " ['5696925221', 29],\n",
              " ['5697149521', 22],\n",
              " ['5697282221', 14],\n",
              " ['5697321621', 26],\n",
              " ['5697414221', 38],\n",
              " ['5697435421', 27],\n",
              " ['5697524421', 22],\n",
              " ['5697574621', 24],\n",
              " ['5697621821', 22],\n",
              " ['5697858821', 29],\n",
              " ['5697930921', 24],\n",
              " ['5698111721', 28],\n",
              " ['5698113921', 26],\n",
              " ['5698297521', 35],\n",
              " ['5698302721', 35],\n",
              " ['5698418321', 21],\n",
              " ['5698438021', 26],\n",
              " ['5698667121', 30],\n",
              " ['5698686821', 34],\n",
              " ['5698848621', 16],\n",
              " ['5698882621', 24],\n",
              " ['5698907421', 43],\n",
              " ['5698998321', 26],\n",
              " ['5699052821', 19],\n",
              " ['5699105821', 29],\n",
              " ['5699205021', 30],\n",
              " ['5699344021', 27],\n",
              " ['5699383821', 26],\n",
              " ['5699523821', 39],\n",
              " ['5699757021', 29],\n",
              " ['5699908721', 31]]"
            ]
          },
          "execution_count": 111,
          "metadata": {},
          "output_type": "execute_result"
        }
      ],
      "source": [
        "[[line.split(',')[0],sum([int(e) for e in line.split(',')[1:]])] for line in lines[1:]]"
      ]
    },
    {
      "cell_type": "markdown",
      "metadata": {
        "id": "fp9WLq_HO4lm"
      },
      "source": [
        "#### `sort()` function \n",
        "\n",
        "We can use `list.sort()` or `sorted(list)` to sort all elements in the `list`. The `.sort()` will sort and change the original list but the `sorted()` function will return a new list and does not change order of elements in the list. \n",
        "\n",
        "You can use `reverse=True` parameter to sort descendingly. If you omit this parameter, python will sort the input list ascendingly. \n",
        "\n",
        "The detail is in this [VDO](https://www.youtube.com/watch?v=DIgpQXnSH_E&list=PLwnUv3sNB6_VKOYHXUN_QB3Xs3ZKMdf3g&index=11)."
      ]
    },
    {
      "cell_type": "code",
      "execution_count": null,
      "metadata": {
        "colab": {
          "base_uri": "https://localhost:8080/"
        },
        "id": "fK--UrpMmeyS",
        "outputId": "1170adee-48c1-4181-a352-1569a8d6ccad"
      },
      "outputs": [
        {
          "data": {
            "text/plain": [
              "[91, 89, 88, 85, 85, 82, 81, 80, 69, 67, 66, 65, 47, 37, 29, 23, 23, 20, 16, 6]"
            ]
          },
          "execution_count": 123,
          "metadata": {},
          "output_type": "execute_result"
        }
      ],
      "source": [
        "data=[int(random.random()*100) for i in range(20)]\n",
        "sorted(data,reverse=True)"
      ]
    },
    {
      "cell_type": "code",
      "execution_count": null,
      "metadata": {
        "id": "XVAfRlQkoJWq"
      },
      "outputs": [],
      "source": [
        "data.sort()"
      ]
    },
    {
      "cell_type": "code",
      "execution_count": null,
      "metadata": {
        "colab": {
          "base_uri": "https://localhost:8080/"
        },
        "id": "_4uFvOb_oP6K",
        "outputId": "6fa25b90-a166-44a2-880e-43bc1fae8004"
      },
      "outputs": [
        {
          "data": {
            "text/plain": [
              "[3, 8, 11, 23, 25, 26, 32, 32, 43, 44, 50, 55, 57, 63, 71, 81, 82, 86, 86, 96]"
            ]
          },
          "execution_count": 122,
          "metadata": {},
          "output_type": "execute_result"
        }
      ],
      "source": [
        "data"
      ]
    },
    {
      "cell_type": "code",
      "execution_count": null,
      "metadata": {
        "colab": {
          "base_uri": "https://localhost:8080/"
        },
        "id": "5utmIp-MoVNg",
        "outputId": "01246705-b51d-4326-da88-d80cabb59549"
      },
      "outputs": [
        {
          "data": {
            "text/plain": [
              "[[5, 7], [2, 4], [1, 3], [1, 2]]"
            ]
          },
          "execution_count": 125,
          "metadata": {},
          "output_type": "execute_result"
        }
      ],
      "source": [
        "data=[[1,2],[1,3],[2,4],[5,7]]\n",
        "sorted(data,reverse=True)"
      ]
    },
    {
      "cell_type": "code",
      "execution_count": null,
      "metadata": {
        "id": "drk0ZFjqotXk"
      },
      "outputs": [],
      "source": [
        "sorted([sum([int(e) for e in line.split(',')[1:]]) for line in lines[1:]],reverse=True)"
      ]
    },
    {
      "cell_type": "code",
      "execution_count": null,
      "metadata": {
        "id": "yprgXvpBpHXe"
      },
      "outputs": [],
      "source": [
        "sum_scores=[[line.split(',')[0],sum([int(e) for e in line.split(',')[1:]])] for line in lines[1:]]"
      ]
    },
    {
      "cell_type": "code",
      "execution_count": null,
      "metadata": {
        "id": "GLPjRWf5poup"
      },
      "outputs": [],
      "source": [
        "sorted([[element[1],element[0]] for element in sum_scores],reverse=True)"
      ]
    },
    {
      "cell_type": "code",
      "execution_count": null,
      "metadata": {
        "colab": {
          "base_uri": "https://localhost:8080/"
        },
        "id": "VLjPzejGpdYA",
        "outputId": "f1baf0f4-b7ef-4e82-91f2-8be4627181db"
      },
      "outputs": [
        {
          "data": {
            "text/plain": [
              "[['5600148421', 26],\n",
              " ['5600163621', 17],\n",
              " ['5600186321', 33],\n",
              " ['5600334721', 22],\n",
              " ['5600486621', 32],\n",
              " ['5600555421', 26],\n",
              " ['5600574721', 22],\n",
              " ['5600612321', 37],\n",
              " ['5600622121', 37],\n",
              " ['5600683121', 34]]"
            ]
          },
          "execution_count": 130,
          "metadata": {},
          "output_type": "execute_result"
        }
      ],
      "source": [
        "sum_scores[:10]"
      ]
    },
    {
      "cell_type": "markdown",
      "metadata": {
        "id": "RRWlLR88P2Ry"
      },
      "source": [
        "#### Create a new file. \n",
        "\n",
        "The VDO explaining this section is [here](https://www.youtube.com/watch?v=DIgpQXnSH_E&list=PLwnUv3sNB6_VKOYHXUN_QB3Xs3ZKMdf3g&index=12)."
      ]
    },
    {
      "cell_type": "markdown",
      "metadata": {
        "id": "7x2dvGuRQknA"
      },
      "source": [
        "Read all scores from the file and add summation of all quizzes from each student. "
      ]
    },
    {
      "cell_type": "code",
      "execution_count": null,
      "metadata": {
        "id": "8GjA5kempgVK"
      },
      "outputs": [],
      "source": [
        "file=open('score.csv')\n",
        "lines=file.readlines()\n",
        "file.close()"
      ]
    },
    {
      "cell_type": "code",
      "execution_count": null,
      "metadata": {
        "id": "CcJQfPGcqkn8"
      },
      "outputs": [],
      "source": [
        "lines=[line.strip() for line in lines]"
      ]
    },
    {
      "cell_type": "code",
      "execution_count": null,
      "metadata": {
        "id": "A_gdqkrtqsB9"
      },
      "outputs": [],
      "source": [
        "file=open('output.csv','w')\n",
        "for line in lines[1:]:\n",
        "  quiz_score=line.split(',')[1:]\n",
        "  sum_of_score=sum([int(score) for score in quiz_score])\n",
        "  print(line+','+str(sum_of_score))\n",
        "  file.write(line+','+str(sum_of_score)+'\\n')\n",
        "file.close()"
      ]
    },
    {
      "cell_type": "code",
      "execution_count": null,
      "metadata": {
        "id": "MzHSTm-pq95p"
      },
      "outputs": [],
      "source": [
        "! more output.csv"
      ]
    },
    {
      "cell_type": "markdown",
      "metadata": {
        "id": "LuhWiCyQQ8aF"
      },
      "source": [
        "#### Sort score by summation of all quizzes. \n",
        "\n",
        "This time, we will sort all scores by the summation and save the results in an output file. The detail is in this [VDO](https://www.youtube.com/watch?v=55MgOiPu6Yc&list=PLwnUv3sNB6_VKOYHXUN_QB3Xs3ZKMdf3g&index=13)"
      ]
    },
    {
      "cell_type": "code",
      "execution_count": null,
      "metadata": {
        "id": "f7MvPcNpsH_n"
      },
      "outputs": [],
      "source": [
        "sum_score=sorted([ [sum([int(e) for e in line.split(',')[1:]]),line] for line in lines[1:]],reverse=True)"
      ]
    },
    {
      "cell_type": "code",
      "execution_count": null,
      "metadata": {
        "id": "p_50s-GOsx-K"
      },
      "outputs": [],
      "source": [
        "file=open('sorted_score.csv','w')\n",
        "for element in sum_score:\n",
        "  file.write(element[1]+','+str(element[0])+'\\n')\n",
        "file.close()"
      ]
    },
    {
      "cell_type": "code",
      "execution_count": null,
      "metadata": {
        "colab": {
          "base_uri": "https://localhost:8080/"
        },
        "id": "5HugXCf2uMHO",
        "outputId": "f1240b6c-5efa-400a-985d-a8bd2a2d76f3"
      },
      "outputs": [
        {
          "name": "stdout",
          "output_type": "stream",
          "text": [
            "5639110921,10,10,8,10,8,46\n",
            "5676237921,10,10,9,9,7,45\n",
            "5698907421,10,10,6,10,7,43\n",
            "5696614321,5,10,9,10,8,42\n",
            "5692820921,7,10,8,9,8,42\n",
            "5635209721,9,10,8,10,5,42\n",
            "5694033521,8,8,8,9,8,41\n",
            "5690418521,8,9,9,9,6,41\n",
            "5683947321,9,9,8,7,8,41\n",
            "5672488021,8,10,6,10,7,41\n",
            "5663510921,8,7,8,10,8,41\n",
            "5654331721,8,8,7,10,8,41\n",
            "5631371621,9,9,6,9,8,41\n",
            "5616166921,7,10,6,10,8,41\n",
            "5673495221,10,5,9,10,6,40\n",
            "5673185421,10,10,7,5,8,40\n",
            "5668088321,9,10,8,6,7,40\n",
            "5637264221,10,10,7,10,3,40\n",
            "5633380221,8,10,8,10,4,40\n",
            "5626572621,10,10,8,7,5,40\n",
            "5622997221,9,10,4,9,8,40\n",
            "5609460721,8,8,8,9,7,40\n",
            "5607383721,10,10,5,7,8,40\n",
            "\u001b[K"
          ]
        }
      ],
      "source": [
        "! more sorted_score.csv"
      ]
    },
    {
      "cell_type": "code",
      "execution_count": null,
      "metadata": {
        "id": "E1QJ-rASur08"
      },
      "outputs": [],
      "source": []
    }
  ],
  "metadata": {
    "colab": {
      "provenance": []
    },
    "kernelspec": {
      "display_name": "Python 3.9.10 64-bit",
      "language": "python",
      "name": "python3"
    },
    "language_info": {
      "name": "python",
      "version": "3.9.10"
    },
    "vscode": {
      "interpreter": {
        "hash": "b0fa6594d8f4cbf19f97940f81e996739fb7646882a419484c72d19e05852a7e"
      }
    }
  },
  "nbformat": 4,
  "nbformat_minor": 0
}
