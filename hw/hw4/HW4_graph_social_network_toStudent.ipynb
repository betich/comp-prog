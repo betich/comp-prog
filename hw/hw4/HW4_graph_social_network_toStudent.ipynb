{
  "cells": [
    {
      "cell_type": "markdown",
      "metadata": {
        "id": "xaO6ydwuTSae"
      },
      "source": [
        "# Assignment #4: NumPy + A few tuples/lists\n",
        "\n",
        "\n"
      ]
    },
    {
      "cell_type": "markdown",
      "metadata": {
        "id": "tZly7h79NP4H"
      },
      "source": [
        "### In this assignment, we will practice on NumPy, Tuple, Set, Dict using social network use case. \n",
        "\n",
        "**Please read the explanation in \"H4.docx\"**"
      ]
    },
    {
      "cell_type": "markdown",
      "metadata": {
        "id": "YAq-m9r53V0E"
      },
      "source": [
        "# **Important**\n",
        "- Do not delete or modify the first line in the given code cell.\n",
        "- You work must be add in the provided area only. \n",
        "- You must not change the declaration of the provided functions.\n",
        "- You are allowed to add your own functions.\n",
        "- If you want to write your own program to test, add new code cell at the very end of the file and add your code there.\n"
      ]
    },
    {
      "cell_type": "code",
      "execution_count": 4,
      "metadata": {
        "id": "3-zuAAWzWzyu"
      },
      "outputs": [],
      "source": [
        "import numpy as np"
      ]
    },
    {
      "cell_type": "code",
      "execution_count": 5,
      "metadata": {
        "id": "i-ag1K690HGa"
      },
      "outputs": [],
      "source": [
        "# DO NOTE DELETE THIS CELL / WRITE YOUR CODE HERE\n",
        "# Task#1\n",
        "\n",
        "def generate_adjacency_matrix(filename):\n",
        "  # write your code here\n",
        "  f = open(filename, 'r')\n",
        "  lines = f.readlines()\n",
        "  f.close()\n",
        "\n",
        "  nodes = set()\n",
        "\n",
        "  # get the number of nodes\n",
        "  for l in lines:\n",
        "    new_nodes = l.strip().split(',')\n",
        "    nodes.add(new_nodes[0])\n",
        "    nodes.add(new_nodes[1])\n",
        "\n",
        "  person_names = sorted(list(nodes))\n",
        "  \n",
        "  # create the adjacency matrix\n",
        "  A = np.zeros((len(nodes), len(nodes)), dtype=int)\n",
        "  for l in lines:\n",
        "    new_nodes = l.strip().split(',')\n",
        "    first_node = person_names.index(new_nodes[0])\n",
        "    second_node = person_names.index(new_nodes[1])\n",
        "    A[first_node, second_node] = 1\n",
        "    A[second_node, first_node] = 1\n",
        "\n",
        "  return A, person_names"
      ]
    },
    {
      "cell_type": "code",
      "execution_count": 6,
      "metadata": {
        "colab": {
          "base_uri": "https://localhost:8080/"
        },
        "id": "xdRdI95_UnLu",
        "outputId": "74409220-1a33-4525-f1ac-be9ca8f0c544"
      },
      "outputs": [
        {
          "name": "stdout",
          "output_type": "stream",
          "text": [
            "[[0 1 0 1 1]\n",
            " [1 0 0 1 0]\n",
            " [0 0 0 0 1]\n",
            " [1 1 0 0 1]\n",
            " [1 0 1 1 0]]\n",
            "['A', 'B', 'C', 'D', 'E']\n"
          ]
        }
      ],
      "source": [
        "\"\"\"\n",
        "from google.colab import files\n",
        "uploaded = files.upload()\n",
        "print('uploaded = ', uploaded)\n",
        "\"\"\"\n",
        "A, person_names = generate_adjacency_matrix(\"social_network.txt\")\n",
        "print(A)\n",
        "print(person_names)\n"
      ]
    },
    {
      "cell_type": "code",
      "execution_count": 7,
      "metadata": {},
      "outputs": [
        {
          "name": "stdout",
          "output_type": "stream",
          "text": [
            "Test 0 passed\n",
            "Test 1 passed\n",
            "Test 2 passed\n",
            "Test 3 passed\n",
            "Test 4 passed\n",
            "Test 5 passed\n",
            "Test 6 passed\n",
            "Test 7 passed\n",
            "Test 8 passed\n",
            "Test 9 passed\n"
          ]
        }
      ],
      "source": [
        "import numpy as np\n",
        "import random\n",
        "\n",
        "def generate_graph(n: int) -> np.ndarray:\n",
        "    graph = np.zeros((n,n), dtype=int)\n",
        "    for i in range(n):\n",
        "        for j in range(n):\n",
        "            if i == j:\n",
        "                graph[i][j] = 0\n",
        "            else:\n",
        "                graph[i][j] = random.randint(0,1)\n",
        "                graph[j][i] = graph[i][j]\n",
        "\n",
        "    # check if there is an entry at dimension n\n",
        "    if np.sum(graph[n-1]) == 0:\n",
        "        graph[n-1][n-1] = 1\n",
        "    return graph\n",
        "\n",
        "def generate_edges(graph: np.ndarray) -> list:\n",
        "    edges = []\n",
        "    for i in range(len(graph)):\n",
        "        for j in range(len(graph)):\n",
        "            if graph[i][j] == 1:\n",
        "                edges.append(str(i) + \",\" + str(j))\n",
        "    return edges\n",
        "\n",
        "def main():\n",
        "  # generate\n",
        "  for i in range(10):\n",
        "    n = random.randint(1,10)\n",
        "    graph = generate_graph(n)\n",
        "    edges = generate_edges(graph)\n",
        "    # write edges to file\n",
        "    f = open(\"test_social_network_{}.txt\".format(i), \"w\")\n",
        "    \n",
        "    for e in edges:\n",
        "      f.write(e + \"\\n\")\n",
        "    f.close()\n",
        "\n",
        "    f2 = open(\"sol_social_network_{}.txt\".format(i), \"w\")\n",
        "    f2.write(str(graph.tolist()))\n",
        "    f2.close()\n",
        "\n",
        "  # test\n",
        "  for i in range(10):\n",
        "    A, person_names = generate_adjacency_matrix(\"test_social_network_{}.txt\".format(i))\n",
        "    f = open(\"sol_social_network_{}.txt\".format(i), \"r\")\n",
        "    sol = np.array(eval(f.read().strip()))\n",
        "    f.close()\n",
        "    if np.array_equal(A, sol):\n",
        "      print(\"Test {} passed\".format(i))\n",
        "    else:\n",
        "      print(\"Test {} failed\".format(i))\n",
        "      print(\"A = \", A)\n",
        "      print(\"sol = \", sol)\n",
        "  \n",
        "\n",
        "if __name__ == \"__main__\":\n",
        "    main()"
      ]
    },
    {
      "cell_type": "code",
      "execution_count": 8,
      "metadata": {},
      "outputs": [
        {
          "name": "stdout",
          "output_type": "stream",
          "text": [
            "===\n",
            "Test#0\n",
            "===\n",
            "[[0 0 0 1 1]\n",
            " [0 0 1 0 1]\n",
            " [0 1 0 0 1]\n",
            " [1 0 0 0 1]\n",
            " [1 1 1 1 0]]\n",
            "['0', '1', '2', '3', '4']\n",
            "[[0 0 0 1 1]\n",
            " [0 0 1 0 1]\n",
            " [0 1 0 0 1]\n",
            " [1 0 0 0 1]\n",
            " [1 1 1 1 0]]\n",
            "===\n",
            "Test#1\n",
            "===\n",
            "[[0 0 1 1 1]\n",
            " [0 0 0 1 0]\n",
            " [1 0 0 0 0]\n",
            " [1 1 0 0 1]\n",
            " [1 0 0 1 0]]\n",
            "['0', '1', '2', '3', '4']\n",
            "[[0 0 1 1 1]\n",
            " [0 0 0 1 0]\n",
            " [1 0 0 0 0]\n",
            " [1 1 0 0 1]\n",
            " [1 0 0 1 0]]\n",
            "===\n",
            "Test#2\n",
            "===\n",
            "[[0 1 1 0 0]\n",
            " [1 0 1 0 1]\n",
            " [1 1 0 1 0]\n",
            " [0 0 1 0 0]\n",
            " [0 1 0 0 0]]\n",
            "['0', '1', '2', '3', '4']\n",
            "[[0 1 1 0 0]\n",
            " [1 0 1 0 1]\n",
            " [1 1 0 1 0]\n",
            " [0 0 1 0 0]\n",
            " [0 1 0 0 0]]\n",
            "===\n",
            "Test#3\n",
            "===\n",
            "[[0 1 0 1 1]\n",
            " [1 0 1 0 1]\n",
            " [0 1 0 0 0]\n",
            " [1 0 0 0 1]\n",
            " [1 1 0 1 0]]\n",
            "['0', '1', '2', '3', '4']\n",
            "[[0 1 0 1 1]\n",
            " [1 0 1 0 1]\n",
            " [0 1 0 0 0]\n",
            " [1 0 0 0 1]\n",
            " [1 1 0 1 0]]\n",
            "===\n",
            "Test#4\n",
            "===\n",
            "[[0 1 0 0 0]\n",
            " [1 0 0 1 1]\n",
            " [0 0 0 1 1]\n",
            " [0 1 1 0 1]\n",
            " [0 1 1 1 0]]\n",
            "['0', '1', '2', '3', '4']\n",
            "[[0 1 0 0 0]\n",
            " [1 0 0 1 1]\n",
            " [0 0 0 1 1]\n",
            " [0 1 1 0 1]\n",
            " [0 1 1 1 0]]\n",
            "===\n",
            "Test#5\n",
            "===\n",
            "[[0 0 0 0 1]\n",
            " [0 0 0 0 1]\n",
            " [0 0 0 1 0]\n",
            " [0 0 1 0 1]\n",
            " [1 1 0 1 0]]\n",
            "['0', '1', '2', '3', '4']\n",
            "[[0 0 0 0 1]\n",
            " [0 0 0 0 1]\n",
            " [0 0 0 1 0]\n",
            " [0 0 1 0 1]\n",
            " [1 1 0 1 0]]\n",
            "===\n",
            "Test#6\n",
            "===\n",
            "[[0 1 1 0]\n",
            " [1 0 0 1]\n",
            " [1 0 0 1]\n",
            " [0 1 1 0]]\n",
            "['0', '1', '3', '4']\n",
            "[[0 1 0 1 0]\n",
            " [1 0 0 0 1]\n",
            " [0 0 0 0 0]\n",
            " [1 0 0 0 1]\n",
            " [0 1 0 1 0]]\n",
            "===\n",
            "Test#7\n",
            "===\n",
            "[[0 1 1 0 1]\n",
            " [1 0 1 0 0]\n",
            " [1 1 0 0 1]\n",
            " [0 0 0 0 1]\n",
            " [1 0 1 1 0]]\n",
            "['0', '1', '2', '3', '4']\n",
            "[[0 1 1 0 1]\n",
            " [1 0 1 0 0]\n",
            " [1 1 0 0 1]\n",
            " [0 0 0 0 1]\n",
            " [1 0 1 1 0]]\n",
            "===\n",
            "Test#8\n",
            "===\n",
            "[[0 0 1 0 0]\n",
            " [0 0 0 0 1]\n",
            " [1 0 0 0 0]\n",
            " [0 0 0 0 1]\n",
            " [0 1 0 1 0]]\n",
            "['0', '1', '2', '3', '4']\n",
            "[[0 0 1 0 0]\n",
            " [0 0 0 0 1]\n",
            " [1 0 0 0 0]\n",
            " [0 0 0 0 1]\n",
            " [0 1 0 1 0]]\n",
            "===\n",
            "Test#9\n",
            "===\n",
            "[[0 1 0 0 1]\n",
            " [1 0 0 0 0]\n",
            " [0 0 0 0 1]\n",
            " [0 0 0 0 1]\n",
            " [1 0 1 1 0]]\n",
            "['0', '1', '2', '3', '4']\n",
            "[[0 1 0 0 1]\n",
            " [1 0 0 0 0]\n",
            " [0 0 0 0 1]\n",
            " [0 0 0 0 1]\n",
            " [1 0 1 1 0]]\n"
          ]
        }
      ],
      "source": [
        "import random\n",
        "\n",
        "def generate_graph(n):\n",
        "    graph = [[0 for i in range(n)] for j in range(n)]\n",
        "    edges = []\n",
        "    for i in range(n):\n",
        "        for j in range(i+1, n):\n",
        "            if random.randint(0, 1) == 1:\n",
        "                graph[i][j] = 1\n",
        "                graph[j][i] = 1\n",
        "                edges.append(str(i) + \",\" + str(j))\n",
        "\n",
        "    return graph, edges\n",
        "\n",
        "\n",
        "for i in range(10):\n",
        "  graph, edges = generate_graph(5)\n",
        "  # write edges to file\n",
        "  f = open(\"test_social_network_{}.txt\".format(i), \"w\")\n",
        "  for e in edges:\n",
        "    f.write(e + \"\\n\")\n",
        "  f.close()\n",
        "\n",
        "  f2 = open(\"sol_social_network_{}.txt\".format(i), \"w\")\n",
        "  f2.write(str(graph))\n",
        "  f2.close()\n",
        "\n",
        "# Test\n",
        "for i in range(10):\n",
        "  A, person_names = generate_adjacency_matrix(\"test_social_network_{}.txt\".format(i))\n",
        "  print(\"===\\nTest#{}\\n===\".format(i))\n",
        "  print(A)\n",
        "  print(person_names)\n",
        "\n",
        "  f = open(\"sol_social_network_{}.txt\".format(i), \"r\")\n",
        "  sol = np.array(eval(f.read()))\n",
        "  f.close()\n",
        "  print(sol)\n",
        "\n",
        "  # assert np.array_equal(A, sol)"
      ]
    },
    {
      "cell_type": "code",
      "execution_count": 28,
      "metadata": {
        "id": "_xds654Yw6Ff"
      },
      "outputs": [],
      "source": [
        "# DO NOTE DELETE THIS CELL / WRITE YOUR CODE HERE\n",
        "# Task#2\n",
        "\n",
        "def get_degree_matrix(A):\n",
        "  # write your code here\n",
        "  D = np.zeros((A.shape[0], A.shape[1]), dtype=int)\n",
        "  for i in range(A.shape[0]):\n",
        "    D[i, i] = np.sum(A[i, :])\n",
        "  return D"
      ]
    },
    {
      "cell_type": "code",
      "execution_count": 29,
      "metadata": {
        "colab": {
          "base_uri": "https://localhost:8080/"
        },
        "id": "27xLRQ13Yjb0",
        "outputId": "bef98fb4-f6ff-4524-db3c-8f50f809fa17"
      },
      "outputs": [
        {
          "name": "stdout",
          "output_type": "stream",
          "text": [
            "[[3 0 0 0 0]\n",
            " [0 2 0 0 0]\n",
            " [0 0 1 0 0]\n",
            " [0 0 0 3 0]\n",
            " [0 0 0 0 3]]\n"
          ]
        }
      ],
      "source": [
        "D = get_degree_matrix(A)\n",
        "print(D)"
      ]
    },
    {
      "cell_type": "code",
      "execution_count": 35,
      "metadata": {
        "id": "mZT3meYFZeXa"
      },
      "outputs": [
        {
          "name": "stdout",
          "output_type": "stream",
          "text": [
            "[('A', 0), ('D', 3), ('E', 4)]\n"
          ]
        }
      ],
      "source": [
        "# DO NOTE DELETE THIS CELL / WRITE YOUR CODE HERE\n",
        "# Task#3\n",
        "\n",
        "def get_names_with_highest_number_of_friends(D, person_names):\n",
        "  # write your code here\n",
        "  max_count = np.max(D)\n",
        "  max_count_indices = np.where(D == max_count)[0]\n",
        "  \n",
        "  all_max = [(person_names[i], i) for i in max_count_indices]\n",
        "  return all_max\n",
        "\n",
        "print(get_names_with_highest_number_of_friends(D, person_names))"
      ]
    },
    {
      "cell_type": "code",
      "execution_count": 36,
      "metadata": {
        "colab": {
          "base_uri": "https://localhost:8080/"
        },
        "id": "9CuAUZ83bQDp",
        "outputId": "a94b088e-c3a2-41fc-cfdd-86d3462e994b"
      },
      "outputs": [
        {
          "name": "stdout",
          "output_type": "stream",
          "text": [
            "[('A', 0), ('D', 3), ('E', 4)]\n"
          ]
        }
      ],
      "source": [
        "persons = get_names_with_highest_number_of_friends(D, person_names)\n",
        "print(persons)"
      ]
    },
    {
      "cell_type": "code",
      "execution_count": 10,
      "metadata": {
        "id": "ePneg4VEe03b"
      },
      "outputs": [],
      "source": [
        "# HELPER FUNCTION\n",
        "def get_liked_page_matrix(infile):\n",
        "  liked_pages = []\n",
        "  persons = []\n",
        "  fr = open(infile, 'r')\n",
        "  for line in fr:\n",
        "    name, bits = line.strip().split(',')\n",
        "    liked_page = [int(c) for c in bits]\n",
        "    liked_pages.append(liked_page)\n",
        "    persons.append(name)\n",
        "  liked_pages_array = np.array(liked_pages)\n",
        "  return liked_pages_array,persons"
      ]
    },
    {
      "cell_type": "code",
      "execution_count": 11,
      "metadata": {
        "colab": {
          "base_uri": "https://localhost:8080/"
        },
        "id": "iW6zJIFyiNCM",
        "outputId": "756fde61-f520-490f-fe77-1ad43f01adc2"
      },
      "outputs": [
        {
          "name": "stdout",
          "output_type": "stream",
          "text": [
            "[[0 1 0 1 1 1 0]\n",
            " [1 0 0 1 0 1 1]\n",
            " [0 0 0 0 1 0 1]\n",
            " [1 1 0 0 1 0 0]\n",
            " [0 1 1 1 0 1 0]]\n",
            "['A', 'B', 'C', 'D', 'E']\n"
          ]
        }
      ],
      "source": [
        "\"\"\"\n",
        "from google.colab import files\n",
        "uploaded = files.upload()\n",
        "print('uploaded = ', uploaded)\n",
        "\"\"\"\n",
        "liked_pages, persons = get_liked_page_matrix('liked_pages.txt')\n",
        "print(liked_pages)\n",
        "print(persons)\n"
      ]
    },
    {
      "cell_type": "code",
      "execution_count": 39,
      "metadata": {
        "id": "-eBjntKTjiVn"
      },
      "outputs": [],
      "source": [
        "# DO NOTE DELETE THIS CELL / WRITE YOUR CODE HERE\n",
        "# Task#4\n",
        "\n",
        "def get_distance_matrix(Lp):\n",
        "  # write your code here\n",
        "  \n",
        "  # calculate tanimoto distance\n",
        "  D = np.zeros((Lp.shape[0], Lp.shape[0]), dtype=float)\n",
        "  for i in range(Lp.shape[0]):\n",
        "    for j in range(Lp.shape[0]):\n",
        "      if i == j:\n",
        "        D[i, j] = 0\n",
        "      else:\n",
        "        c = np.sum(np.logical_and(Lp[i, :], Lp[j, :]))\n",
        "        a = np.sum(Lp[i, :])\n",
        "        b = np.sum(Lp[j, :])\n",
        "\n",
        "        D[i, j] = c / (a + b - c)\n",
        "  \n",
        "  distance_matrix = D\n",
        "  return distance_matrix"
      ]
    },
    {
      "cell_type": "code",
      "execution_count": 19,
      "metadata": {
        "colab": {
          "base_uri": "https://localhost:8080/"
        },
        "id": "NfCR8X3zjpvd",
        "outputId": "375b039c-51ce-4583-b99f-27d296a54672"
      },
      "outputs": [
        {
          "name": "stdout",
          "output_type": "stream",
          "text": [
            "[[0.         0.33333333 0.2        0.4        0.6       ]\n",
            " [0.33333333 0.         0.2        0.16666667 0.33333333]\n",
            " [0.2        0.2        0.         0.25       0.        ]\n",
            " [0.4        0.16666667 0.25       0.         0.16666667]\n",
            " [0.6        0.33333333 0.         0.16666667 0.        ]]\n"
          ]
        }
      ],
      "source": [
        "Dt = get_distance_matrix(liked_pages)\n",
        "print(Dt)"
      ]
    },
    {
      "cell_type": "code",
      "execution_count": 54,
      "metadata": {
        "id": "PkjAA2hw-I1i"
      },
      "outputs": [],
      "source": [
        "# DO NOTE DELETE THIS CELL / WRITE YOUR CODE HERE\n",
        "# Task#5\n",
        "\n",
        "def get_all_most_similar_pairs(Dt, persons):\n",
        "  # write your code here\n",
        "  max_distance = np.max(Dt)\n",
        "  max_distance_indices = np.where(Dt == max_distance)\n",
        "  all_pairs = [(persons[i], persons[j]) for i, j in zip(max_distance_indices[0], max_distance_indices[1])]\n",
        "\n",
        "  pairs = set()\n",
        "  for p in all_pairs:\n",
        "    if not tuple(sorted(p)) in pairs:\n",
        "      pairs.add(tuple(sorted(p)))\n",
        "  \n",
        "  return sorted(pairs)"
      ]
    },
    {
      "cell_type": "code",
      "execution_count": 55,
      "metadata": {
        "colab": {
          "base_uri": "https://localhost:8080/"
        },
        "id": "NuCfMjXb-Z_R",
        "outputId": "6b820fcc-aac2-4663-9c65-9ec2f85a535f"
      },
      "outputs": [
        {
          "name": "stdout",
          "output_type": "stream",
          "text": [
            "[('A', 'E')]\n"
          ]
        }
      ],
      "source": [
        "pairs = get_all_most_similar_pairs(Dt, persons)\n",
        "print(pairs)"
      ]
    }
  ],
  "metadata": {
    "colab": {
      "collapsed_sections": [],
      "provenance": []
    },
    "kernelspec": {
      "display_name": "Python 3.9.10 64-bit",
      "language": "python",
      "name": "python3"
    },
    "language_info": {
      "codemirror_mode": {
        "name": "ipython",
        "version": 3
      },
      "file_extension": ".py",
      "mimetype": "text/x-python",
      "name": "python",
      "nbconvert_exporter": "python",
      "pygments_lexer": "ipython3",
      "version": "3.9.10"
    },
    "vscode": {
      "interpreter": {
        "hash": "b0fa6594d8f4cbf19f97940f81e996739fb7646882a419484c72d19e05852a7e"
      }
    }
  },
  "nbformat": 4,
  "nbformat_minor": 0
}
