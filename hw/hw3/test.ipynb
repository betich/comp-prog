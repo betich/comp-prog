{
 "cells": [
  {
   "cell_type": "markdown",
   "metadata": {},
   "source": [
    "## Test Your Code"
   ]
  },
  {
   "cell_type": "markdown",
   "metadata": {},
   "source": [
    "### Convert to CSV"
   ]
  },
  {
   "cell_type": "code",
   "execution_count": 1,
   "metadata": {},
   "outputs": [],
   "source": [
    "import pandas as pd\n",
    "\n",
    "def convert_to_csv(data, filename):\n",
    "  df = pd.DataFrame.from_dict(data, orient='index')\n",
    "  df.to_csv('{}.csv'.format(filename))  # write dataframe to file"
   ]
  },
  {
   "cell_type": "markdown",
   "metadata": {},
   "source": [
    "### Compare CSV"
   ]
  },
  {
   "cell_type": "code",
   "execution_count": 2,
   "metadata": {},
   "outputs": [],
   "source": [
    "def compare_csv(file1, file2):\n",
    "  df1 = pd.read_csv(file1)\n",
    "  df2 = pd.read_csv(file2)\n",
    "  return df1.equals(df2)"
   ]
  },
  {
   "cell_type": "markdown",
   "metadata": {},
   "source": [
    "### Run"
   ]
  },
  {
   "cell_type": "code",
   "execution_count": 4,
   "metadata": {},
   "outputs": [
    {
     "name": "stdout",
     "output_type": "stream",
     "text": [
      "Comparing genre_stats-tee.csv and genre_stats-peace.csv...\n",
      "False\n"
     ]
    }
   ],
   "source": [
    "if __name__ == '__main__':\n",
    "  # convert to csv\n",
    "\n",
    "  # compare\n",
    "\n",
    "  file1 = 'genre_stats-tee.csv'\n",
    "  file2 = 'genre_stats-peace.csv'\n",
    "\n",
    "  print('Comparing {} and {}...'.format(file1, file2))\n",
    "  print(compare_csv(file1, file2))"
   ]
  },
  {
   "cell_type": "code",
   "execution_count": 4,
   "metadata": {},
   "outputs": [],
   "source": [
    "def check_all():\n",
    "    with open('output_thee.txt', 'r') as t1, open('output_boom.txt', 'r') as t2:\n",
    "        fileone = t1.readlines()\n",
    "        filetwo = t2.readlines()\n",
    "\n",
    "    if len(fileone) == len(filetwo):\n",
    "        for line1, line2 in zip(fileone, filetwo):\n",
    "            if line1 != line2:\n",
    "                print(line1, line2, sep=\"\\n===========\\n\")\n",
    "    else:\n",
    "        print('Files are not the same length')\n",
    "\n",
    "\n",
    "def check_one_line(line_number):\n",
    "    line_number -= 1\n",
    "    with open('output_tee.txt', 'r') as t1, open('output_tee.txt', 'r') as t2:\n",
    "        fileone = t1.readlines()\n",
    "        filetwo = t2.readlines()\n",
    "\n",
    "    if len(fileone) == len(filetwo):\n",
    "        print(fileone[line_number], filetwo[line_number])\n",
    "        for x, y in zip(fileone[line_number].split(','), filetwo[line_number].split(',')):\n",
    "            if x != y:\n",
    "                print(x, y, sep=\"\\n===========\\n\")\n",
    "                break\n",
    "    else:\n",
    "        print('Files are not the same length')\n",
    "\n",
    "\n",
    "# check_one_line(1878)\n",
    "check_all()"
   ]
  }
 ],
 "metadata": {
  "kernelspec": {
   "display_name": "Python 3.9.10 64-bit",
   "language": "python",
   "name": "python3"
  },
  "language_info": {
   "codemirror_mode": {
    "name": "ipython",
    "version": 3
   },
   "file_extension": ".py",
   "mimetype": "text/x-python",
   "name": "python",
   "nbconvert_exporter": "python",
   "pygments_lexer": "ipython3",
   "version": "3.9.10"
  },
  "orig_nbformat": 4,
  "vscode": {
   "interpreter": {
    "hash": "b0fa6594d8f4cbf19f97940f81e996739fb7646882a419484c72d19e05852a7e"
   }
  }
 },
 "nbformat": 4,
 "nbformat_minor": 2
}
