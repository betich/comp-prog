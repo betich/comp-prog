{
 "cells": [
  {
   "cell_type": "code",
   "execution_count": 10,
   "metadata": {},
   "outputs": [
    {
     "name": "stdout",
     "output_type": "stream",
     "text": [
      "[]\n",
      "[[1]]\n",
      "[[1, 1]]\n",
      "[[1, 1, 1]]\n",
      "[[1, 1, 1, 1]]\n",
      "[[1, 1, 1, 1], [3]]\n",
      "3\n"
     ]
    }
   ],
   "source": [
    "a = [int(e) for e in input().split()]\n",
    "k = int(input())\n",
    "\n",
    "b = []\n",
    "\n",
    "for e in a:\n",
    "  if len(b) > 0 and b[-1][0] == e:\n",
    "    b[-1].append(e)\n",
    "  else:\n",
    "    b.append([e])\n",
    "\n",
    "print(b)\n",
    "\n",
    "count = 0\n",
    "for e in b:\n",
    "  if not(len(e) >= k):\n",
    "    count += sum(e)\n",
    "\n",
    "print(count)"
   ]
  }
 ],
 "metadata": {
  "kernelspec": {
   "display_name": "Python 3.9.10 64-bit",
   "language": "python",
   "name": "python3"
  },
  "language_info": {
   "codemirror_mode": {
    "name": "ipython",
    "version": 3
   },
   "file_extension": ".py",
   "mimetype": "text/x-python",
   "name": "python",
   "nbconvert_exporter": "python",
   "pygments_lexer": "ipython3",
   "version": "3.9.10"
  },
  "orig_nbformat": 4,
  "vscode": {
   "interpreter": {
    "hash": "b0fa6594d8f4cbf19f97940f81e996739fb7646882a419484c72d19e05852a7e"
   }
  }
 },
 "nbformat": 4,
 "nbformat_minor": 2
}
