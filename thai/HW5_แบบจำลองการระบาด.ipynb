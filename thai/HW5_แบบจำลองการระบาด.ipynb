{
  "cells": [
    {
      "cell_type": "markdown",
      "metadata": {
        "id": "jL9Rk67Oz8DW"
      },
      "source": [
        "การบ้านครั้งสุดท้ายนี้ให้เขียนโปรแกรมการจำลองการระบาด กำหนดให้ข้อมูลของคนหนึ่งคนเก็บใน dictionary ดังนี้ \n",
        "\n",
        "1.   `id` เป็นจำนวนเต็มเก็บเลขประจำตัวของคน\n",
        "2.   `vaccinated` เป็นบูลีน แทนสถานะการรับฉีดวัคซีนว่าได้รับ (`True`) หรือยังไม่ได้รับ (`False`)\n",
        "3.   `coordinate` เป็นทูเปิลของจำนวนจริง 2 ค่า เก็บพิกัดในแนวแกน `x` และ `y` ของคนนั้น\n",
        "\n",
        "เช่น `{'id':20382921, 'vaccinated':False, 'coodinate': (204.368, 304.256)}` หมายถึง คนนี้มีเลขประจำตัว `20382921` ยังไม่ได้รับการฉีดวัคซีน และอยู่ที่พิกัด `x=204.368` และ `y=304.256`\n",
        "\n",
        "และเก็บข้อมูลประชากรเป็น list of dicts เช่น \n",
        "\n",
        "```\n",
        "[{'id':20382921, 'vaccinated':False, 'coodinate': (204.368, 304.256)}, \n",
        " {'id':20382952, 'vaccinated':True, 'coodinate': (201.280, 302.524)},\n",
        " {'id':20482912, 'vaccinated':False, 'coodinate': (202.102, 301.129)}]\n",
        " ```\n",
        "\n",
        "สั่ง run cell ข้างล่างนี้เพื่อสร้างข้อมูลประชากร (แบบสุ่ม) เก็บในตัวแปร `population` (`n` คือขนาดประชากร และ `vaccinated` คือเปอร์เซ็นต์ของประชากรที่ได้รับวัคซีน)\n",
        "\n"
      ]
    },
    {
      "cell_type": "code",
      "execution_count": 54,
      "metadata": {
        "cellView": "form",
        "id": "ra1pJfZgTRuQ"
      },
      "outputs": [
        {
          "name": "stdout",
          "output_type": "stream",
          "text": [
            "[(47442119, 85109525), (10790563, 96365445), (41224698, 96365445), (13880368, 96365445), (57738559, 84419781), (82184386, 84419781), (84419781, 95598806), (78471422, 84419781), (13065093, 29172927), (13065093, 95085939), (13065093, 81132241), (13065093, 20708071), (13065093, 60834413), (13065093, 66681034), (13065093, 59291581), (10790563, 41224698), (10790563, 13880368), (16734940, 87452375), (16158843, 74700954), (25697116, 74700954), (51410600, 74700954), (47882681, 74700954), (29172927, 95085939), (20708071, 29172927), (29172927, 60834413), (57738559, 95598806), (56847580, 88207856), (30293487, 83930383), (13880368, 41224698), (63923084, 86495463), (31690631, 86495463), (12501274, 23714842), (12501274, 41506211), (12501274, 47442119), (75343338, 78010143), (32734324, 78010143), (59088357, 78010143), (35515066, 78010143), (60505105, 78010143), (82184386, 87413218), (22134427, 87413218), (78471422, 87413218), (16158843, 25697116), (16158843, 51410600), (68854526, 94720095), (68854526, 78741153), (10573008, 68854526), (68854526, 97882755), (61701738, 68854526), (43490684, 68854526), (32445212, 94720095), (10573008, 94720095), (61701738, 94720095), (25697116, 51410600), (25697116, 75343338), (81132241, 95085939), (20708071, 95085939), (22134427, 82184386), (78471422, 82184386), (23714842, 51966002), (23714842, 41506211), (23714842, 52044980), (23714842, 40058187), (16239837, 24748497), (23787180, 33152311), (22134427, 78471422), (16146015, 81132241), (59291581, 81132241), (16146015, 16239837), (32734324, 75343338), (59088357, 75343338), (35515066, 75343338), (32734324, 59088357), (32734324, 35515066), (16954439, 47882681), (35515066, 59088357), (78741153, 97882755), (43490684, 78741153), (10573008, 97882755), (10573008, 61701738), (61701738, 97882755), (43490684, 97882755), (51966002, 52044980), (20708071, 60834413), (20708071, 66681034), (60834413, 66681034), (16146015, 43490684), (31690631, 63923084), (41506211, 52044980), (40058187, 41506211), (40058187, 52044980), (35515066, 60505105), (59291581, 66681034)]\n"
          ]
        },
        {
          "data": {
            "image/png": "[encoded data removed]",
            "text/plain": [
              "<Figure size 432x288 with 1 Axes>"
            ]
          },
          "metadata": {
            "needs_background": "light"
          },
          "output_type": "display_data"
        }
      ],
      "source": [
        "#@title\n",
        "n = 100 #@param {type:\"slider\", min:100, max:1000, step:1}\n",
        "vaccinated_percent = 40 #@param {type:\"slider\", min:0, max:100, step:1}\n",
        "\n",
        "import random \n",
        "random.seed(37)\n",
        "population = [{'id':int(random.random()*(10**8-10**7))+10**7,\\\n",
        "          'vaccinated': True if random.random()<vaccinated_percent/100 else False,\\\n",
        "          'coordinate':(random.random()*20+130,random.random()*40+200)} for i in range(n)]\n",
        "show_data(get_all_unjabbed_pairs(population, 4), get_coordinates(population, False))"
      ]
    },
    {
      "cell_type": "markdown",
      "metadata": {
        "id": "DbFyEHSOSiRK"
      },
      "source": [
        "--- \n",
        "## การส่งงาน\n",
        "  * Save a copy in Drive \n",
        "  * เปลี่ยนชื่อ Notebook ให้เป็น HW5_xxxxxxxxxx.ipynb โดย xxxxxxxxxx เป็นเลขประจำตัวนิสิต \n",
        "  * File -> Download -> Download .ipynb\n",
        "  * ส่งไฟล์ที่ดาวน์โหลดได้ใน MyCourseVille ก่อนเวลา <font color=red>**23:59 น. วันที่ 8 พฤศจิกายน 2565**</font> \n",
        "  * จะตรวจแฟ้ม .ipynb แฟ้มล่าสุดที่ส่งในระบบ MyCourseVille เท่านั้น\n",
        "\n",
        "<hr>\n",
        "\n",
        "## <font color=red>สำคัญ: อ่านตรงนี้ด้วย</font>\n",
        "- ข้อห้าม\n",
        " - ห้าม import ใด ๆ \n",
        " - ห้ามเปลี่ยนบรรทัด def ของฟังก์ชันที่ให้เขียน\n",
        " - ในกรณีที่ฟังก์ชันมีการคืนค่า ฟังก์ชันต้องคืนข้อมูลและประเภทข้อมูลตามที่กำหนดเท่านั้น\n",
        " - ห้ามเปลี่ยนบรรทัดแรกของ code cell\n",
        "- ส่งแฟ้ม .ipynb กี่ครั้งก็ได้ แต่จะตรวจแฟ้ม .ipynb **แฟ้มล่าสุด** เท่านั้น\n",
        "- <font color=red>ส่อทุจริต</font> เช่น\n",
        "  - ส่งโปรแกรมที่ผู้ส่งไม่สามารถอธิบายได้ว่า ใช้หลักการและทำงานอย่างไร\n",
        "  - หรือ ส่งโปรแกรมที่คล้ายกับโปรแกรมของผู้อื่นมาก ๆ (ไม่ว่าจะเป็นผู้ให้หรือผู้รับ จะตั้งใจหรือไม่ก็ตาม)\n",
        "  - ฉะนั้น\n",
        "    - ให้แน่ใจว่า ไม่ดูโปรแกรมของคนอื่น\n",
        "    - ให้แน่ใจว่า ไม่ได้ให้คนอื่นดูโปรแกรมของตัวเอง\n",
        "\n",
        "- หากพบว่า งานที่ส่งส่อทุจริต จะได้นิสิตจะได้ $0$ ใน<font color=red>การบ้านครั้งนี้ และการบ้านครั้งที่แล้ว ๆ</font>\n",
        "- จะตรวจให้คะแนน เมื่อ\n",
        " - แฟ้มที่ส่งครั้งหลังสุดใน MyCourseVille เป็นแฟ้มที่ตั้งชื่อตามที่กำหนด และเป็นแฟ้มที่ได้จากการ File->Download->Download .ipynb เท่านั้น (ไม่ใช่แฟ้ม .py แล้วมา rename เป็น .ipynb)\n",
        " - ฟังก์ชันที่เขียนส่งต้องอยู่ใน code cell สุดท้ายข้างล่างนี้\n",
        " - บรรทัดแรกของ code cell ทุกอันต้องขึ้นต้นด้วย `# HW5_Infection_Analysis` ตามที่ให้ไป\n",
        " - ไม่ทำในสิ่งที่ห้ามทำในข้อห้าม\n",
        " - code cell ทุกอันสามารถทำงานได้ (ไม่มี error)\n",
        "\n",
        "---"
      ]
    },
    {
      "cell_type": "markdown",
      "metadata": {
        "id": "U0Ll9SeOpWQ2"
      },
      "source": [
        "# งานที่ 1 (5 คะแนน)\n",
        "\n",
        "เขียนฟังก์ชัน `get_coordinates(population, vaccinated)` \n",
        "- รับ `population` เป็น list of dicts  ที่เก็บข้อมูลประชากร\n",
        "- รับ `vaccinated` เป็นบูลีน เพื่อเลือกว่าจะคืนค่าเป็นประชากรที่ได้รับ (`True`) หรือไม่ได้รับวัคซีน (`False`)\n",
        "- คืน dict ที่มีเลขประจำตัวเป็น key และพิกัดเป็น value \n",
        "\n",
        "เช่น\n",
        "\n",
        "```\n",
        "population = [\n",
        "    {'id': 71380410,\n",
        "    'vaccinated': True,\n",
        "    'coordinate': (142.35632697722804, 233.67679618203823)},\n",
        "    {'id': 85109525,\n",
        "    'vaccinated': False,\n",
        "    'coordinate': (142.62075930591354, 214.76919336251675)},\n",
        "    {'id': 57521675,\n",
        "    'vaccinated': False,\n",
        "    'coordinate': (143.65899867666593, 224.0267344699912)},\n",
        "    {'id': 35373207,\n",
        "    'vaccinated': False,\n",
        "    'coordinate': (144.72263074267343, 217.75509778988294)},\n",
        "    {'id': 96365445,\n",
        "    'vaccinated': False,\n",
        "    'coordinate': (146.76725209497084, 203.64110005292503)}\n",
        "]\n",
        "```\n",
        "```\n",
        "get_coordinates(population, False) จะคืนค่า \n",
        "{85109525: (142.62075930591354, 214.76919336251675),\n",
        " 57521675: (143.65899867666593, 224.0267344699912),\n",
        " 35373207: (144.72263074267343, 217.75509778988294),\n",
        " 96365445: (146.76725209497084, 203.64110005292503)}\n",
        "```"
      ]
    },
    {
      "cell_type": "code",
      "execution_count": 58,
      "metadata": {
        "id": "ND70oKsVzzum"
      },
      "outputs": [],
      "source": [
        "# HW5_Infection_Analysis\n",
        "\n",
        "def get_coordinates(population, vaccinated):\n",
        "  coordinates = dict()\n",
        "\n",
        "  for person in population:\n",
        "    # ตรวจสอบว่ารับวัคซีนหรือไม่\n",
        "    if person['vaccinated'] == vaccinated:\n",
        "      coordinates[person['id']] = person['coordinate']\n",
        "\n",
        "  return coordinates\n",
        "\n",
        "# population = [\n",
        "#     {'id': 71380410,\n",
        "#     'vaccinated': True,\n",
        "#     'coordinate': (142.35632697722804, 233.67679618203823)},\n",
        "#     {'id': 85109525,\n",
        "#     'vaccinated': False,\n",
        "#     'coordinate': (142.62075930591354, 214.76919336251675)},\n",
        "#     {'id': 57521675,\n",
        "#     'vaccinated': False,\n",
        "#     'coordinate': (143.65899867666593, 224.0267344699912)},\n",
        "#     {'id': 35373207,\n",
        "#     'vaccinated': False,\n",
        "#     'coordinate': (144.72263074267343, 217.75509778988294)},\n",
        "#     {'id': 96365445,\n",
        "#     'vaccinated': False,\n",
        "#     'coordinate': (146.76725209497084, 203.64110005292503)}\n",
        "# ]\n",
        "\n",
        "# def test(output, expected):\n",
        "#   if output == expected:\n",
        "#     print(\"Correct!\")\n",
        "#   else:\n",
        "#     print(\"Incorrect. Expected: {}, but got: {}\".format(expected, output))\n",
        "\n",
        "# expected = {85109525: (142.62075930591354, 214.76919336251675),\n",
        "#  57521675: (143.65899867666593, 224.0267344699912),\n",
        "#  35373207: (144.72263074267343, 217.75509778988294),\n",
        "#  96365445: (146.76725209497084, 203.64110005292503)}\n",
        "\n",
        "# test(get_coordinates(population, False), expected)"
      ]
    },
    {
      "cell_type": "markdown",
      "metadata": {
        "id": "g9I1NOXl3U49"
      },
      "source": [
        "# งานที่ 2 (5 คะแนน)\n",
        "\n",
        "เขียนฟังก์ชัน `get_all_unjabbed_pairs(population, radius)`\n",
        "- รับ `population` เป็น list of dicts เก็บข้อมูลประชากร `radius` เป็น float เก็บรัศมีการระบาด \n",
        "- คืน list of tuples  (`id1`, `id2`)  โดยที่ ทั้งสองเลขประจำตัวยังไม่ได้รับวัคซีน และอยู่ห่างกันไม่เกิน `radius`\n",
        "- ให้เรียงลิสต์ที่คืนตามทูเปิลของเลขประจำตัวจากน้อยไปมาก โดยให้แต่ละทูเปิลเก็บเลขประจำตัวช่องซ้ายให้มีค่าน้อยกว่าช่องขวา\n",
        "\n",
        "เช่น\n",
        "```\n",
        "population = [\n",
        "    {'id': 71380410,\n",
        "    'vaccinated': True,\n",
        "    'coordinate': (142.35632697722804, 233.67679618203823)},\n",
        "    {'id': 85109525,\n",
        "    'vaccinated': False,\n",
        "    'coordinate': (142.62075930591354, 214.76919336251675)},\n",
        "    {'id': 57521675,\n",
        "    'vaccinated': False,\n",
        "    'coordinate': (143.65899867666593, 224.0267344699912)},\n",
        "    {'id': 35373207,\n",
        "    'vaccinated': False,\n",
        "    'coordinate': (144.72263074267343, 217.75509778988294)},\n",
        "    {'id': 96365445,\n",
        "    'vaccinated': False,\n",
        "    'coordinate': (146.76725209497084, 203.64110005292503)}\n",
        "]\n",
        "```\n",
        "```\n",
        "get_all_unjabbed_pairs(population, 10) จะคืนค่า\n",
        "[(35373207, 57521675), (35373207, 85109525), (57521675, 85109525)]\n",
        "```"
      ]
    },
    {
      "cell_type": "code",
      "execution_count": 59,
      "metadata": {
        "id": "GiP4Z9gO3UcR"
      },
      "outputs": [],
      "source": [
        "# HW5_Infection_Analysis\n",
        "\n",
        "def get_all_unjabbed_pairs(population, radius):\n",
        "  unjabbed_pairs = []\n",
        "\n",
        "  def distance(p1, p2):\n",
        "    return ((p1[0] - p2[0])**2 + (p1[1] - p2[1])**2)**0.5\n",
        "\n",
        "  for person in population:\n",
        "    if not person['vaccinated']:\n",
        "      # คนอื่นที่เหลือ\n",
        "      for other_person in population:\n",
        "        if not other_person['vaccinated'] and person['id'] != other_person['id']:\n",
        "          # ตรวจสอบว่าอยู่ในรัศมีหรือไม่\n",
        "          if distance(person['coordinate'], other_person['coordinate']) <= radius:\n",
        "            # เพิ่มคู่\n",
        "            if (other_person['id'], person['id']) not in unjabbed_pairs:\n",
        "              unjabbed_pairs.append((person['id'], other_person['id']))\n",
        "\n",
        "  # เรียงทั้ง tuple ทั้ง set\n",
        "  return sorted([tuple(sorted(l)) for l in unjabbed_pairs])\n",
        "\n",
        "# expected = [(35373207, 57521675), (35373207, 85109525), (57521675, 85109525)]\n",
        "# test(get_all_unjabbed_pairs(population, 10), expected)"
      ]
    },
    {
      "cell_type": "markdown",
      "metadata": {
        "id": "7AwxB4Eix2kd"
      },
      "source": [
        "# งานที่ 3 (10 คะแนน)\n",
        "\n",
        "เขียนฟังก์ชัน `first_hop(population, id, radius)` \n",
        "- รับ `population` เป็น list of dicts เก็บข้อมูลประชากร `id` เป็นจำนวนเต็ม เก็บเลขประจำตัว และ`radius` เป็น float เก็บรัศมีการระบาด \n",
        "- คืน list of เลขประจำตัวต่าง ๆ ที่ยังไม่ได้รับวัคซีน และอยู่ห่างจากคนที่เลขประจำตัว `id` ในระยะไม่เกิน `radius`\n",
        "- โดยให้เรียงลิสต์ที่คืนตามเลขประจำตัวจากน้อยไปมาก (หากไม่มีข้อมูลอะไรคืนเลย ก็คืนลิสต์ว่าง)\n",
        "\n",
        "เช่น\n",
        "```\n",
        "population = [\n",
        "    {'id': 71380410,\n",
        "    'vaccinated': True,\n",
        "    'coordinate': (142.35632697722804, 233.67679618203823)},\n",
        "    {'id': 85109525,\n",
        "    'vaccinated': False,\n",
        "    'coordinate': (142.62075930591354, 214.76919336251675)},\n",
        "    {'id': 57521675,\n",
        "    'vaccinated': False,\n",
        "    'coordinate': (143.65899867666593, 224.0267344699912)},\n",
        "    {'id': 35373207,\n",
        "    'vaccinated': False,\n",
        "    'coordinate': (144.72263074267343, 217.75509778988294)},\n",
        "    {'id': 96365445,\n",
        "    'vaccinated': False,\n",
        "    'coordinate': (146.76725209497084, 203.64110005292503)}\n",
        "]\n",
        "```\n",
        "```\n",
        "first_hop(population, 85109525, 10) จะคืนค่า\n",
        "[35373207, 57521675]\n",
        "```"
      ]
    },
    {
      "cell_type": "code",
      "execution_count": 60,
      "metadata": {
        "id": "RImqheX1qb_B"
      },
      "outputs": [],
      "source": [
        "# HW5_Infection_Analysis\n",
        "\n",
        "def first_hop(population, id, radius): \n",
        "  people_in_range = []\n",
        "\n",
        "  for unjabbed in get_all_unjabbed_pairs(population, radius):\n",
        "    if id in unjabbed:\n",
        "      people_in_range.append(unjabbed[0] if unjabbed[1] == id else unjabbed[1])\n",
        "  \n",
        "  return people_in_range\n",
        "\n",
        "# expected = [35373207, 57521675]\n",
        "# test(first_hop(population, 85109525, 10), expected)"
      ]
    },
    {
      "cell_type": "markdown",
      "metadata": {
        "id": "-H3kLk2D6_L2"
      },
      "source": [
        "# งานที่ 4 (10 คะแนน)\n",
        "\n",
        "เขียนฟังก์ชัน `get_adjacency_set(pairs)` \n",
        "- รับ `pairs` เป็น list of tuples ซึ่งเก็บข้อมูลในรูปแบบเดียวกับผลที่ได้จากฟังก์ชัน `get_all_unjabbed_pairs` ในงานที่ 2\n",
        "- คืน dict ที่มีเลขประจำตัวทุกหมายเลขใน `pairs` เป็น key โดยที่ value เป็น set ของเลขประจำตัวต่าง ๆ ที่อยู่ในทูเปิลเดียวกับค่า key เช่น\n",
        "\n",
        "\n",
        "เช่น\n",
        "```\n",
        "pairs = [\n",
        "    (35373207, 57521675), \n",
        "    (35373207, 85109525), \n",
        "    (57521675, 85109525)\n",
        "]\n",
        "```\n",
        "```\n",
        "get_adjacency_set(pairs) จะคืนค่า \n",
        "{35373207: {57521675, 85109525}, 57521675: {85109525, 35373207}, 85109525: {57521675, 35373207}}\n",
        "```\n",
        "\n",
        "```\n",
        "get_adjacency_set([(1,2),(1,3),(2,4),(4,5),(7,8)]) จะคืนค่า\n",
        "{1: {2, 3}, 2: {1, 4}, 3: {1}, 4: {2, 5}, 5: {4}, 7: {8}, 8: {7}}\n",
        "```"
      ]
    },
    {
      "cell_type": "code",
      "execution_count": 61,
      "metadata": {
        "id": "e7oyZ2SF79-A"
      },
      "outputs": [],
      "source": [
        "# HW5_Infection_Analysis\n",
        "\n",
        "def get_adjacency_set(pairs):\n",
        "  adjacency_set = dict()\n",
        "  for pair in pairs:\n",
        "    if pair[0] not in adjacency_set:\n",
        "      adjacency_set[pair[0]] = set()\n",
        "    adjacency_set[pair[0]].add(pair[1])\n",
        "\n",
        "    if pair[1] not in adjacency_set:\n",
        "      adjacency_set[pair[1]] = set()\n",
        "    adjacency_set[pair[1]].add(pair[0])\n",
        "\n",
        "  return adjacency_set\n",
        "\n",
        "pairs = [\n",
        "  (35373207, 57521675),\n",
        "  (35373207, 85109525),\n",
        "  (57521675, 85109525)\n",
        "]\n",
        "\n",
        "# test(get_adjacency_set(pairs), {35373207: {57521675, 85109525}, 57521675: {\n",
        "#      85109525, 35373207}, 85109525: {57521675, 35373207}})\n",
        "# test(get_adjacency_set([(1, 2), (1, 3), (2, 4), (4, 5), (7, 8)]), {\n",
        "#      1: {2, 3}, 2: {1, 4}, 3: {1}, 4: {2, 5}, 5: {4}, 7: {8}, 8: {7}})\n"
      ]
    },
    {
      "cell_type": "markdown",
      "metadata": {
        "id": "ZWuD2DxLHhPs"
      },
      "source": [
        "# งานที่ 5 (15 คะแนน)\n",
        "\n",
        "เขียนฟังก์ชัน `get_infectable_ids(pairs, seed)` \n",
        "- รับ `pairs` เป็น list of tuples ซึ่งเก็บข้อมูลในรูปแบบเดียวกับผลที่ได้จากฟังก์ชัน `get_all_unjabbed_pairs` ในงานที่ 2 และ `seed` เป็นจำนวนเต็มเก็บเลขประจำตัว\n",
        "- คืน set ที่เก็บเลขประจำตัวต่าง ๆ ที่โรคสามารถระบาดไปถึงได้ ถ้า `seed` เป็นจุดเริ่มต้นของการระบาด\n",
        "- ให้ใช้ flowchart ด้านล่างนี้เป็นแนวทางการทำงาน รวมถึงการใช้ฟังก์ชันก่อนหน้านี้มาช่วยในการเขียนฟังก์ชั้นนี้\n",
        "\n",
        "<img src='https://www.mycourseville.com/sites/all/modules/courseville/files/ckfinder/userfiles/100006056910939/files/2565_1_HW05_connected_ID_6360c23b59ee6.png' width=250px>\n",
        "\n",
        "เช่น หากคู่เลขประจำตัวต่าง ๆ ที่ยังไม่ได้รับวัคซีน และสามารถแพร่เชื้อถึงกันได้ เป็นดังนี้ \n",
        "```\n",
        "pairs = [(1,2),(1,3),(2,4),(4,5),(7,8)]\n",
        "```\n",
        "<img src='https://www.mycourseville.com/sites/all/modules/courseville/files/ckfinder/userfiles/100006056910939/files/2565_1_HW05_adj_id_6360ca4858fb3.png'>\n",
        "\n",
        "เมื่อเรียก `get_adjacency_set(pairs)` จะได้ dict\n",
        "```\n",
        "{1: {2, 3}, 2: {1, 4}, 3: {1}, 4: {2, 5}, 5: {4}, 7: {8}, 8: {7}}\n",
        "```\n",
        "ที่ทำให้หาได้รวดเร็วว่า เลขประจำตัวใดบ้างที่สามารถรับเชื้อได้จากเลขประจำตัวที่เป็นคีย์ \n",
        "\n",
        "จะได้ว่า \n",
        "```\n",
        "get_infectable_ids(pairs, 2) จะคืนค่า {1, 2, 3, 4, 5}\n",
        "```\n",
        "\n",
        "\n",
        "หมายเหตุ: ตรงส่วนที่เขียนใน flowchart ว่า `append all adjacent ids, which is not in output, of p into f` หมายความว่า ให้ append เลขประจำตัวทั้งหมดที่เชื่อมกับ `p` ลงในลิสต์ `f` โดยต้องเป็นเลขประจำตัวที่ไม่อยู่ใน `output`\n",
        "\n",
        "เช่น ถ้า `p` เก็บค่า 2 ให้นำ 1 กับ 4 (เฉพาะหมายเลขที่ไม่มีมีใน output) ไปเพิ่มต่อท้ายใน `f` \n",
        "\n",
        "ผลลัพธ์ที่ได้จาก flowchart จะเป็นลิสต์ที่เก็บอยู่ในตัวแปร `output` "
      ]
    },
    {
      "cell_type": "code",
      "execution_count": 62,
      "metadata": {
        "id": "_A3rrpBSHP1F"
      },
      "outputs": [],
      "source": [
        "# HW5_Infection_Analysis\n",
        "\n",
        "def get_infectable_ids(pairs,seed):\n",
        "  output = set()\n",
        "  f = [seed]\n",
        "\n",
        "  while len(f) > 0:\n",
        "    p = f.pop(0)\n",
        "    output.add(p)\n",
        "\n",
        "    nearby = get_adjacency_set(pairs)[p]\n",
        "    \n",
        "    for n in nearby:\n",
        "      if n not in output:\n",
        "        f.append(n)\n",
        "  \n",
        "  return output\n",
        "\n",
        "# pairs = [(1,2),(1,3),(2,4),(4,5),(7,8)]\n",
        "# test(get_infectable_ids(pairs, 2), {1, 2, 3, 4, 5})"
      ]
    },
    {
      "cell_type": "markdown",
      "metadata": {
        "id": "0P8QNKGlPq-7"
      },
      "source": [
        "# งานที่ 6 (15 คะแนน)\n",
        "\n",
        "เขียนฟังก์ชัน `get_all_clusters(pairs)` \n",
        "- รับ `pairs` เป็น list of tuples ซึ่งเก็บข้อมูลในรูปแบบเดียวกับผลที่ได้จากฟังก์ชัน `get_all_unjabbed_pairs` ในงานที่ 2\n",
        "- คืน list of sets แทนกลุ่มก้อนการระบาดในแต่ละกลุ่ม แต่ละ set แทนกลุ่มการระบาด  \n",
        "\n",
        "ตัวอย่างเช่น \n",
        "\n",
        "หาก `pairs=[(1,2),(1,3),(2,4),(4,5),(7,8)]` \n",
        "\n",
        "`get_all_clusters(pairs)` จะคืนค่า `[{1, 2, 3, 4, 5}, {7, 8}]`\n"
      ]
    },
    {
      "cell_type": "code",
      "execution_count": 57,
      "metadata": {
        "id": "k75zveo_OAEP"
      },
      "outputs": [
        {
          "name": "stdout",
          "output_type": "stream",
          "text": [
            "Correct!\n"
          ]
        }
      ],
      "source": [
        "# HW5_Infection_Analysis\n",
        "\n",
        "def get_all_clusters(pairs):\n",
        "  clusters = []\n",
        "\n",
        "  while len(pairs) > 0:\n",
        "    cluster = get_infectable_ids(pairs, pairs[0][0])\n",
        "    clusters.append(cluster)\n",
        "    for c in cluster:\n",
        "      for p in pairs:\n",
        "        if c in p:\n",
        "          pairs.remove(p)\n",
        "  \n",
        "  return clusters\n",
        "\n",
        "# pairs = [(1,2),(1,3),(2,4),(4,5),(7,8)]\n",
        "# test(get_all_clusters(pairs), [{1, 2, 3, 4, 5}, {7, 8}])"
      ]
    },
    {
      "cell_type": "markdown",
      "metadata": {
        "id": "VS6_4-Srwv-x"
      },
      "source": [
        "### ลองเล่น ๆ ###\n",
        "\n",
        "หากเขียนฟังก์ชัน 1 และ 2 ถูกต้อง (ไม่เกี่ยวกับการเรียงลำดับ) เมื่อสั่ง run เซลล์ด้านล่างนี้ จะได้รูปที่แสดงเส้นเชื่อมของคู่คนที่ยังไม่ได้รับวัคซีน ดังตัวอย่างรูปด้านล่าง\n",
        "\n",
        "<img src='https://www.mycourseville.com/sites/all/modules/courseville/files/ckfinder/userfiles/100006056910939/files/2565_1_HW05_sample_6360c26284b61.png'>"
      ]
    },
    {
      "cell_type": "code",
      "execution_count": 53,
      "metadata": {
        "cellView": "form",
        "colab": {
          "base_uri": "https://localhost:8080/",
          "height": 265
        },
        "id": "4dH8aHB2p85F",
        "outputId": "70cc4b5d-3f96-45b3-8e52-cb285c74db25"
      },
      "outputs": [
        {
          "name": "stdout",
          "output_type": "stream",
          "text": [
            "[(47442119, 85109525), (10790563, 96365445), (41224698, 96365445), (13880368, 96365445), (57738559, 84419781), (82184386, 84419781), (84419781, 95598806), (78471422, 84419781), (13065093, 29172927), (13065093, 95085939), (13065093, 81132241), (13065093, 20708071), (13065093, 60834413), (13065093, 66681034), (13065093, 59291581), (10790563, 41224698), (10790563, 13880368), (16734940, 87452375), (16158843, 74700954), (25697116, 74700954), (51410600, 74700954), (47882681, 74700954), (29172927, 95085939), (20708071, 29172927), (29172927, 60834413), (57738559, 95598806), (56847580, 88207856), (30293487, 83930383), (13880368, 41224698), (63923084, 86495463), (31690631, 86495463), (12501274, 23714842), (12501274, 41506211), (12501274, 47442119), (75343338, 78010143), (32734324, 78010143), (59088357, 78010143), (35515066, 78010143), (60505105, 78010143), (82184386, 87413218), (22134427, 87413218), (78471422, 87413218), (16158843, 25697116), (16158843, 51410600), (68854526, 94720095), (68854526, 78741153), (10573008, 68854526), (68854526, 97882755), (61701738, 68854526), (43490684, 68854526), (32445212, 94720095), (10573008, 94720095), (61701738, 94720095), (25697116, 51410600), (25697116, 75343338), (81132241, 95085939), (20708071, 95085939), (22134427, 82184386), (78471422, 82184386), (23714842, 51966002), (23714842, 41506211), (23714842, 52044980), (23714842, 40058187), (16239837, 24748497), (23787180, 33152311), (22134427, 78471422), (16146015, 81132241), (59291581, 81132241), (16146015, 16239837), (32734324, 75343338), (59088357, 75343338), (35515066, 75343338), (32734324, 59088357), (32734324, 35515066), (16954439, 47882681), (35515066, 59088357), (78741153, 97882755), (43490684, 78741153), (10573008, 97882755), (10573008, 61701738), (61701738, 97882755), (43490684, 97882755), (51966002, 52044980), (20708071, 60834413), (20708071, 66681034), (60834413, 66681034), (16146015, 43490684), (31690631, 63923084), (41506211, 52044980), (40058187, 41506211), (40058187, 52044980), (35515066, 60505105), (59291581, 66681034)]\n"
          ]
        },
        {
          "data": {
            "image/png": "[encoded data removed]",
            "text/plain": [
              "<Figure size 432x288 with 1 Axes>"
            ]
          },
          "metadata": {
            "needs_background": "light"
          },
          "output_type": "display_data"
        }
      ],
      "source": [
        "#@title\n",
        "n = 100 #@param {type:\"slider\", min:100, max:1000, step:1}\n",
        "vaccinated_percent = 40 #@param {type:\"slider\", min:0, max:100, step:1}\n",
        "\n",
        "import random \n",
        "random.seed(37)\n",
        "import matplotlib.pyplot as plt \n",
        "\n",
        "def show_data(pairs,population_ids):\n",
        "  fig,ax=plt.subplots()\n",
        "  for pair in pairs:\n",
        "    plt.plot([population_ids[pair[0]][0],population_ids[pair[1]][0]],\n",
        "            [population_ids[pair[0]][1],population_ids[pair[1]][1]],'g',alpha=0.4)\n",
        "  ax.set_aspect('equal', 'box')\n",
        "  plt.show()\n",
        "\n",
        "population = [{'id':int(random.random()*(10**8-10**7))+10**7,\\\n",
        "          'vaccinated': True if random.random()<vaccinated_percent/100 else False,\\\n",
        "          'coordinate':(random.random()*20+130,random.random()*40+200)} for i in range(n)]\n",
        "show_data(get_all_unjabbed_pairs(population, 4), get_coordinates(population, False))"
      ]
    }
  ],
  "metadata": {
    "colab": {
      "collapsed_sections": [],
      "provenance": []
    },
    "kernelspec": {
      "display_name": "Python 3.9.10 64-bit",
      "language": "python",
      "name": "python3"
    },
    "language_info": {
      "codemirror_mode": {
        "name": "ipython",
        "version": 3
      },
      "file_extension": ".py",
      "mimetype": "text/x-python",
      "name": "python",
      "nbconvert_exporter": "python",
      "pygments_lexer": "ipython3",
      "version": "3.9.10"
    },
    "vscode": {
      "interpreter": {
        "hash": "b0fa6594d8f4cbf19f97940f81e996739fb7646882a419484c72d19e05852a7e"
      }
    }
  },
  "nbformat": 4,
  "nbformat_minor": 0
}
